{
 "cells": [
  {
   "cell_type": "markdown",
   "metadata": {},
   "source": [
    "<h2 style='color:green' align='center' ><font size=\"5.5\">Classification of Monkeypox VGG16 MODEL - Monkeypox vs Others- Synthetic Data</font></h2>\n"
   ]
  },
  {
   "cell_type": "code",
   "execution_count": 1,
   "metadata": {},
   "outputs": [
    {
     "data": {
      "text/plain": [
       "[PhysicalDevice(name='/physical_device:GPU:0', device_type='GPU')]"
      ]
     },
     "execution_count": 1,
     "metadata": {},
     "output_type": "execute_result"
    }
   ],
   "source": [
    "import tensorflow as tf\n",
    "tf.config.list_physical_devices('GPU')"
   ]
  },
  {
   "cell_type": "code",
   "execution_count": 2,
   "metadata": {},
   "outputs": [
    {
     "name": "stdout",
     "output_type": "stream",
     "text": [
      "WARNING:tensorflow:From <ipython-input-2-a098a5d9a552>:1: is_gpu_available (from tensorflow.python.framework.test_util) is deprecated and will be removed in a future version.\n",
      "Instructions for updating:\n",
      "Use `tf.config.list_physical_devices('GPU')` instead.\n"
     ]
    },
    {
     "data": {
      "text/plain": [
       "True"
      ]
     },
     "execution_count": 2,
     "metadata": {},
     "output_type": "execute_result"
    }
   ],
   "source": [
    "tf.test.is_gpu_available(cuda_only=True)"
   ]
  },
  {
   "cell_type": "markdown",
   "metadata": {},
   "source": [
    "<h2 style='color:gray' ><font size=\"3\">Loading the image set and splits using 70% of the data for training and the remaining 30% for testing</font></h2>\n"
   ]
  },
  {
   "cell_type": "code",
   "execution_count": 3,
   "metadata": {},
   "outputs": [],
   "source": [
    "import os\n",
    "import splitfolders\n",
    "\n",
    "# input_dir = os.path.join(r'D:\\datathon 2022 dataset\\Data')\n",
    "# output_dir = os.path.join(r'D:\\datathon 2022 dataset\\Data_Split')\n",
    "\n",
    "# splitfolders.ratio(input_dir, output=output_dir, seed=1337, ratio=(.7,.3), group_prefix=None)"
   ]
  },
  {
   "cell_type": "code",
   "execution_count": 4,
   "metadata": {},
   "outputs": [],
   "source": [
    "train_dir = os.path.join(r'D:\\datathon 2022 dataset\\Data_Split - Mp vs Others - with synthetic data\\train')\n",
    "test_dir = os.path.join(r'D:\\datathon 2022 dataset\\Data_Split - Mp vs Others - with synthetic data\\val')"
   ]
  },
  {
   "cell_type": "markdown",
   "metadata": {},
   "source": [
    "<h2 style='color:gray' ><font size=\"3\">ImageDataGenerator class which is used to perform image augmentation and flow_from_directory to read the images from a big numpy array and folders containing images.</font></h2>\n"
   ]
  },
  {
   "cell_type": "code",
   "execution_count": 5,
   "metadata": {},
   "outputs": [],
   "source": [
    "from tensorflow.keras.preprocessing.image import ImageDataGenerator\n",
    "\n",
    "def image_generator(train_parent_directory, test_parent_directory):\n",
    "    \n",
    "    train_datagen = ImageDataGenerator(rescale=1/255)\n",
    "    test_datagen = ImageDataGenerator(rescale=1/255)\n",
    "    \n",
    "    train_generator = train_datagen.flow_from_directory(train_parent_directory,\n",
    "                                  target_size = (224, 224),\n",
    "                                  batch_size = 214,\n",
    "                                  class_mode = 'categorical',\n",
    "                                  subset='training')\n",
    " \n",
    "    \n",
    "    test_generator = test_datagen.flow_from_directory(test_parent_directory,\n",
    "                                 target_size=(224, 224),\n",
    "                                 batch_size = 37,\n",
    "                                 class_mode = 'categorical')    \n",
    "    \n",
    "    return train_generator, test_generator"
   ]
  },
  {
   "cell_type": "code",
   "execution_count": 6,
   "metadata": {},
   "outputs": [
    {
     "name": "stdout",
     "output_type": "stream",
     "text": [
      "Found 2196 images belonging to 2 classes.\n",
      "Found 899 images belonging to 2 classes.\n"
     ]
    }
   ],
   "source": [
    "train_generator, test_generator = image_generator(train_dir, test_dir)"
   ]
  },
  {
   "cell_type": "code",
   "execution_count": 7,
   "metadata": {},
   "outputs": [
    {
     "name": "stdout",
     "output_type": "stream",
     "text": [
      "dict_items([(0, 599), (1, 1597)])\n"
     ]
    }
   ],
   "source": [
    "from collections import Counter\n",
    "\n",
    "counter_train = Counter(train_generator.classes)\n",
    "\n",
    "print(counter_train.items())"
   ]
  },
  {
   "cell_type": "code",
   "execution_count": 8,
   "metadata": {},
   "outputs": [
    {
     "name": "stdout",
     "output_type": "stream",
     "text": [
      "dict_items([(0, 211), (1, 688)])\n"
     ]
    }
   ],
   "source": [
    "counter_test = Counter(test_generator.classes)\n",
    "\n",
    "print(counter_test.items()) "
   ]
  },
  {
   "cell_type": "code",
   "execution_count": 9,
   "metadata": {},
   "outputs": [
    {
     "data": {
      "text/plain": [
       "2.838862559241706"
      ]
     },
     "execution_count": 9,
     "metadata": {},
     "output_type": "execute_result"
    }
   ],
   "source": [
    "n = 0\n",
    "counter_train[n]/counter_test[n]"
   ]
  },
  {
   "cell_type": "code",
   "execution_count": 10,
   "metadata": {},
   "outputs": [],
   "source": [
    "classes = ['Moneypox','Others']"
   ]
  },
  {
   "cell_type": "markdown",
   "metadata": {},
   "source": [
    "<h2 style='color:gray' ><font size=\"3\">Preparing traing and testing data sets as X_train,y_train,X_test ,y_test</font></h2>"
   ]
  },
  {
   "cell_type": "code",
   "execution_count": 11,
   "metadata": {},
   "outputs": [],
   "source": [
    "import numpy as np"
   ]
  },
  {
   "cell_type": "code",
   "execution_count": 12,
   "metadata": {},
   "outputs": [],
   "source": [
    "X_train=[]\n",
    "for j in range(len(train_generator)):    \n",
    "    for m in train_generator[j][0]: \n",
    "        X_train.append(m)\n",
    "        "
   ]
  },
  {
   "cell_type": "code",
   "execution_count": 13,
   "metadata": {},
   "outputs": [],
   "source": [
    "y_train=[]\n",
    "for i in range(len(train_generator)):\n",
    "    for k in train_generator[i][1]:  \n",
    "            y_train.append(np.argmax(k))           \n"
   ]
  },
  {
   "cell_type": "code",
   "execution_count": 14,
   "metadata": {},
   "outputs": [],
   "source": [
    "X_test=[]        \n",
    "for j in range(len(test_generator)):    \n",
    "    for m in test_generator[j][0]: \n",
    "        X_test.append(m)"
   ]
  },
  {
   "cell_type": "code",
   "execution_count": 15,
   "metadata": {},
   "outputs": [],
   "source": [
    "y_test=[]\n",
    "for i in range(len(test_generator)):\n",
    "    for k in test_generator[i][1]:  \n",
    "            y_test.append(np.argmax(k))\n",
    "           "
   ]
  },
  {
   "cell_type": "markdown",
   "metadata": {},
   "source": [
    "<h2 style='color:gray' ><font size=\"3\">Converting the feature lists into a NumPy array.</font></h2>"
   ]
  },
  {
   "cell_type": "code",
   "execution_count": 16,
   "metadata": {},
   "outputs": [],
   "source": [
    "X_train=np.array(X_train)\n",
    "y_train=np.array(y_train)\n",
    "\n",
    "X_test=np.array(X_test)\n",
    "y_test=np.array(y_test)"
   ]
  },
  {
   "cell_type": "code",
   "execution_count": 17,
   "metadata": {},
   "outputs": [
    {
     "data": {
      "text/plain": [
       "(2196, 224, 224, 3)"
      ]
     },
     "execution_count": 17,
     "metadata": {},
     "output_type": "execute_result"
    }
   ],
   "source": [
    "X_train.shape"
   ]
  },
  {
   "cell_type": "code",
   "execution_count": 18,
   "metadata": {},
   "outputs": [
    {
     "data": {
      "text/plain": [
       "(2196,)"
      ]
     },
     "execution_count": 18,
     "metadata": {},
     "output_type": "execute_result"
    }
   ],
   "source": [
    "y_train.shape"
   ]
  },
  {
   "cell_type": "code",
   "execution_count": 19,
   "metadata": {},
   "outputs": [
    {
     "data": {
      "text/plain": [
       "(2196,)"
      ]
     },
     "execution_count": 19,
     "metadata": {},
     "output_type": "execute_result"
    }
   ],
   "source": [
    "y_train.shape"
   ]
  },
  {
   "cell_type": "code",
   "execution_count": 20,
   "metadata": {},
   "outputs": [
    {
     "data": {
      "text/plain": [
       "(899,)"
      ]
     },
     "execution_count": 20,
     "metadata": {},
     "output_type": "execute_result"
    }
   ],
   "source": [
    "y_test.shape"
   ]
  },
  {
   "cell_type": "markdown",
   "metadata": {},
   "source": [
    "<h2 style='color:gray' ><font size=\"3\">Ploting sample images using matplotlib.pyplot</font></h2>"
   ]
  },
  {
   "cell_type": "code",
   "execution_count": 21,
   "metadata": {},
   "outputs": [
    {
     "name": "stderr",
     "output_type": "stream",
     "text": [
      "Using TensorFlow backend.\n"
     ]
    }
   ],
   "source": [
    "import keras\n",
    "import matplotlib.pyplot as plt\n",
    "%matplotlib inline"
   ]
  },
  {
   "cell_type": "code",
   "execution_count": 22,
   "metadata": {},
   "outputs": [],
   "source": [
    "def plot_sample(X, y, index):\n",
    "    plt.figure(figsize = (15,2))\n",
    "    plt.imshow(X[index])\n",
    "    plt.xlabel(classes[y[index]])"
   ]
  },
  {
   "cell_type": "code",
   "execution_count": 23,
   "metadata": {},
   "outputs": [
    {
     "data": {
      "image/png": "[encoded data removed]",
      "text/plain": [
       "<Figure size 1080x144 with 1 Axes>"
      ]
     },
     "metadata": {
      "needs_background": "light"
     },
     "output_type": "display_data"
    },
    {
     "data": {
      "image/png": "[encoded data removed]",
      "text/plain": [
       "<Figure size 1080x144 with 1 Axes>"
      ]
     },
     "metadata": {
      "needs_background": "light"
     },
     "output_type": "display_data"
    },
    {
     "data": {
      "image/png": "[encoded data removed]",
      "text/plain": [
       "<Figure size 1080x144 with 1 Axes>"
      ]
     },
     "metadata": {
      "needs_background": "light"
     },
     "output_type": "display_data"
    },
    {
     "data": {
      "image/png": "[encoded data removed]",
      "text/plain": [
       "<Figure size 1080x144 with 1 Axes>"
      ]
     },
     "metadata": {
      "needs_background": "light"
     },
     "output_type": "display_data"
    },
    {
     "data": {
      "image/png": "[encoded data removed]",
      "text/plain": [
       "<Figure size 1080x144 with 1 Axes>"
      ]
     },
     "metadata": {
      "needs_background": "light"
     },
     "output_type": "display_data"
    },
    {
     "data": {
      "image/png": "[encoded data removed]",
      "text/plain": [
       "<Figure size 1080x144 with 1 Axes>"
      ]
     },
     "metadata": {
      "needs_background": "light"
     },
     "output_type": "display_data"
    },
    {
     "data": {
      "image/png": "[encoded data removed]",
      "text/plain": [
       "<Figure size 1080x144 with 1 Axes>"
      ]
     },
     "metadata": {
      "needs_background": "light"
     },
     "output_type": "display_data"
    },
    {
     "data": {
      "image/png": "[encoded data removed]",
      "text/plain": [
       "<Figure size 1080x144 with 1 Axes>"
      ]
     },
     "metadata": {
      "needs_background": "light"
     },
     "output_type": "display_data"
    },
    {
     "data": {
      "image/png": "[encoded data removed]",
      "text/plain": [
       "<Figure size 1080x144 with 1 Axes>"
      ]
     },
     "metadata": {
      "needs_background": "light"
     },
     "output_type": "display_data"
    },
    {
     "data": {
      "image/png": "[encoded data removed]",
      "text/plain": [
       "<Figure size 1080x144 with 1 Axes>"
      ]
     },
     "metadata": {
      "needs_background": "light"
     },
     "output_type": "display_data"
    }
   ],
   "source": [
    "for i in range(10):    \n",
    "    plot_sample(X_train, y_train, i)"
   ]
  },
  {
   "cell_type": "markdown",
   "metadata": {},
   "source": [
    "<h2 style='color:gray' ><font size=\"3\">Creating CNN usinga Sequential model by passing a list of layers to the Sequential constructor.</font></h2>"
   ]
  },
  {
   "cell_type": "code",
   "execution_count": 24,
   "metadata": {},
   "outputs": [],
   "source": [
    "import tensorflow as tf\n",
    "from tensorflow.keras import layers, models"
   ]
  },
  {
   "cell_type": "code",
   "execution_count": 25,
   "metadata": {},
   "outputs": [],
   "source": [
    "from keras.applications import VGG16\n",
    "VGG = VGG16(input_shape=(224,224,3),include_top=False,weights='imagenet')\n",
    "VGG.trainable = False"
   ]
  },
  {
   "cell_type": "code",
   "execution_count": 26,
   "metadata": {},
   "outputs": [],
   "source": [
    "def print_layer_trainable(model):\n",
    "    for layer in model.layers:\n",
    "        print(\"{0}:\\t{1}\".format(layer.trainable, layer.name))"
   ]
  },
  {
   "cell_type": "code",
   "execution_count": 27,
   "metadata": {},
   "outputs": [
    {
     "name": "stdout",
     "output_type": "stream",
     "text": [
      "False:\tinput_1\n",
      "True:\tblock1_conv1\n",
      "True:\tblock1_conv2\n",
      "True:\tblock1_pool\n",
      "True:\tblock2_conv1\n",
      "True:\tblock2_conv2\n",
      "True:\tblock2_pool\n",
      "True:\tblock3_conv1\n",
      "True:\tblock3_conv2\n",
      "True:\tblock3_conv3\n",
      "True:\tblock3_pool\n",
      "True:\tblock4_conv1\n",
      "True:\tblock4_conv2\n",
      "True:\tblock4_conv3\n",
      "True:\tblock4_pool\n",
      "True:\tblock5_conv1\n",
      "True:\tblock5_conv2\n",
      "True:\tblock5_conv3\n",
      "True:\tblock5_pool\n"
     ]
    }
   ],
   "source": [
    "print_layer_trainable(VGG)"
   ]
  },
  {
   "cell_type": "code",
   "execution_count": 28,
   "metadata": {},
   "outputs": [],
   "source": [
    "model = keras.Sequential([\n",
    "    VGG,\n",
    "    keras.layers.Flatten(),\n",
    "    #keras.layers.Dropout(0.5),\n",
    "    #keras.layers.Dense(units=1024,activation=\"relu\"),\n",
    "    #keras.layers.Dropout(0.5),\n",
    "    #keras.layers.Dense(units=1024,activation=\"relu\"),\n",
    "    keras.layers.Dense(units=2,activation=\"softmax\")\n",
    "])\n",
    "opt = keras.optimizers.Adam(learning_rate=0.01)\n",
    "model.compile(optimizer=opt,loss=keras.losses.categorical_crossentropy,metrics=['accuracy'])"
   ]
  },
  {
   "cell_type": "code",
   "execution_count": 29,
   "metadata": {},
   "outputs": [
    {
     "name": "stdout",
     "output_type": "stream",
     "text": [
      "Model: \"sequential_1\"\n",
      "_________________________________________________________________\n",
      "Layer (type)                 Output Shape              Param #   \n",
      "=================================================================\n",
      "vgg16 (Model)                (None, 7, 7, 512)         14714688  \n",
      "_________________________________________________________________\n",
      "flatten_1 (Flatten)          (None, 25088)             0         \n",
      "_________________________________________________________________\n",
      "dense_1 (Dense)              (None, 2)                 50178     \n",
      "=================================================================\n",
      "Total params: 14,764,866\n",
      "Trainable params: 50,178\n",
      "Non-trainable params: 14,714,688\n",
      "_________________________________________________________________\n"
     ]
    }
   ],
   "source": [
    "model.summary()"
   ]
  },
  {
   "cell_type": "code",
   "execution_count": 30,
   "metadata": {},
   "outputs": [],
   "source": [
    "for layer in model.layers[:1]:\n",
    "    layer.trainable = False"
   ]
  },
  {
   "cell_type": "code",
   "execution_count": 31,
   "metadata": {},
   "outputs": [
    {
     "data": {
      "text/plain": [
       "True"
      ]
     },
     "execution_count": 31,
     "metadata": {},
     "output_type": "execute_result"
    }
   ],
   "source": [
    "model.layers[-1].trainable"
   ]
  },
  {
   "cell_type": "code",
   "execution_count": 32,
   "metadata": {},
   "outputs": [
    {
     "name": "stdout",
     "output_type": "stream",
     "text": [
      "False:\tvgg16\n",
      "True:\tflatten_1\n",
      "True:\tdense_1\n"
     ]
    }
   ],
   "source": [
    "print_layer_trainable(model)"
   ]
  },
  {
   "cell_type": "code",
   "execution_count": 33,
   "metadata": {},
   "outputs": [],
   "source": [
    "# cnn = models.Sequential([\n",
    "#     layers.Conv2D(filters=32, kernel_size=(3, 3), activation='relu', input_shape=(75, 75, 3)),\n",
    "#     layers.MaxPooling2D((2, 2)),\n",
    "    \n",
    "#     layers.Conv2D(filters=64, kernel_size=(3, 3), activation='relu'),\n",
    "#     layers.MaxPooling2D((2, 2)),\n",
    "    \n",
    "#     layers.Conv2D(filters=128, kernel_size=(3, 3), activation='relu'),\n",
    "#     layers.MaxPooling2D((2, 2)),\n",
    "    \n",
    "#     layers.Flatten(),\n",
    "#     layers.Dense(64, activation='relu'),\n",
    "#     layers.Dense(8, activation='softmax')\n",
    "# ])"
   ]
  },
  {
   "cell_type": "markdown",
   "metadata": {},
   "source": [
    "<h2 style='color:gray' ><font size=\"3\">Show model summary</font></h2>"
   ]
  },
  {
   "cell_type": "code",
   "execution_count": 34,
   "metadata": {},
   "outputs": [
    {
     "name": "stdout",
     "output_type": "stream",
     "text": [
      "Model: \"sequential_1\"\n",
      "_________________________________________________________________\n",
      "Layer (type)                 Output Shape              Param #   \n",
      "=================================================================\n",
      "vgg16 (Model)                (None, 7, 7, 512)         14714688  \n",
      "_________________________________________________________________\n",
      "flatten_1 (Flatten)          (None, 25088)             0         \n",
      "_________________________________________________________________\n",
      "dense_1 (Dense)              (None, 2)                 50178     \n",
      "=================================================================\n",
      "Total params: 14,764,866\n",
      "Trainable params: 50,178\n",
      "Non-trainable params: 14,714,688\n",
      "_________________________________________________________________\n"
     ]
    }
   ],
   "source": [
    "model.summary()"
   ]
  },
  {
   "cell_type": "markdown",
   "metadata": {},
   "source": [
    "<h2 style='color:gray' ><font size=\"3\"> Complieing the CNN model using Optimizer and loss function before training.</font></h2>"
   ]
  },
  {
   "cell_type": "code",
   "execution_count": 35,
   "metadata": {},
   "outputs": [],
   "source": [
    "# cnn.compile(optimizer='Adam',\n",
    "#               loss='sparse_categorical_crossentropy',\n",
    "#               metrics=['accuracy'])"
   ]
  },
  {
   "cell_type": "code",
   "execution_count": 36,
   "metadata": {},
   "outputs": [],
   "source": [
    "y_train_org = y_train.copy()\n",
    "y_test_org = y_test.copy()"
   ]
  },
  {
   "cell_type": "code",
   "execution_count": 37,
   "metadata": {},
   "outputs": [],
   "source": [
    "from keras.utils import to_categorical\n",
    "y_train = to_categorical(y_train)\n",
    "y_test = to_categorical(y_test)"
   ]
  },
  {
   "cell_type": "markdown",
   "metadata": {},
   "source": [
    "<h2 style='color:gray' ><font size=\"3\">Fitting the dataset to train</font></h2>"
   ]
  },
  {
   "cell_type": "code",
   "execution_count": 38,
   "metadata": {
    "scrolled": true
   },
   "outputs": [
    {
     "name": "stdout",
     "output_type": "stream",
     "text": [
      "Epoch 1/16\n",
      "2196/2196 [==============================] - 23s 11ms/step - loss: 2.0211 - accuracy: 0.7928\n",
      "Epoch 2/16\n",
      "2196/2196 [==============================] - 16s 7ms/step - loss: 0.5482 - accuracy: 0.8966\n",
      "Epoch 3/16\n",
      "2196/2196 [==============================] - 16s 7ms/step - loss: 0.1603 - accuracy: 0.9577\n",
      "Epoch 4/16\n",
      "2196/2196 [==============================] - 16s 7ms/step - loss: 0.1992 - accuracy: 0.9536\n",
      "Epoch 5/16\n",
      "2196/2196 [==============================] - 16s 7ms/step - loss: 0.4179 - accuracy: 0.9240\n",
      "Epoch 6/16\n",
      "2196/2196 [==============================] - 16s 7ms/step - loss: 0.3005 - accuracy: 0.9476\n",
      "Epoch 7/16\n",
      "2196/2196 [==============================] - 16s 7ms/step - loss: 0.1305 - accuracy: 0.9745\n",
      "Epoch 8/16\n",
      "2196/2196 [==============================] - 16s 7ms/step - loss: 0.0653 - accuracy: 0.9822\n",
      "Epoch 9/16\n",
      "2196/2196 [==============================] - 16s 7ms/step - loss: 0.0449 - accuracy: 0.9854\n",
      "Epoch 10/16\n",
      "2196/2196 [==============================] - 16s 7ms/step - loss: 0.0217 - accuracy: 0.9936\n",
      "Epoch 11/16\n",
      "2196/2196 [==============================] - 16s 7ms/step - loss: 0.0601 - accuracy: 0.9813\n",
      "Epoch 12/16\n",
      "2196/2196 [==============================] - 16s 7ms/step - loss: 0.0197 - accuracy: 0.9932\n",
      "Epoch 13/16\n",
      "2196/2196 [==============================] - 16s 7ms/step - loss: 0.0045 - accuracy: 0.9986\n",
      "Epoch 14/16\n",
      "2196/2196 [==============================] - 16s 7ms/step - loss: 0.0030 - accuracy: 0.9982\n",
      "Epoch 15/16\n",
      "2196/2196 [==============================] - 16s 7ms/step - loss: 0.0037 - accuracy: 0.9986\n",
      "Epoch 16/16\n",
      "2196/2196 [==============================] - 16s 7ms/step - loss: 0.0210 - accuracy: 0.9918\n"
     ]
    }
   ],
   "source": [
    "history=model.fit(X_train, y_train, epochs=16)"
   ]
  },
  {
   "cell_type": "markdown",
   "metadata": {},
   "source": [
    "<h2 style='color:gray' ><font size=\"3\">Finding  model accuracy </font></h2>"
   ]
  },
  {
   "cell_type": "code",
   "execution_count": 39,
   "metadata": {},
   "outputs": [
    {
     "name": "stdout",
     "output_type": "stream",
     "text": [
      "899/899 [==============================] - 8s 9ms/step\n",
      "\n",
      "Model Accuracy = 88.8765275478363 %\n"
     ]
    }
   ],
   "source": [
    "accuracy=model.evaluate(X_test,y_test)[1]\n",
    "print(\"\\nModel Accuracy =\", (accuracy * 100.0),\"%\") "
   ]
  },
  {
   "cell_type": "code",
   "execution_count": 40,
   "metadata": {},
   "outputs": [
    {
     "name": "stdout",
     "output_type": "stream",
     "text": [
      "F-Measure: 0.760\n"
     ]
    }
   ],
   "source": [
    "# calculates f1 for 1:100 dataset with 95tp, 5fn, 55fp\n",
    "from sklearn.metrics import f1_score\n",
    "# define actual\n",
    "act_pos = [1 for _ in range(100)]\n",
    "act_neg = [0 for _ in range(10000)]\n",
    "y_true = act_pos + act_neg\n",
    "# define predictions\n",
    "pred_pos = [0 for _ in range(5)] + [1 for _ in range(95)]\n",
    "pred_neg = [1 for _ in range(55)] + [0 for _ in range(9945)]\n",
    "y_pred = pred_pos + pred_neg\n",
    "# calculate score\n",
    "score = f1_score(y_true, y_pred, average='binary')\n",
    "print('F-Measure: %.3f' % score)"
   ]
  },
  {
   "cell_type": "code",
   "execution_count": 41,
   "metadata": {},
   "outputs": [],
   "source": [
    "# loading multiple images\n",
    "image = X_train[0].copy()\n",
    "image1 = X_train[4].copy()\n",
    "image2 = X_train[6].copy()"
   ]
  },
  {
   "cell_type": "code",
   "execution_count": 49,
   "metadata": {},
   "outputs": [
    {
     "name": "stdout",
     "output_type": "stream",
     "text": [
      "ERROR! Session/line number was not unique in database. History logging moved to new session 2324\n"
     ]
    }
   ],
   "source": [
    "from skimage import io"
   ]
  },
  {
   "cell_type": "code",
   "execution_count": 60,
   "metadata": {},
   "outputs": [
    {
     "name": "stdout",
     "output_type": "stream",
     "text": [
      "ERROR! Session/line number was not unique in database. History logging moved to new session 2330\n"
     ]
    }
   ],
   "source": [
    "def veiw_saliency_map_for_binary_classification_model(url, the_class):\n",
    "    \n",
    "    #The image needs to be preprocessed before being fed to the model\n",
    "    \n",
    "    # read the image\n",
    "    img = io.imread(url)\n",
    "\n",
    "    # resize to 300x300 and normalize pixel values to be in the range [0, 1]\n",
    "    img = cv2.resize(img, (300, 300)) / 255.0\n",
    "\n",
    "    # add a batch dimension in front\n",
    "    image = np.expand_dims(img, axis=0)\n",
    "    #------------------------------------------------------------------------\n",
    "    # compute the gradient of the loss with respect to the input image,\n",
    "    # this should tell us how the loss value changes with respect to\n",
    "    # a small change in input image pixels\n",
    "    \n",
    "    expected_output = tf.constant(the_class, shape=(1, 1))\n",
    "    with tf.GradientTape() as tape:\n",
    "        # cast image to float\n",
    "        inputs = tf.cast(image, tf.float32)\n",
    "\n",
    "        # watch the input pixels\n",
    "        tape.watch(inputs)\n",
    "\n",
    "        # generate the predictions\n",
    "        predictions = model(inputs)\n",
    "\n",
    "        # get the loss\n",
    "        loss = tf.keras.losses.binary_crossentropy(\n",
    "            expected_output, predictions\n",
    "        )\n",
    "\n",
    "    # get the gradient with respect to the inputs\n",
    "    gradients = tape.gradient(loss, inputs)\n",
    "    # The gradient tells us how much the categorical loss changes when the input change,\n",
    "    #also it can indicate when certain parts of the input image have a\n",
    "    #significat effect on the categorical prediction\n",
    "    #------------------------------------------------------------------------\n",
    "    # reduce the RGB image to grayscale\n",
    "    grayscale_tensor = tf.reduce_sum(tf.abs(gradients), axis=-1)\n",
    "\n",
    "    # normalize the pixel values to be in the range [0, 255].\n",
    "    # the max value in the grayscale tensor will be pushed to 255.\n",
    "    # the min value will be pushed to 0.\n",
    "    normalized_tensor = tf.cast(\n",
    "        255\n",
    "        * (grayscale_tensor - tf.reduce_min(grayscale_tensor))\n",
    "        / (tf.reduce_max(grayscale_tensor) - tf.reduce_min(grayscale_tensor)),\n",
    "        tf.uint8,\n",
    "    )\n",
    "\n",
    "    # remove the channel dimension to make the tensor a 2d tensor\n",
    "    normalized_tensor = tf.squeeze(normalized_tensor)\n",
    "    #------------------------------------------------------------------------\n",
    "    gradient_color = cv2.applyColorMap(normalized_tensor.numpy(), cv2.COLORMAP_HOT)\n",
    "    gradient_color = gradient_color / 255.0\n",
    "    super_imposed = cv2.addWeighted(img, 0.5, gradient_color, 0.5, 0.0)\n",
    "\n",
    "    plt.figure(figsize=(8, 8))\n",
    "    plt.imshow(super_imposed)\n",
    "    plt.axis('off')\n",
    "    plt.show()"
   ]
  },
  {
   "cell_type": "code",
   "execution_count": null,
   "metadata": {},
   "outputs": [
    {
     "name": "stderr",
     "output_type": "stream",
     "text": [
      "ERROR:root:Internal Python error in the inspect module.\n",
      "Below is the traceback from this internal error.\n",
      "\n",
      "ERROR:root:Internal Python error in the inspect module.\n",
      "Below is the traceback from this internal error.\n",
      "\n",
      "ERROR:root:Internal Python error in the inspect module.\n",
      "Below is the traceback from this internal error.\n",
      "\n"
     ]
    },
    {
     "name": "stdout",
     "output_type": "stream",
     "text": [
      "Traceback (most recent call last):\n",
      "  File \"C:\\Users\\Vipooshan\\anaconda3\\envs\\GPU\\lib\\site-packages\\IPython\\core\\interactiveshell.py\", line 3418, in run_code\n",
      "    exec(code_obj, self.user_global_ns, self.user_ns)\n",
      "  File \"<ipython-input-61-668fdfd6fc1d>\", line 2, in <module>\n",
      "    veiw_saliency_map_for_binary_classification_model(url, 0)\n",
      "  File \"<ipython-input-60-757b2364e4f1>\", line 6, in veiw_saliency_map_for_binary_classification_model\n",
      "    img = io.imread(url)\n",
      "  File \"C:\\Users\\Vipooshan\\anaconda3\\envs\\GPU\\lib\\site-packages\\skimage\\io\\_io.py\", line 53, in imread\n",
      "    img = call_plugin('imread', fname, plugin=plugin, **plugin_args)\n",
      "  File \"C:\\Users\\Vipooshan\\anaconda3\\envs\\GPU\\lib\\site-packages\\skimage\\io\\manage_plugins.py\", line 207, in call_plugin\n",
      "    return func(*args, **kwargs)\n",
      "  File \"C:\\Users\\Vipooshan\\anaconda3\\envs\\GPU\\lib\\site-packages\\skimage\\io\\_plugins\\imageio_plugin.py\", line 15, in imread\n",
      "    return np.asarray(imageio_imread(*args, **kwargs))\n",
      "  File \"C:\\Users\\Vipooshan\\anaconda3\\envs\\GPU\\lib\\site-packages\\imageio\\v2.py\", line 226, in imread\n",
      "    with imopen(uri, \"ri\", **imopen_args) as file:\n",
      "  File \"C:\\Users\\Vipooshan\\anaconda3\\envs\\GPU\\lib\\site-packages\\imageio\\core\\imopen.py\", line 113, in imopen\n",
      "    request = Request(uri, io_mode, format_hint=format_hint, extension=extension)\n",
      "  File \"C:\\Users\\Vipooshan\\anaconda3\\envs\\GPU\\lib\\site-packages\\imageio\\core\\request.py\", line 248, in __init__\n",
      "    self._parse_uri(uri)\n",
      "  File \"C:\\Users\\Vipooshan\\anaconda3\\envs\\GPU\\lib\\site-packages\\imageio\\core\\request.py\", line 408, in _parse_uri\n",
      "    raise FileNotFoundError(\"No such file: '%s'\" % fn)\n",
      "FileNotFoundError: No such file: 'D:\\datathon 2022 dataset\\Data_Split - Mp vs Others - with synthetic data\\train\\Moneypox_13'\n",
      "\n",
      "During handling of the above exception, another exception occurred:\n",
      "\n",
      "Traceback (most recent call last):\n",
      "  File \"C:\\Users\\Vipooshan\\anaconda3\\envs\\GPU\\lib\\site-packages\\IPython\\core\\interactiveshell.py\", line 2045, in showtraceback\n",
      "    stb = value._render_traceback_()\n",
      "AttributeError: 'FileNotFoundError' object has no attribute '_render_traceback_'\n",
      "\n",
      "During handling of the above exception, another exception occurred:\n",
      "\n",
      "Traceback (most recent call last):\n",
      "  File \"C:\\Users\\Vipooshan\\anaconda3\\envs\\GPU\\lib\\site-packages\\IPython\\core\\ultratb.py\", line 1170, in get_records\n",
      "    return _fixed_getinnerframes(etb, number_of_lines_of_context, tb_offset)\n",
      "  File \"C:\\Users\\Vipooshan\\anaconda3\\envs\\GPU\\lib\\site-packages\\IPython\\core\\ultratb.py\", line 316, in wrapped\n",
      "    return f(*args, **kwargs)\n",
      "  File \"C:\\Users\\Vipooshan\\anaconda3\\envs\\GPU\\lib\\site-packages\\IPython\\core\\ultratb.py\", line 350, in _fixed_getinnerframes\n",
      "    records = fix_frame_records_filenames(inspect.getinnerframes(etb, context))\n",
      "  File \"C:\\Users\\Vipooshan\\anaconda3\\envs\\GPU\\lib\\inspect.py\", line 1502, in getinnerframes\n",
      "    frameinfo = (tb.tb_frame,) + getframeinfo(tb, context)\n",
      "  File \"C:\\Users\\Vipooshan\\anaconda3\\envs\\GPU\\lib\\inspect.py\", line 1460, in getframeinfo\n",
      "    filename = getsourcefile(frame) or getfile(frame)\n",
      "  File \"C:\\Users\\Vipooshan\\anaconda3\\envs\\GPU\\lib\\inspect.py\", line 696, in getsourcefile\n",
      "    if getattr(getmodule(object, filename), '__loader__', None) is not None:\n",
      "  File \"C:\\Users\\Vipooshan\\anaconda3\\envs\\GPU\\lib\\inspect.py\", line 733, in getmodule\n",
      "    if ismodule(module) and hasattr(module, '__file__'):\n",
      "  File \"C:\\Users\\Vipooshan\\anaconda3\\envs\\GPU\\lib\\site-packages\\tensorflow\\__init__.py\", line 50, in __getattr__\n",
      "    module = self._load()\n",
      "  File \"C:\\Users\\Vipooshan\\anaconda3\\envs\\GPU\\lib\\site-packages\\tensorflow\\__init__.py\", line 44, in _load\n",
      "    module = _importlib.import_module(self.__name__)\n",
      "  File \"C:\\Users\\Vipooshan\\anaconda3\\envs\\GPU\\lib\\importlib\\__init__.py\", line 127, in import_module\n",
      "    return _bootstrap._gcd_import(name[level:], package, level)\n",
      "  File \"<frozen importlib._bootstrap>\", line 1006, in _gcd_import\n",
      "  File \"<frozen importlib._bootstrap>\", line 983, in _find_and_load\n",
      "  File \"<frozen importlib._bootstrap>\", line 965, in _find_and_load_unlocked\n",
      "ModuleNotFoundError: No module named 'tensorflow_core.estimator'\n",
      "ERROR! Session/line number was not unique in database. History logging moved to new session 2332\n",
      "Traceback (most recent call last):\n",
      "  File \"C:\\Users\\Vipooshan\\anaconda3\\envs\\GPU\\lib\\site-packages\\IPython\\core\\interactiveshell.py\", line 3418, in run_code\n",
      "    exec(code_obj, self.user_global_ns, self.user_ns)\n",
      "  File \"<ipython-input-61-668fdfd6fc1d>\", line 2, in <module>\n",
      "    veiw_saliency_map_for_binary_classification_model(url, 0)\n",
      "  File \"<ipython-input-60-757b2364e4f1>\", line 6, in veiw_saliency_map_for_binary_classification_model\n",
      "    img = io.imread(url)\n",
      "  File \"C:\\Users\\Vipooshan\\anaconda3\\envs\\GPU\\lib\\site-packages\\skimage\\io\\_io.py\", line 53, in imread\n",
      "    img = call_plugin('imread', fname, plugin=plugin, **plugin_args)\n",
      "  File \"C:\\Users\\Vipooshan\\anaconda3\\envs\\GPU\\lib\\site-packages\\skimage\\io\\manage_plugins.py\", line 207, in call_plugin\n",
      "    return func(*args, **kwargs)\n",
      "  File \"C:\\Users\\Vipooshan\\anaconda3\\envs\\GPU\\lib\\site-packages\\skimage\\io\\_plugins\\imageio_plugin.py\", line 15, in imread\n",
      "    return np.asarray(imageio_imread(*args, **kwargs))\n",
      "  File \"C:\\Users\\Vipooshan\\anaconda3\\envs\\GPU\\lib\\site-packages\\imageio\\v2.py\", line 226, in imread\n",
      "    with imopen(uri, \"ri\", **imopen_args) as file:\n",
      "  File \"C:\\Users\\Vipooshan\\anaconda3\\envs\\GPU\\lib\\site-packages\\imageio\\core\\imopen.py\", line 113, in imopen\n",
      "    request = Request(uri, io_mode, format_hint=format_hint, extension=extension)\n",
      "  File \"C:\\Users\\Vipooshan\\anaconda3\\envs\\GPU\\lib\\site-packages\\imageio\\core\\request.py\", line 248, in __init__\n",
      "    self._parse_uri(uri)\n",
      "  File \"C:\\Users\\Vipooshan\\anaconda3\\envs\\GPU\\lib\\site-packages\\imageio\\core\\request.py\", line 408, in _parse_uri\n",
      "    raise FileNotFoundError(\"No such file: '%s'\" % fn)\n",
      "FileNotFoundError: No such file: 'D:\\datathon 2022 dataset\\Data_Split - Mp vs Others - with synthetic data\\train\\Moneypox_13'\n",
      "\n",
      "During handling of the above exception, another exception occurred:\n",
      "\n",
      "Traceback (most recent call last):\n",
      "  File \"C:\\Users\\Vipooshan\\anaconda3\\envs\\GPU\\lib\\site-packages\\IPython\\core\\interactiveshell.py\", line 2045, in showtraceback\n",
      "    stb = value._render_traceback_()\n",
      "AttributeError: 'FileNotFoundError' object has no attribute '_render_traceback_'\n",
      "\n",
      "During handling of the above exception, another exception occurred:\n",
      "\n",
      "Traceback (most recent call last):\n",
      "  File \"C:\\Users\\Vipooshan\\anaconda3\\envs\\GPU\\lib\\site-packages\\IPython\\core\\interactiveshell.py\", line 3338, in run_ast_nodes\n",
      "    if (await self.run_code(code, result,  async_=asy)):\n",
      "  File \"C:\\Users\\Vipooshan\\anaconda3\\envs\\GPU\\lib\\site-packages\\IPython\\core\\interactiveshell.py\", line 3435, in run_code\n",
      "    self.showtraceback(running_compiled_code=True)\n",
      "  File \"C:\\Users\\Vipooshan\\anaconda3\\envs\\GPU\\lib\\site-packages\\IPython\\core\\interactiveshell.py\", line 2048, in showtraceback\n",
      "    value, tb, tb_offset=tb_offset)\n",
      "  File \"C:\\Users\\Vipooshan\\anaconda3\\envs\\GPU\\lib\\site-packages\\IPython\\core\\ultratb.py\", line 1437, in structured_traceback\n",
      "    self, etype, value, tb, tb_offset, number_of_lines_of_context)\n",
      "  File \"C:\\Users\\Vipooshan\\anaconda3\\envs\\GPU\\lib\\site-packages\\IPython\\core\\ultratb.py\", line 1337, in structured_traceback\n",
      "    self, etype, value, tb, tb_offset, number_of_lines_of_context\n",
      "  File \"C:\\Users\\Vipooshan\\anaconda3\\envs\\GPU\\lib\\site-packages\\IPython\\core\\ultratb.py\", line 1194, in structured_traceback\n",
      "    tb_offset)\n",
      "  File \"C:\\Users\\Vipooshan\\anaconda3\\envs\\GPU\\lib\\site-packages\\IPython\\core\\ultratb.py\", line 1151, in format_exception_as_a_whole\n",
      "    last_unique, recursion_repeat = find_recursion(orig_etype, evalue, records)\n",
      "  File \"C:\\Users\\Vipooshan\\anaconda3\\envs\\GPU\\lib\\site-packages\\IPython\\core\\ultratb.py\", line 451, in find_recursion\n",
      "    return len(records), 0\n",
      "TypeError: object of type 'NoneType' has no len()\n",
      "\n",
      "During handling of the above exception, another exception occurred:\n",
      "\n",
      "Traceback (most recent call last):\n",
      "  File \"C:\\Users\\Vipooshan\\anaconda3\\envs\\GPU\\lib\\site-packages\\IPython\\core\\interactiveshell.py\", line 2045, in showtraceback\n",
      "    stb = value._render_traceback_()\n",
      "AttributeError: 'TypeError' object has no attribute '_render_traceback_'\n",
      "\n",
      "During handling of the above exception, another exception occurred:\n",
      "\n",
      "Traceback (most recent call last):\n",
      "  File \"C:\\Users\\Vipooshan\\anaconda3\\envs\\GPU\\lib\\site-packages\\IPython\\core\\ultratb.py\", line 1170, in get_records\n",
      "    return _fixed_getinnerframes(etb, number_of_lines_of_context, tb_offset)\n",
      "  File \"C:\\Users\\Vipooshan\\anaconda3\\envs\\GPU\\lib\\site-packages\\IPython\\core\\ultratb.py\", line 316, in wrapped\n",
      "    return f(*args, **kwargs)\n",
      "  File \"C:\\Users\\Vipooshan\\anaconda3\\envs\\GPU\\lib\\site-packages\\IPython\\core\\ultratb.py\", line 350, in _fixed_getinnerframes\n",
      "    records = fix_frame_records_filenames(inspect.getinnerframes(etb, context))\n",
      "  File \"C:\\Users\\Vipooshan\\anaconda3\\envs\\GPU\\lib\\inspect.py\", line 1502, in getinnerframes\n",
      "    frameinfo = (tb.tb_frame,) + getframeinfo(tb, context)\n",
      "  File \"C:\\Users\\Vipooshan\\anaconda3\\envs\\GPU\\lib\\inspect.py\", line 1460, in getframeinfo\n",
      "    filename = getsourcefile(frame) or getfile(frame)\n",
      "  File \"C:\\Users\\Vipooshan\\anaconda3\\envs\\GPU\\lib\\inspect.py\", line 696, in getsourcefile\n",
      "    if getattr(getmodule(object, filename), '__loader__', None) is not None:\n",
      "  File \"C:\\Users\\Vipooshan\\anaconda3\\envs\\GPU\\lib\\inspect.py\", line 733, in getmodule\n",
      "    if ismodule(module) and hasattr(module, '__file__'):\n",
      "  File \"C:\\Users\\Vipooshan\\anaconda3\\envs\\GPU\\lib\\site-packages\\tensorflow\\__init__.py\", line 50, in __getattr__\n",
      "    module = self._load()\n",
      "  File \"C:\\Users\\Vipooshan\\anaconda3\\envs\\GPU\\lib\\site-packages\\tensorflow\\__init__.py\", line 44, in _load\n",
      "    module = _importlib.import_module(self.__name__)\n",
      "  File \"C:\\Users\\Vipooshan\\anaconda3\\envs\\GPU\\lib\\importlib\\__init__.py\", line 127, in import_module\n",
      "    return _bootstrap._gcd_import(name[level:], package, level)\n",
      "  File \"<frozen importlib._bootstrap>\", line 1006, in _gcd_import\n",
      "  File \"<frozen importlib._bootstrap>\", line 983, in _find_and_load\n",
      "  File \"<frozen importlib._bootstrap>\", line 965, in _find_and_load_unlocked\n",
      "ModuleNotFoundError: No module named 'tensorflow_core.estimator'\n",
      "Traceback (most recent call last):\n",
      "  File \"C:\\Users\\Vipooshan\\anaconda3\\envs\\GPU\\lib\\site-packages\\IPython\\core\\interactiveshell.py\", line 3418, in run_code\n",
      "    exec(code_obj, self.user_global_ns, self.user_ns)\n",
      "  File \"<ipython-input-61-668fdfd6fc1d>\", line 2, in <module>\n",
      "    veiw_saliency_map_for_binary_classification_model(url, 0)\n",
      "  File \"<ipython-input-60-757b2364e4f1>\", line 6, in veiw_saliency_map_for_binary_classification_model\n",
      "    img = io.imread(url)\n",
      "  File \"C:\\Users\\Vipooshan\\anaconda3\\envs\\GPU\\lib\\site-packages\\skimage\\io\\_io.py\", line 53, in imread\n",
      "    img = call_plugin('imread', fname, plugin=plugin, **plugin_args)\n",
      "  File \"C:\\Users\\Vipooshan\\anaconda3\\envs\\GPU\\lib\\site-packages\\skimage\\io\\manage_plugins.py\", line 207, in call_plugin\n",
      "    return func(*args, **kwargs)\n",
      "  File \"C:\\Users\\Vipooshan\\anaconda3\\envs\\GPU\\lib\\site-packages\\skimage\\io\\_plugins\\imageio_plugin.py\", line 15, in imread\n",
      "    return np.asarray(imageio_imread(*args, **kwargs))\n",
      "  File \"C:\\Users\\Vipooshan\\anaconda3\\envs\\GPU\\lib\\site-packages\\imageio\\v2.py\", line 226, in imread\n",
      "    with imopen(uri, \"ri\", **imopen_args) as file:\n",
      "  File \"C:\\Users\\Vipooshan\\anaconda3\\envs\\GPU\\lib\\site-packages\\imageio\\core\\imopen.py\", line 113, in imopen\n",
      "    request = Request(uri, io_mode, format_hint=format_hint, extension=extension)\n",
      "  File \"C:\\Users\\Vipooshan\\anaconda3\\envs\\GPU\\lib\\site-packages\\imageio\\core\\request.py\", line 248, in __init__\n",
      "    self._parse_uri(uri)\n",
      "  File \"C:\\Users\\Vipooshan\\anaconda3\\envs\\GPU\\lib\\site-packages\\imageio\\core\\request.py\", line 408, in _parse_uri\n",
      "    raise FileNotFoundError(\"No such file: '%s'\" % fn)\n",
      "FileNotFoundError: No such file: 'D:\\datathon 2022 dataset\\Data_Split - Mp vs Others - with synthetic data\\train\\Moneypox_13'\n",
      "\n",
      "During handling of the above exception, another exception occurred:\n",
      "\n",
      "Traceback (most recent call last):\n",
      "  File \"C:\\Users\\Vipooshan\\anaconda3\\envs\\GPU\\lib\\site-packages\\IPython\\core\\interactiveshell.py\", line 2045, in showtraceback\n",
      "    stb = value._render_traceback_()\n",
      "AttributeError: 'FileNotFoundError' object has no attribute '_render_traceback_'\n",
      "\n",
      "During handling of the above exception, another exception occurred:\n",
      "\n",
      "Traceback (most recent call last):\n",
      "  File \"C:\\Users\\Vipooshan\\anaconda3\\envs\\GPU\\lib\\site-packages\\IPython\\core\\interactiveshell.py\", line 3338, in run_ast_nodes\n",
      "    if (await self.run_code(code, result,  async_=asy)):\n",
      "  File \"C:\\Users\\Vipooshan\\anaconda3\\envs\\GPU\\lib\\site-packages\\IPython\\core\\interactiveshell.py\", line 3435, in run_code\n",
      "    self.showtraceback(running_compiled_code=True)\n",
      "  File \"C:\\Users\\Vipooshan\\anaconda3\\envs\\GPU\\lib\\site-packages\\IPython\\core\\interactiveshell.py\", line 2048, in showtraceback\n",
      "    value, tb, tb_offset=tb_offset)\n",
      "  File \"C:\\Users\\Vipooshan\\anaconda3\\envs\\GPU\\lib\\site-packages\\IPython\\core\\ultratb.py\", line 1437, in structured_traceback\n",
      "    self, etype, value, tb, tb_offset, number_of_lines_of_context)\n",
      "  File \"C:\\Users\\Vipooshan\\anaconda3\\envs\\GPU\\lib\\site-packages\\IPython\\core\\ultratb.py\", line 1337, in structured_traceback\n",
      "    self, etype, value, tb, tb_offset, number_of_lines_of_context\n",
      "  File \"C:\\Users\\Vipooshan\\anaconda3\\envs\\GPU\\lib\\site-packages\\IPython\\core\\ultratb.py\", line 1194, in structured_traceback\n",
      "    tb_offset)\n",
      "  File \"C:\\Users\\Vipooshan\\anaconda3\\envs\\GPU\\lib\\site-packages\\IPython\\core\\ultratb.py\", line 1151, in format_exception_as_a_whole\n",
      "    last_unique, recursion_repeat = find_recursion(orig_etype, evalue, records)\n",
      "  File \"C:\\Users\\Vipooshan\\anaconda3\\envs\\GPU\\lib\\site-packages\\IPython\\core\\ultratb.py\", line 451, in find_recursion\n",
      "    return len(records), 0\n",
      "TypeError: object of type 'NoneType' has no len()\n",
      "\n",
      "During handling of the above exception, another exception occurred:\n",
      "\n",
      "Traceback (most recent call last):\n",
      "  File \"C:\\Users\\Vipooshan\\anaconda3\\envs\\GPU\\lib\\site-packages\\IPython\\core\\interactiveshell.py\", line 2045, in showtraceback\n",
      "    stb = value._render_traceback_()\n",
      "AttributeError: 'TypeError' object has no attribute '_render_traceback_'\n",
      "\n",
      "During handling of the above exception, another exception occurred:\n",
      "\n",
      "Traceback (most recent call last):\n",
      "  File \"C:\\Users\\Vipooshan\\anaconda3\\envs\\GPU\\lib\\site-packages\\IPython\\core\\interactiveshell.py\", line 2923, in _run_cell\n",
      "    return runner(coro)\n",
      "  File \"C:\\Users\\Vipooshan\\anaconda3\\envs\\GPU\\lib\\site-packages\\IPython\\core\\async_helpers.py\", line 68, in _pseudo_sync_runner\n",
      "    coro.send(None)\n",
      "  File \"C:\\Users\\Vipooshan\\anaconda3\\envs\\GPU\\lib\\site-packages\\IPython\\core\\interactiveshell.py\", line 3147, in run_cell_async\n",
      "    interactivity=interactivity, compiler=compiler, result=result)\n",
      "  File \"C:\\Users\\Vipooshan\\anaconda3\\envs\\GPU\\lib\\site-packages\\IPython\\core\\interactiveshell.py\", line 3357, in run_ast_nodes\n",
      "    self.showtraceback()\n",
      "  File \"C:\\Users\\Vipooshan\\anaconda3\\envs\\GPU\\lib\\site-packages\\IPython\\core\\interactiveshell.py\", line 2048, in showtraceback\n",
      "    value, tb, tb_offset=tb_offset)\n",
      "  File \"C:\\Users\\Vipooshan\\anaconda3\\envs\\GPU\\lib\\site-packages\\IPython\\core\\ultratb.py\", line 1437, in structured_traceback\n",
      "    self, etype, value, tb, tb_offset, number_of_lines_of_context)\n",
      "  File \"C:\\Users\\Vipooshan\\anaconda3\\envs\\GPU\\lib\\site-packages\\IPython\\core\\ultratb.py\", line 1337, in structured_traceback\n",
      "    self, etype, value, tb, tb_offset, number_of_lines_of_context\n",
      "  File \"C:\\Users\\Vipooshan\\anaconda3\\envs\\GPU\\lib\\site-packages\\IPython\\core\\ultratb.py\", line 1212, in structured_traceback\n",
      "    chained_exceptions_tb_offset)\n",
      "  File \"C:\\Users\\Vipooshan\\anaconda3\\envs\\GPU\\lib\\site-packages\\IPython\\core\\ultratb.py\", line 1151, in format_exception_as_a_whole\n",
      "    last_unique, recursion_repeat = find_recursion(orig_etype, evalue, records)\n",
      "  File \"C:\\Users\\Vipooshan\\anaconda3\\envs\\GPU\\lib\\site-packages\\IPython\\core\\ultratb.py\", line 451, in find_recursion\n",
      "    return len(records), 0\n",
      "TypeError: object of type 'NoneType' has no len()\n",
      "\n",
      "During handling of the above exception, another exception occurred:\n",
      "\n",
      "Traceback (most recent call last):\n",
      "  File \"C:\\Users\\Vipooshan\\anaconda3\\envs\\GPU\\lib\\site-packages\\IPython\\core\\interactiveshell.py\", line 2045, in showtraceback\n",
      "    stb = value._render_traceback_()\n",
      "AttributeError: 'TypeError' object has no attribute '_render_traceback_'\n",
      "\n",
      "During handling of the above exception, another exception occurred:\n",
      "\n",
      "Traceback (most recent call last):\n",
      "  File \"C:\\Users\\Vipooshan\\anaconda3\\envs\\GPU\\lib\\site-packages\\IPython\\core\\ultratb.py\", line 1170, in get_records\n",
      "    return _fixed_getinnerframes(etb, number_of_lines_of_context, tb_offset)\n",
      "  File \"C:\\Users\\Vipooshan\\anaconda3\\envs\\GPU\\lib\\site-packages\\IPython\\core\\ultratb.py\", line 316, in wrapped\n",
      "    return f(*args, **kwargs)\n",
      "  File \"C:\\Users\\Vipooshan\\anaconda3\\envs\\GPU\\lib\\site-packages\\IPython\\core\\ultratb.py\", line 350, in _fixed_getinnerframes\n",
      "    records = fix_frame_records_filenames(inspect.getinnerframes(etb, context))\n",
      "  File \"C:\\Users\\Vipooshan\\anaconda3\\envs\\GPU\\lib\\inspect.py\", line 1502, in getinnerframes\n",
      "    frameinfo = (tb.tb_frame,) + getframeinfo(tb, context)\n",
      "  File \"C:\\Users\\Vipooshan\\anaconda3\\envs\\GPU\\lib\\inspect.py\", line 1460, in getframeinfo\n",
      "    filename = getsourcefile(frame) or getfile(frame)\n",
      "  File \"C:\\Users\\Vipooshan\\anaconda3\\envs\\GPU\\lib\\inspect.py\", line 696, in getsourcefile\n",
      "    if getattr(getmodule(object, filename), '__loader__', None) is not None:\n",
      "  File \"C:\\Users\\Vipooshan\\anaconda3\\envs\\GPU\\lib\\inspect.py\", line 733, in getmodule\n",
      "    if ismodule(module) and hasattr(module, '__file__'):\n",
      "  File \"C:\\Users\\Vipooshan\\anaconda3\\envs\\GPU\\lib\\site-packages\\tensorflow\\__init__.py\", line 50, in __getattr__\n",
      "    module = self._load()\n",
      "  File \"C:\\Users\\Vipooshan\\anaconda3\\envs\\GPU\\lib\\site-packages\\tensorflow\\__init__.py\", line 44, in _load\n",
      "    module = _importlib.import_module(self.__name__)\n",
      "  File \"C:\\Users\\Vipooshan\\anaconda3\\envs\\GPU\\lib\\importlib\\__init__.py\", line 127, in import_module\n",
      "    return _bootstrap._gcd_import(name[level:], package, level)\n",
      "  File \"<frozen importlib._bootstrap>\", line 1006, in _gcd_import\n",
      "  File \"<frozen importlib._bootstrap>\", line 983, in _find_and_load\n",
      "  File \"<frozen importlib._bootstrap>\", line 965, in _find_and_load_unlocked\n",
      "ModuleNotFoundError: No module named 'tensorflow_core.estimator'\n"
     ]
    }
   ],
   "source": [
    "url = r'D:\\datathon 2022 dataset\\Data_Split - Mp vs Others - with synthetic data\\train\\Moneypox_13.jpg'\n",
    "veiw_saliency_map_for_binary_classification_model(url, 0)"
   ]
  },
  {
   "cell_type": "code",
   "execution_count": null,
   "metadata": {},
   "outputs": [],
   "source": []
  },
  {
   "cell_type": "code",
   "execution_count": null,
   "metadata": {},
   "outputs": [],
   "source": [
    "label_csv = pd.read_csv(\"/content/drive/MyDrive/root/dev/dog-breed/labels.csv\")\n",
    "labels = label_csv['breed'].to_numpy()\n",
    "unique_breeds = np.unique(labels)\n",
    "unique_breeds[:10], len(unique_breeds) # 120 breed in total"
   ]
  },
  {
   "cell_type": "code",
   "execution_count": null,
   "metadata": {},
   "outputs": [],
   "source": [
    "# checking models input/output in detail\n",
    "from keras.utils.vis_utils import plot_model\n",
    "\n",
    "plot_model(model, show_shapes=True, show_layer_names=True)"
   ]
  },
  {
   "cell_type": "code",
   "execution_count": null,
   "metadata": {},
   "outputs": [],
   "source": [
    "# get training data summary\n",
    "train_path = 'drive/MyDrive/root/dev/dog-breed/train/'\n",
    "# note that training file path order should match to the label csv!\n",
    "train_image_paths = [train_path + fname + \".jpg\" for fname in label_csv['id']]\n",
    "boolean_labels = [label == unique_breeds for label in labels]\n",
    "\n",
    "# take only 100 sample as prediction will take forever on whole data set\n",
    "train_image_paths = train_image_paths[:100]\n",
    "boolean_labels = boolean_labels[:100]\n",
    "\n",
    "X = train_image_paths\n",
    "y = boolean_labels\n",
    "\n",
    "len(X), len(y)"
   ]
  },
  {
   "cell_type": "code",
   "execution_count": null,
   "metadata": {},
   "outputs": [],
   "source": [
    "# checking train image and its label\n",
    "i = 44\n",
    "print(unique_breeds[np.argmax(y[i])])\n",
    "Image(X[i])"
   ]
  },
  {
   "cell_type": "code",
   "execution_count": null,
   "metadata": {},
   "outputs": [],
   "source": [
    "BATCH_SIZE = 32\n",
    "IMG_SIZE = 224 # resizing size\n",
    "\n",
    "def process_image(image_path, img_size=IMG_SIZE):\n",
    "    \"\"\"\n",
    "    Takes an image file path and turns into resized tensor\n",
    "    \"\"\"\n",
    "    # load image and convert into tensor\n",
    "    image = tf.io.read_file(image_path)\n",
    "    image = tf.image.decode_jpeg(image, channels=3)\n",
    "    # normalize cell's value to 0-1\n",
    "    image = tf.image.convert_image_dtype(image, tf.float32)\n",
    "    image = tf.image.resize(image, size=[IMG_SIZE, IMG_SIZE])\n",
    "\n",
    "    return image\n",
    "\n",
    "def get_image_label(image_path, label):\n",
    "    \"\"\"\n",
    "    Takes image path and its label,\n",
    "    process image and return with label as tuple (image, label) \n",
    "    \"\"\"\n",
    "    image = process_image(image_path)\n",
    "    return image, label\n",
    "\n",
    "def img_array_to_batch(img_array):\n",
    "    \"\"\"\n",
    "    Takes numpy image array [224, 224, 3], \n",
    "    and convert into tensor batch\n",
    "    \"\"\"\n",
    "    data_batch = tf.data.Dataset.from_tensor_slices(tf.constant([img_array])).batch(BATCH_SIZE)\n",
    "    return data_batch\n",
    "\n",
    "def create_data_batches(X, y=None, batch_size=BATCH_SIZE, valid_data=False, test_data=False):\n",
    "    \"\"\"\n",
    "    Create batches of data out of image (X) and label (y) pairs.\n",
    "    Shuffles the data if it's training data but doens't shuffle if it's validation data.\n",
    "    Also accept test data as input (no label).\n",
    "    \"\"\"\n",
    "    # if data is a test data we don't have label\n",
    "    if test_data:\n",
    "        print('creating test data batches ...')\n",
    "        data = tf.data.Dataset.from_tensor_slices((tf.constant(X))) # only file path (no labels)\n",
    "        # tf batch doc: https://www.tensorflow.org/api_docs/python/tf/data/Dataset#batch\n",
    "        data_batch = data.map(process_image).batch(BATCH_SIZE)\n",
    "        return data_batch\n",
    "\n",
    "    # for validation set, no need to shuffle\n",
    "    elif valid_data:\n",
    "        print('creating validation data batches ...')\n",
    "        data = tf.data.Dataset.from_tensor_slices((tf.constant(X), # file path\n",
    "                                                   tf.constant(y))) # labels\n",
    "        \n",
    "        data_batch = data.map(get_image_label).batch(BATCH_SIZE)\n",
    "        return data_batch\n",
    "\n",
    "    # for training set\n",
    "    else:\n",
    "        print('creating training data batches ...')\n",
    "        data = tf.data.Dataset.from_tensor_slices((tf.constant(X), # file path\n",
    "                                                   tf.constant(y))) # labels\n",
    "\n",
    "\n",
    "        # shuffling pathnames and lables before mapping image processor function\n",
    "        # (shuffling path name is easier than shuffling entire images tensor)\n",
    "        data = data.shuffle(buffer_size=len(X))\n",
    "        data = data.map(get_image_label)\n",
    "        data_batch = data.batch(BATCH_SIZE)\n",
    "        return data_batch\n",
    "\n",
    "def unbatchify(batched_data, label=False):\n",
    "    \"\"\"\n",
    "    Takes batched data and unbatch it, then return the lists of features and labels\n",
    "    \"\"\"\n",
    "    if label:\n",
    "        features = []\n",
    "        labels = []\n",
    "\n",
    "        # loop through unbatched data\n",
    "        for featire, label in batched_data.unbatch().as_numpy_iterator():\n",
    "            features.append(featire)\n",
    "            labels.append(unique_breeds[np.argmax(label)])\n",
    "        return features, labels\n",
    "\n",
    "    else:\n",
    "        features = []\n",
    "        for featire in batched_data.unbatch().as_numpy_iterator():\n",
    "            features.append(featire)\n",
    "        return features"
   ]
  },
  {
   "cell_type": "code",
   "execution_count": null,
   "metadata": {},
   "outputs": [],
   "source": [
    "# printing test image\n",
    "i = 44\n",
    "test_image_path = X[i]\n",
    "# true_label = unique_breeds[np.argmax(y[i])] # with label\n",
    "true_label = 'unknown' # without label\n",
    "\n",
    "print(true_label)\n",
    "Image(test_image_path)"
   ]
  },
  {
   "cell_type": "code",
   "execution_count": null,
   "metadata": {},
   "outputs": [],
   "source": []
  },
  {
   "cell_type": "code",
   "execution_count": null,
   "metadata": {},
   "outputs": [],
   "source": []
  },
  {
   "cell_type": "code",
   "execution_count": null,
   "metadata": {},
   "outputs": [
    {
     "name": "stderr",
     "output_type": "stream",
     "text": [
      "ERROR:root:Internal Python error in the inspect module.\n",
      "Below is the traceback from this internal error.\n",
      "\n",
      "ERROR:root:Internal Python error in the inspect module.\n",
      "Below is the traceback from this internal error.\n",
      "\n",
      "ERROR:root:Internal Python error in the inspect module.\n",
      "Below is the traceback from this internal error.\n",
      "\n"
     ]
    },
    {
     "name": "stdout",
     "output_type": "stream",
     "text": [
      "Traceback (most recent call last):\n",
      "  File \"C:\\Users\\Vipooshan\\anaconda3\\envs\\GPU\\lib\\site-packages\\IPython\\core\\interactiveshell.py\", line 3418, in run_code\n",
      "    exec(code_obj, self.user_global_ns, self.user_ns)\n",
      "  File \"<ipython-input-48-acaa1366a5fa>\", line 1, in <module>\n",
      "    img_idx = plot_features_map(img_idx)\n",
      "NameError: name 'plot_features_map' is not defined\n",
      "\n",
      "During handling of the above exception, another exception occurred:\n",
      "\n",
      "Traceback (most recent call last):\n",
      "  File \"C:\\Users\\Vipooshan\\anaconda3\\envs\\GPU\\lib\\site-packages\\IPython\\core\\interactiveshell.py\", line 2045, in showtraceback\n",
      "    stb = value._render_traceback_()\n",
      "AttributeError: 'NameError' object has no attribute '_render_traceback_'\n",
      "\n",
      "During handling of the above exception, another exception occurred:\n",
      "\n",
      "Traceback (most recent call last):\n",
      "  File \"C:\\Users\\Vipooshan\\anaconda3\\envs\\GPU\\lib\\site-packages\\IPython\\core\\ultratb.py\", line 1170, in get_records\n",
      "    return _fixed_getinnerframes(etb, number_of_lines_of_context, tb_offset)\n",
      "  File \"C:\\Users\\Vipooshan\\anaconda3\\envs\\GPU\\lib\\site-packages\\IPython\\core\\ultratb.py\", line 316, in wrapped\n",
      "    return f(*args, **kwargs)\n",
      "  File \"C:\\Users\\Vipooshan\\anaconda3\\envs\\GPU\\lib\\site-packages\\IPython\\core\\ultratb.py\", line 350, in _fixed_getinnerframes\n",
      "    records = fix_frame_records_filenames(inspect.getinnerframes(etb, context))\n",
      "  File \"C:\\Users\\Vipooshan\\anaconda3\\envs\\GPU\\lib\\inspect.py\", line 1502, in getinnerframes\n",
      "    frameinfo = (tb.tb_frame,) + getframeinfo(tb, context)\n",
      "  File \"C:\\Users\\Vipooshan\\anaconda3\\envs\\GPU\\lib\\inspect.py\", line 1460, in getframeinfo\n",
      "    filename = getsourcefile(frame) or getfile(frame)\n",
      "  File \"C:\\Users\\Vipooshan\\anaconda3\\envs\\GPU\\lib\\inspect.py\", line 696, in getsourcefile\n",
      "    if getattr(getmodule(object, filename), '__loader__', None) is not None:\n",
      "  File \"C:\\Users\\Vipooshan\\anaconda3\\envs\\GPU\\lib\\inspect.py\", line 733, in getmodule\n",
      "    if ismodule(module) and hasattr(module, '__file__'):\n",
      "  File \"C:\\Users\\Vipooshan\\anaconda3\\envs\\GPU\\lib\\site-packages\\tensorflow\\__init__.py\", line 50, in __getattr__\n",
      "    module = self._load()\n",
      "  File \"C:\\Users\\Vipooshan\\anaconda3\\envs\\GPU\\lib\\site-packages\\tensorflow\\__init__.py\", line 44, in _load\n",
      "    module = _importlib.import_module(self.__name__)\n",
      "  File \"C:\\Users\\Vipooshan\\anaconda3\\envs\\GPU\\lib\\importlib\\__init__.py\", line 127, in import_module\n",
      "    return _bootstrap._gcd_import(name[level:], package, level)\n",
      "  File \"<frozen importlib._bootstrap>\", line 1006, in _gcd_import\n",
      "  File \"<frozen importlib._bootstrap>\", line 983, in _find_and_load\n",
      "  File \"<frozen importlib._bootstrap>\", line 965, in _find_and_load_unlocked\n",
      "ModuleNotFoundError: No module named 'tensorflow_core.estimator'\n",
      "ERROR! Session/line number was not unique in database. History logging moved to new session 2322\n",
      "Traceback (most recent call last):\n",
      "  File \"C:\\Users\\Vipooshan\\anaconda3\\envs\\GPU\\lib\\site-packages\\IPython\\core\\interactiveshell.py\", line 3418, in run_code\n",
      "    exec(code_obj, self.user_global_ns, self.user_ns)\n",
      "  File \"<ipython-input-48-acaa1366a5fa>\", line 1, in <module>\n",
      "    img_idx = plot_features_map(img_idx)\n",
      "NameError: name 'plot_features_map' is not defined\n",
      "\n",
      "During handling of the above exception, another exception occurred:\n",
      "\n",
      "Traceback (most recent call last):\n",
      "  File \"C:\\Users\\Vipooshan\\anaconda3\\envs\\GPU\\lib\\site-packages\\IPython\\core\\interactiveshell.py\", line 2045, in showtraceback\n",
      "    stb = value._render_traceback_()\n",
      "AttributeError: 'NameError' object has no attribute '_render_traceback_'\n",
      "\n",
      "During handling of the above exception, another exception occurred:\n",
      "\n",
      "Traceback (most recent call last):\n",
      "  File \"C:\\Users\\Vipooshan\\anaconda3\\envs\\GPU\\lib\\site-packages\\IPython\\core\\interactiveshell.py\", line 3338, in run_ast_nodes\n",
      "    if (await self.run_code(code, result,  async_=asy)):\n",
      "  File \"C:\\Users\\Vipooshan\\anaconda3\\envs\\GPU\\lib\\site-packages\\IPython\\core\\interactiveshell.py\", line 3435, in run_code\n",
      "    self.showtraceback(running_compiled_code=True)\n",
      "  File \"C:\\Users\\Vipooshan\\anaconda3\\envs\\GPU\\lib\\site-packages\\IPython\\core\\interactiveshell.py\", line 2048, in showtraceback\n",
      "    value, tb, tb_offset=tb_offset)\n",
      "  File \"C:\\Users\\Vipooshan\\anaconda3\\envs\\GPU\\lib\\site-packages\\IPython\\core\\ultratb.py\", line 1437, in structured_traceback\n",
      "    self, etype, value, tb, tb_offset, number_of_lines_of_context)\n",
      "  File \"C:\\Users\\Vipooshan\\anaconda3\\envs\\GPU\\lib\\site-packages\\IPython\\core\\ultratb.py\", line 1337, in structured_traceback\n",
      "    self, etype, value, tb, tb_offset, number_of_lines_of_context\n",
      "  File \"C:\\Users\\Vipooshan\\anaconda3\\envs\\GPU\\lib\\site-packages\\IPython\\core\\ultratb.py\", line 1194, in structured_traceback\n",
      "    tb_offset)\n",
      "  File \"C:\\Users\\Vipooshan\\anaconda3\\envs\\GPU\\lib\\site-packages\\IPython\\core\\ultratb.py\", line 1151, in format_exception_as_a_whole\n",
      "    last_unique, recursion_repeat = find_recursion(orig_etype, evalue, records)\n",
      "  File \"C:\\Users\\Vipooshan\\anaconda3\\envs\\GPU\\lib\\site-packages\\IPython\\core\\ultratb.py\", line 451, in find_recursion\n",
      "    return len(records), 0\n",
      "TypeError: object of type 'NoneType' has no len()\n",
      "\n",
      "During handling of the above exception, another exception occurred:\n",
      "\n",
      "Traceback (most recent call last):\n",
      "  File \"C:\\Users\\Vipooshan\\anaconda3\\envs\\GPU\\lib\\site-packages\\IPython\\core\\interactiveshell.py\", line 2045, in showtraceback\n",
      "    stb = value._render_traceback_()\n",
      "AttributeError: 'TypeError' object has no attribute '_render_traceback_'\n",
      "\n",
      "During handling of the above exception, another exception occurred:\n",
      "\n",
      "Traceback (most recent call last):\n",
      "  File \"C:\\Users\\Vipooshan\\anaconda3\\envs\\GPU\\lib\\site-packages\\IPython\\core\\ultratb.py\", line 1170, in get_records\n",
      "    return _fixed_getinnerframes(etb, number_of_lines_of_context, tb_offset)\n",
      "  File \"C:\\Users\\Vipooshan\\anaconda3\\envs\\GPU\\lib\\site-packages\\IPython\\core\\ultratb.py\", line 316, in wrapped\n",
      "    return f(*args, **kwargs)\n",
      "  File \"C:\\Users\\Vipooshan\\anaconda3\\envs\\GPU\\lib\\site-packages\\IPython\\core\\ultratb.py\", line 350, in _fixed_getinnerframes\n",
      "    records = fix_frame_records_filenames(inspect.getinnerframes(etb, context))\n",
      "  File \"C:\\Users\\Vipooshan\\anaconda3\\envs\\GPU\\lib\\inspect.py\", line 1502, in getinnerframes\n",
      "    frameinfo = (tb.tb_frame,) + getframeinfo(tb, context)\n",
      "  File \"C:\\Users\\Vipooshan\\anaconda3\\envs\\GPU\\lib\\inspect.py\", line 1460, in getframeinfo\n",
      "    filename = getsourcefile(frame) or getfile(frame)\n",
      "  File \"C:\\Users\\Vipooshan\\anaconda3\\envs\\GPU\\lib\\inspect.py\", line 696, in getsourcefile\n",
      "    if getattr(getmodule(object, filename), '__loader__', None) is not None:\n",
      "  File \"C:\\Users\\Vipooshan\\anaconda3\\envs\\GPU\\lib\\inspect.py\", line 733, in getmodule\n",
      "    if ismodule(module) and hasattr(module, '__file__'):\n",
      "  File \"C:\\Users\\Vipooshan\\anaconda3\\envs\\GPU\\lib\\site-packages\\tensorflow\\__init__.py\", line 50, in __getattr__\n",
      "    module = self._load()\n",
      "  File \"C:\\Users\\Vipooshan\\anaconda3\\envs\\GPU\\lib\\site-packages\\tensorflow\\__init__.py\", line 44, in _load\n",
      "    module = _importlib.import_module(self.__name__)\n",
      "  File \"C:\\Users\\Vipooshan\\anaconda3\\envs\\GPU\\lib\\importlib\\__init__.py\", line 127, in import_module\n",
      "    return _bootstrap._gcd_import(name[level:], package, level)\n",
      "  File \"<frozen importlib._bootstrap>\", line 1006, in _gcd_import\n",
      "  File \"<frozen importlib._bootstrap>\", line 983, in _find_and_load\n",
      "  File \"<frozen importlib._bootstrap>\", line 965, in _find_and_load_unlocked\n",
      "ModuleNotFoundError: No module named 'tensorflow_core.estimator'\n",
      "Traceback (most recent call last):\n",
      "  File \"C:\\Users\\Vipooshan\\anaconda3\\envs\\GPU\\lib\\site-packages\\IPython\\core\\interactiveshell.py\", line 3418, in run_code\n",
      "    exec(code_obj, self.user_global_ns, self.user_ns)\n",
      "  File \"<ipython-input-48-acaa1366a5fa>\", line 1, in <module>\n",
      "    img_idx = plot_features_map(img_idx)\n",
      "NameError: name 'plot_features_map' is not defined\n",
      "\n",
      "During handling of the above exception, another exception occurred:\n",
      "\n",
      "Traceback (most recent call last):\n",
      "  File \"C:\\Users\\Vipooshan\\anaconda3\\envs\\GPU\\lib\\site-packages\\IPython\\core\\interactiveshell.py\", line 2045, in showtraceback\n",
      "    stb = value._render_traceback_()\n",
      "AttributeError: 'NameError' object has no attribute '_render_traceback_'\n",
      "\n",
      "During handling of the above exception, another exception occurred:\n",
      "\n",
      "Traceback (most recent call last):\n",
      "  File \"C:\\Users\\Vipooshan\\anaconda3\\envs\\GPU\\lib\\site-packages\\IPython\\core\\interactiveshell.py\", line 3338, in run_ast_nodes\n",
      "    if (await self.run_code(code, result,  async_=asy)):\n",
      "  File \"C:\\Users\\Vipooshan\\anaconda3\\envs\\GPU\\lib\\site-packages\\IPython\\core\\interactiveshell.py\", line 3435, in run_code\n",
      "    self.showtraceback(running_compiled_code=True)\n",
      "  File \"C:\\Users\\Vipooshan\\anaconda3\\envs\\GPU\\lib\\site-packages\\IPython\\core\\interactiveshell.py\", line 2048, in showtraceback\n",
      "    value, tb, tb_offset=tb_offset)\n",
      "  File \"C:\\Users\\Vipooshan\\anaconda3\\envs\\GPU\\lib\\site-packages\\IPython\\core\\ultratb.py\", line 1437, in structured_traceback\n",
      "    self, etype, value, tb, tb_offset, number_of_lines_of_context)\n",
      "  File \"C:\\Users\\Vipooshan\\anaconda3\\envs\\GPU\\lib\\site-packages\\IPython\\core\\ultratb.py\", line 1337, in structured_traceback\n",
      "    self, etype, value, tb, tb_offset, number_of_lines_of_context\n",
      "  File \"C:\\Users\\Vipooshan\\anaconda3\\envs\\GPU\\lib\\site-packages\\IPython\\core\\ultratb.py\", line 1194, in structured_traceback\n",
      "    tb_offset)\n",
      "  File \"C:\\Users\\Vipooshan\\anaconda3\\envs\\GPU\\lib\\site-packages\\IPython\\core\\ultratb.py\", line 1151, in format_exception_as_a_whole\n",
      "    last_unique, recursion_repeat = find_recursion(orig_etype, evalue, records)\n",
      "  File \"C:\\Users\\Vipooshan\\anaconda3\\envs\\GPU\\lib\\site-packages\\IPython\\core\\ultratb.py\", line 451, in find_recursion\n",
      "    return len(records), 0\n",
      "TypeError: object of type 'NoneType' has no len()\n",
      "\n",
      "During handling of the above exception, another exception occurred:\n",
      "\n",
      "Traceback (most recent call last):\n",
      "  File \"C:\\Users\\Vipooshan\\anaconda3\\envs\\GPU\\lib\\site-packages\\IPython\\core\\interactiveshell.py\", line 2045, in showtraceback\n",
      "    stb = value._render_traceback_()\n",
      "AttributeError: 'TypeError' object has no attribute '_render_traceback_'\n",
      "\n",
      "During handling of the above exception, another exception occurred:\n",
      "\n",
      "Traceback (most recent call last):\n",
      "  File \"C:\\Users\\Vipooshan\\anaconda3\\envs\\GPU\\lib\\site-packages\\IPython\\core\\interactiveshell.py\", line 2923, in _run_cell\n",
      "    return runner(coro)\n",
      "  File \"C:\\Users\\Vipooshan\\anaconda3\\envs\\GPU\\lib\\site-packages\\IPython\\core\\async_helpers.py\", line 68, in _pseudo_sync_runner\n",
      "    coro.send(None)\n",
      "  File \"C:\\Users\\Vipooshan\\anaconda3\\envs\\GPU\\lib\\site-packages\\IPython\\core\\interactiveshell.py\", line 3147, in run_cell_async\n",
      "    interactivity=interactivity, compiler=compiler, result=result)\n",
      "  File \"C:\\Users\\Vipooshan\\anaconda3\\envs\\GPU\\lib\\site-packages\\IPython\\core\\interactiveshell.py\", line 3357, in run_ast_nodes\n",
      "    self.showtraceback()\n",
      "  File \"C:\\Users\\Vipooshan\\anaconda3\\envs\\GPU\\lib\\site-packages\\IPython\\core\\interactiveshell.py\", line 2048, in showtraceback\n",
      "    value, tb, tb_offset=tb_offset)\n",
      "  File \"C:\\Users\\Vipooshan\\anaconda3\\envs\\GPU\\lib\\site-packages\\IPython\\core\\ultratb.py\", line 1437, in structured_traceback\n",
      "    self, etype, value, tb, tb_offset, number_of_lines_of_context)\n",
      "  File \"C:\\Users\\Vipooshan\\anaconda3\\envs\\GPU\\lib\\site-packages\\IPython\\core\\ultratb.py\", line 1337, in structured_traceback\n",
      "    self, etype, value, tb, tb_offset, number_of_lines_of_context\n",
      "  File \"C:\\Users\\Vipooshan\\anaconda3\\envs\\GPU\\lib\\site-packages\\IPython\\core\\ultratb.py\", line 1212, in structured_traceback\n",
      "    chained_exceptions_tb_offset)\n",
      "  File \"C:\\Users\\Vipooshan\\anaconda3\\envs\\GPU\\lib\\site-packages\\IPython\\core\\ultratb.py\", line 1151, in format_exception_as_a_whole\n",
      "    last_unique, recursion_repeat = find_recursion(orig_etype, evalue, records)\n",
      "  File \"C:\\Users\\Vipooshan\\anaconda3\\envs\\GPU\\lib\\site-packages\\IPython\\core\\ultratb.py\", line 451, in find_recursion\n",
      "    return len(records), 0\n",
      "TypeError: object of type 'NoneType' has no len()\n",
      "\n",
      "During handling of the above exception, another exception occurred:\n",
      "\n",
      "Traceback (most recent call last):\n",
      "  File \"C:\\Users\\Vipooshan\\anaconda3\\envs\\GPU\\lib\\site-packages\\IPython\\core\\interactiveshell.py\", line 2045, in showtraceback\n",
      "    stb = value._render_traceback_()\n",
      "AttributeError: 'TypeError' object has no attribute '_render_traceback_'\n",
      "\n",
      "During handling of the above exception, another exception occurred:\n",
      "\n",
      "Traceback (most recent call last):\n",
      "  File \"C:\\Users\\Vipooshan\\anaconda3\\envs\\GPU\\lib\\site-packages\\IPython\\core\\ultratb.py\", line 1170, in get_records\n",
      "    return _fixed_getinnerframes(etb, number_of_lines_of_context, tb_offset)\n",
      "  File \"C:\\Users\\Vipooshan\\anaconda3\\envs\\GPU\\lib\\site-packages\\IPython\\core\\ultratb.py\", line 316, in wrapped\n",
      "    return f(*args, **kwargs)\n",
      "  File \"C:\\Users\\Vipooshan\\anaconda3\\envs\\GPU\\lib\\site-packages\\IPython\\core\\ultratb.py\", line 350, in _fixed_getinnerframes\n",
      "    records = fix_frame_records_filenames(inspect.getinnerframes(etb, context))\n",
      "  File \"C:\\Users\\Vipooshan\\anaconda3\\envs\\GPU\\lib\\inspect.py\", line 1502, in getinnerframes\n",
      "    frameinfo = (tb.tb_frame,) + getframeinfo(tb, context)\n",
      "  File \"C:\\Users\\Vipooshan\\anaconda3\\envs\\GPU\\lib\\inspect.py\", line 1460, in getframeinfo\n",
      "    filename = getsourcefile(frame) or getfile(frame)\n",
      "  File \"C:\\Users\\Vipooshan\\anaconda3\\envs\\GPU\\lib\\inspect.py\", line 696, in getsourcefile\n",
      "    if getattr(getmodule(object, filename), '__loader__', None) is not None:\n",
      "  File \"C:\\Users\\Vipooshan\\anaconda3\\envs\\GPU\\lib\\inspect.py\", line 733, in getmodule\n",
      "    if ismodule(module) and hasattr(module, '__file__'):\n",
      "  File \"C:\\Users\\Vipooshan\\anaconda3\\envs\\GPU\\lib\\site-packages\\tensorflow\\__init__.py\", line 50, in __getattr__\n",
      "    module = self._load()\n",
      "  File \"C:\\Users\\Vipooshan\\anaconda3\\envs\\GPU\\lib\\site-packages\\tensorflow\\__init__.py\", line 44, in _load\n",
      "    module = _importlib.import_module(self.__name__)\n",
      "  File \"C:\\Users\\Vipooshan\\anaconda3\\envs\\GPU\\lib\\importlib\\__init__.py\", line 127, in import_module\n",
      "    return _bootstrap._gcd_import(name[level:], package, level)\n",
      "  File \"<frozen importlib._bootstrap>\", line 1006, in _gcd_import\n",
      "  File \"<frozen importlib._bootstrap>\", line 983, in _find_and_load\n",
      "  File \"<frozen importlib._bootstrap>\", line 965, in _find_and_load_unlocked\n",
      "ModuleNotFoundError: No module named 'tensorflow_core.estimator'\n"
     ]
    }
   ],
   "source": [
    "img_idx = plot_features_map(img_idx)\n",
    "grads = visualize_saliency(model, -1, filter_indices=y_train[0][0], \n",
    "                           seed_input=X_train[0], backprop_modifier=None,\n",
    "                           grad_modifier=\"absolute\")\n",
    "predicted_label = labels[np.argmax(cnn.predict(X_train[0].reshape(1,32,32,3)),1)[0]]\n",
    "fig, ax = plt.subplots(1,2, figsize=(10,5))\n",
    "ax[0].imshow(x_test[img_idx])\n",
    "ax[0].set_title('original img id {} - {}'.format(img_idx, labels[ytest[img_idx][0]]))\n",
    "ax[1].imshow(grads, cmap='jet')\n",
    "ax[1].set_title('saliency - predicted {}'.format(predicted_label))"
   ]
  },
  {
   "cell_type": "code",
   "execution_count": null,
   "metadata": {},
   "outputs": [
    {
     "name": "stderr",
     "output_type": "stream",
     "text": [
      "ERROR:root:Internal Python error in the inspect module.\n",
      "Below is the traceback from this internal error.\n",
      "\n",
      "ERROR:root:Internal Python error in the inspect module.\n",
      "Below is the traceback from this internal error.\n",
      "\n",
      "ERROR:root:Internal Python error in the inspect module.\n",
      "Below is the traceback from this internal error.\n",
      "\n"
     ]
    },
    {
     "name": "stdout",
     "output_type": "stream",
     "text": [
      "Traceback (most recent call last):\n",
      "  File \"C:\\Users\\Vipooshan\\anaconda3\\envs\\GPU\\lib\\site-packages\\IPython\\core\\interactiveshell.py\", line 3418, in run_code\n",
      "    exec(code_obj, self.user_global_ns, self.user_ns)\n",
      "  File \"<ipython-input-48-f9cfb8fc2528>\", line 3, in <module>\n",
      "    from vis.visualization import visualize_saliency\n",
      "  File \"C:\\Users\\Vipooshan\\anaconda3\\envs\\GPU\\lib\\site-packages\\vis\\visualization\\__init__.py\", line 7, in <module>\n",
      "    from .saliency import visualize_saliency_with_losses\n",
      "  File \"C:\\Users\\Vipooshan\\anaconda3\\envs\\GPU\\lib\\site-packages\\vis\\visualization\\saliency.py\", line 5, in <module>\n",
      "    from scipy.misc import imresize\n",
      "ImportError: cannot import name 'imresize' from 'scipy.misc' (C:\\Users\\Vipooshan\\anaconda3\\envs\\GPU\\lib\\site-packages\\scipy\\misc\\__init__.py)\n",
      "\n",
      "During handling of the above exception, another exception occurred:\n",
      "\n",
      "Traceback (most recent call last):\n",
      "  File \"C:\\Users\\Vipooshan\\anaconda3\\envs\\GPU\\lib\\site-packages\\IPython\\core\\interactiveshell.py\", line 2045, in showtraceback\n",
      "    stb = value._render_traceback_()\n",
      "AttributeError: 'ImportError' object has no attribute '_render_traceback_'\n",
      "\n",
      "During handling of the above exception, another exception occurred:\n",
      "\n",
      "Traceback (most recent call last):\n",
      "  File \"C:\\Users\\Vipooshan\\anaconda3\\envs\\GPU\\lib\\site-packages\\IPython\\core\\ultratb.py\", line 1170, in get_records\n",
      "    return _fixed_getinnerframes(etb, number_of_lines_of_context, tb_offset)\n",
      "  File \"C:\\Users\\Vipooshan\\anaconda3\\envs\\GPU\\lib\\site-packages\\IPython\\core\\ultratb.py\", line 316, in wrapped\n",
      "    return f(*args, **kwargs)\n",
      "  File \"C:\\Users\\Vipooshan\\anaconda3\\envs\\GPU\\lib\\site-packages\\IPython\\core\\ultratb.py\", line 350, in _fixed_getinnerframes\n",
      "    records = fix_frame_records_filenames(inspect.getinnerframes(etb, context))\n",
      "  File \"C:\\Users\\Vipooshan\\anaconda3\\envs\\GPU\\lib\\inspect.py\", line 1502, in getinnerframes\n",
      "    frameinfo = (tb.tb_frame,) + getframeinfo(tb, context)\n",
      "  File \"C:\\Users\\Vipooshan\\anaconda3\\envs\\GPU\\lib\\inspect.py\", line 1460, in getframeinfo\n",
      "    filename = getsourcefile(frame) or getfile(frame)\n",
      "  File \"C:\\Users\\Vipooshan\\anaconda3\\envs\\GPU\\lib\\inspect.py\", line 696, in getsourcefile\n",
      "    if getattr(getmodule(object, filename), '__loader__', None) is not None:\n",
      "  File \"C:\\Users\\Vipooshan\\anaconda3\\envs\\GPU\\lib\\inspect.py\", line 733, in getmodule\n",
      "    if ismodule(module) and hasattr(module, '__file__'):\n",
      "  File \"C:\\Users\\Vipooshan\\anaconda3\\envs\\GPU\\lib\\site-packages\\tensorflow\\__init__.py\", line 50, in __getattr__\n",
      "    module = self._load()\n",
      "  File \"C:\\Users\\Vipooshan\\anaconda3\\envs\\GPU\\lib\\site-packages\\tensorflow\\__init__.py\", line 44, in _load\n",
      "    module = _importlib.import_module(self.__name__)\n",
      "  File \"C:\\Users\\Vipooshan\\anaconda3\\envs\\GPU\\lib\\importlib\\__init__.py\", line 127, in import_module\n",
      "    return _bootstrap._gcd_import(name[level:], package, level)\n",
      "  File \"<frozen importlib._bootstrap>\", line 1006, in _gcd_import\n",
      "  File \"<frozen importlib._bootstrap>\", line 983, in _find_and_load\n",
      "  File \"<frozen importlib._bootstrap>\", line 965, in _find_and_load_unlocked\n",
      "ModuleNotFoundError: No module named 'tensorflow_core.estimator'\n",
      "Traceback (most recent call last):\n",
      "  File \"C:\\Users\\Vipooshan\\anaconda3\\envs\\GPU\\lib\\site-packages\\IPython\\core\\interactiveshell.py\", line 3418, in run_code\n",
      "    exec(code_obj, self.user_global_ns, self.user_ns)\n",
      "  File \"<ipython-input-48-f9cfb8fc2528>\", line 3, in <module>\n",
      "    from vis.visualization import visualize_saliency\n",
      "  File \"C:\\Users\\Vipooshan\\anaconda3\\envs\\GPU\\lib\\site-packages\\vis\\visualization\\__init__.py\", line 7, in <module>\n",
      "    from .saliency import visualize_saliency_with_losses\n",
      "  File \"C:\\Users\\Vipooshan\\anaconda3\\envs\\GPU\\lib\\site-packages\\vis\\visualization\\saliency.py\", line 5, in <module>\n",
      "    from scipy.misc import imresize\n",
      "ImportError: cannot import name 'imresize' from 'scipy.misc' (C:\\Users\\Vipooshan\\anaconda3\\envs\\GPU\\lib\\site-packages\\scipy\\misc\\__init__.py)\n",
      "\n",
      "During handling of the above exception, another exception occurred:\n",
      "\n",
      "Traceback (most recent call last):\n",
      "  File \"C:\\Users\\Vipooshan\\anaconda3\\envs\\GPU\\lib\\site-packages\\IPython\\core\\interactiveshell.py\", line 2045, in showtraceback\n",
      "    stb = value._render_traceback_()\n",
      "AttributeError: 'ImportError' object has no attribute '_render_traceback_'\n",
      "\n",
      "During handling of the above exception, another exception occurred:\n",
      "\n",
      "Traceback (most recent call last):\n",
      "  File \"C:\\Users\\Vipooshan\\anaconda3\\envs\\GPU\\lib\\site-packages\\IPython\\core\\interactiveshell.py\", line 3338, in run_ast_nodes\n",
      "    if (await self.run_code(code, result,  async_=asy)):\n",
      "  File \"C:\\Users\\Vipooshan\\anaconda3\\envs\\GPU\\lib\\site-packages\\IPython\\core\\interactiveshell.py\", line 3435, in run_code\n",
      "    self.showtraceback(running_compiled_code=True)\n",
      "  File \"C:\\Users\\Vipooshan\\anaconda3\\envs\\GPU\\lib\\site-packages\\IPython\\core\\interactiveshell.py\", line 2048, in showtraceback\n",
      "    value, tb, tb_offset=tb_offset)\n",
      "  File \"C:\\Users\\Vipooshan\\anaconda3\\envs\\GPU\\lib\\site-packages\\IPython\\core\\ultratb.py\", line 1437, in structured_traceback\n",
      "    self, etype, value, tb, tb_offset, number_of_lines_of_context)\n",
      "  File \"C:\\Users\\Vipooshan\\anaconda3\\envs\\GPU\\lib\\site-packages\\IPython\\core\\ultratb.py\", line 1337, in structured_traceback\n",
      "    self, etype, value, tb, tb_offset, number_of_lines_of_context\n",
      "  File \"C:\\Users\\Vipooshan\\anaconda3\\envs\\GPU\\lib\\site-packages\\IPython\\core\\ultratb.py\", line 1194, in structured_traceback\n",
      "    tb_offset)\n",
      "  File \"C:\\Users\\Vipooshan\\anaconda3\\envs\\GPU\\lib\\site-packages\\IPython\\core\\ultratb.py\", line 1151, in format_exception_as_a_whole\n",
      "    last_unique, recursion_repeat = find_recursion(orig_etype, evalue, records)\n",
      "  File \"C:\\Users\\Vipooshan\\anaconda3\\envs\\GPU\\lib\\site-packages\\IPython\\core\\ultratb.py\", line 451, in find_recursion\n",
      "    return len(records), 0\n",
      "TypeError: object of type 'NoneType' has no len()\n",
      "\n",
      "During handling of the above exception, another exception occurred:\n",
      "\n",
      "Traceback (most recent call last):\n",
      "  File \"C:\\Users\\Vipooshan\\anaconda3\\envs\\GPU\\lib\\site-packages\\IPython\\core\\interactiveshell.py\", line 2045, in showtraceback\n",
      "    stb = value._render_traceback_()\n",
      "AttributeError: 'TypeError' object has no attribute '_render_traceback_'\n",
      "\n",
      "During handling of the above exception, another exception occurred:\n",
      "\n",
      "Traceback (most recent call last):\n",
      "  File \"C:\\Users\\Vipooshan\\anaconda3\\envs\\GPU\\lib\\site-packages\\IPython\\core\\ultratb.py\", line 1170, in get_records\n",
      "    return _fixed_getinnerframes(etb, number_of_lines_of_context, tb_offset)\n",
      "  File \"C:\\Users\\Vipooshan\\anaconda3\\envs\\GPU\\lib\\site-packages\\IPython\\core\\ultratb.py\", line 316, in wrapped\n",
      "    return f(*args, **kwargs)\n",
      "  File \"C:\\Users\\Vipooshan\\anaconda3\\envs\\GPU\\lib\\site-packages\\IPython\\core\\ultratb.py\", line 350, in _fixed_getinnerframes\n",
      "    records = fix_frame_records_filenames(inspect.getinnerframes(etb, context))\n",
      "  File \"C:\\Users\\Vipooshan\\anaconda3\\envs\\GPU\\lib\\inspect.py\", line 1502, in getinnerframes\n",
      "    frameinfo = (tb.tb_frame,) + getframeinfo(tb, context)\n",
      "  File \"C:\\Users\\Vipooshan\\anaconda3\\envs\\GPU\\lib\\inspect.py\", line 1460, in getframeinfo\n",
      "    filename = getsourcefile(frame) or getfile(frame)\n",
      "  File \"C:\\Users\\Vipooshan\\anaconda3\\envs\\GPU\\lib\\inspect.py\", line 696, in getsourcefile\n",
      "    if getattr(getmodule(object, filename), '__loader__', None) is not None:\n",
      "  File \"C:\\Users\\Vipooshan\\anaconda3\\envs\\GPU\\lib\\inspect.py\", line 733, in getmodule\n",
      "    if ismodule(module) and hasattr(module, '__file__'):\n",
      "  File \"C:\\Users\\Vipooshan\\anaconda3\\envs\\GPU\\lib\\site-packages\\tensorflow\\__init__.py\", line 50, in __getattr__\n",
      "    module = self._load()\n",
      "  File \"C:\\Users\\Vipooshan\\anaconda3\\envs\\GPU\\lib\\site-packages\\tensorflow\\__init__.py\", line 44, in _load\n",
      "    module = _importlib.import_module(self.__name__)\n",
      "  File \"C:\\Users\\Vipooshan\\anaconda3\\envs\\GPU\\lib\\importlib\\__init__.py\", line 127, in import_module\n",
      "    return _bootstrap._gcd_import(name[level:], package, level)\n",
      "  File \"<frozen importlib._bootstrap>\", line 1006, in _gcd_import\n",
      "  File \"<frozen importlib._bootstrap>\", line 983, in _find_and_load\n",
      "  File \"<frozen importlib._bootstrap>\", line 965, in _find_and_load_unlocked\n",
      "ModuleNotFoundError: No module named 'tensorflow_core.estimator'\n",
      "Traceback (most recent call last):\n",
      "  File \"C:\\Users\\Vipooshan\\anaconda3\\envs\\GPU\\lib\\site-packages\\IPython\\core\\interactiveshell.py\", line 3418, in run_code\n",
      "    exec(code_obj, self.user_global_ns, self.user_ns)\n",
      "  File \"<ipython-input-48-f9cfb8fc2528>\", line 3, in <module>\n",
      "    from vis.visualization import visualize_saliency\n",
      "  File \"C:\\Users\\Vipooshan\\anaconda3\\envs\\GPU\\lib\\site-packages\\vis\\visualization\\__init__.py\", line 7, in <module>\n",
      "    from .saliency import visualize_saliency_with_losses\n",
      "  File \"C:\\Users\\Vipooshan\\anaconda3\\envs\\GPU\\lib\\site-packages\\vis\\visualization\\saliency.py\", line 5, in <module>\n",
      "    from scipy.misc import imresize\n",
      "ImportError: cannot import name 'imresize' from 'scipy.misc' (C:\\Users\\Vipooshan\\anaconda3\\envs\\GPU\\lib\\site-packages\\scipy\\misc\\__init__.py)\n",
      "\n",
      "During handling of the above exception, another exception occurred:\n",
      "\n",
      "Traceback (most recent call last):\n",
      "  File \"C:\\Users\\Vipooshan\\anaconda3\\envs\\GPU\\lib\\site-packages\\IPython\\core\\interactiveshell.py\", line 2045, in showtraceback\n",
      "    stb = value._render_traceback_()\n",
      "AttributeError: 'ImportError' object has no attribute '_render_traceback_'\n",
      "\n",
      "During handling of the above exception, another exception occurred:\n",
      "\n",
      "Traceback (most recent call last):\n",
      "  File \"C:\\Users\\Vipooshan\\anaconda3\\envs\\GPU\\lib\\site-packages\\IPython\\core\\interactiveshell.py\", line 3338, in run_ast_nodes\n",
      "    if (await self.run_code(code, result,  async_=asy)):\n",
      "  File \"C:\\Users\\Vipooshan\\anaconda3\\envs\\GPU\\lib\\site-packages\\IPython\\core\\interactiveshell.py\", line 3435, in run_code\n",
      "    self.showtraceback(running_compiled_code=True)\n",
      "  File \"C:\\Users\\Vipooshan\\anaconda3\\envs\\GPU\\lib\\site-packages\\IPython\\core\\interactiveshell.py\", line 2048, in showtraceback\n",
      "    value, tb, tb_offset=tb_offset)\n",
      "  File \"C:\\Users\\Vipooshan\\anaconda3\\envs\\GPU\\lib\\site-packages\\IPython\\core\\ultratb.py\", line 1437, in structured_traceback\n",
      "    self, etype, value, tb, tb_offset, number_of_lines_of_context)\n",
      "  File \"C:\\Users\\Vipooshan\\anaconda3\\envs\\GPU\\lib\\site-packages\\IPython\\core\\ultratb.py\", line 1337, in structured_traceback\n",
      "    self, etype, value, tb, tb_offset, number_of_lines_of_context\n",
      "  File \"C:\\Users\\Vipooshan\\anaconda3\\envs\\GPU\\lib\\site-packages\\IPython\\core\\ultratb.py\", line 1194, in structured_traceback\n",
      "    tb_offset)\n",
      "  File \"C:\\Users\\Vipooshan\\anaconda3\\envs\\GPU\\lib\\site-packages\\IPython\\core\\ultratb.py\", line 1151, in format_exception_as_a_whole\n",
      "    last_unique, recursion_repeat = find_recursion(orig_etype, evalue, records)\n",
      "  File \"C:\\Users\\Vipooshan\\anaconda3\\envs\\GPU\\lib\\site-packages\\IPython\\core\\ultratb.py\", line 451, in find_recursion\n",
      "    return len(records), 0\n",
      "TypeError: object of type 'NoneType' has no len()\n",
      "\n",
      "During handling of the above exception, another exception occurred:\n",
      "\n",
      "Traceback (most recent call last):\n",
      "  File \"C:\\Users\\Vipooshan\\anaconda3\\envs\\GPU\\lib\\site-packages\\IPython\\core\\interactiveshell.py\", line 2045, in showtraceback\n",
      "    stb = value._render_traceback_()\n",
      "AttributeError: 'TypeError' object has no attribute '_render_traceback_'\n",
      "\n",
      "During handling of the above exception, another exception occurred:\n",
      "\n",
      "Traceback (most recent call last):\n",
      "  File \"C:\\Users\\Vipooshan\\anaconda3\\envs\\GPU\\lib\\site-packages\\IPython\\core\\interactiveshell.py\", line 2923, in _run_cell\n",
      "    return runner(coro)\n",
      "  File \"C:\\Users\\Vipooshan\\anaconda3\\envs\\GPU\\lib\\site-packages\\IPython\\core\\async_helpers.py\", line 68, in _pseudo_sync_runner\n",
      "    coro.send(None)\n",
      "  File \"C:\\Users\\Vipooshan\\anaconda3\\envs\\GPU\\lib\\site-packages\\IPython\\core\\interactiveshell.py\", line 3147, in run_cell_async\n",
      "    interactivity=interactivity, compiler=compiler, result=result)\n",
      "  File \"C:\\Users\\Vipooshan\\anaconda3\\envs\\GPU\\lib\\site-packages\\IPython\\core\\interactiveshell.py\", line 3357, in run_ast_nodes\n",
      "    self.showtraceback()\n",
      "  File \"C:\\Users\\Vipooshan\\anaconda3\\envs\\GPU\\lib\\site-packages\\IPython\\core\\interactiveshell.py\", line 2048, in showtraceback\n",
      "    value, tb, tb_offset=tb_offset)\n",
      "  File \"C:\\Users\\Vipooshan\\anaconda3\\envs\\GPU\\lib\\site-packages\\IPython\\core\\ultratb.py\", line 1437, in structured_traceback\n",
      "    self, etype, value, tb, tb_offset, number_of_lines_of_context)\n",
      "  File \"C:\\Users\\Vipooshan\\anaconda3\\envs\\GPU\\lib\\site-packages\\IPython\\core\\ultratb.py\", line 1337, in structured_traceback\n",
      "    self, etype, value, tb, tb_offset, number_of_lines_of_context\n",
      "  File \"C:\\Users\\Vipooshan\\anaconda3\\envs\\GPU\\lib\\site-packages\\IPython\\core\\ultratb.py\", line 1212, in structured_traceback\n",
      "    chained_exceptions_tb_offset)\n",
      "  File \"C:\\Users\\Vipooshan\\anaconda3\\envs\\GPU\\lib\\site-packages\\IPython\\core\\ultratb.py\", line 1151, in format_exception_as_a_whole\n",
      "    last_unique, recursion_repeat = find_recursion(orig_etype, evalue, records)\n",
      "  File \"C:\\Users\\Vipooshan\\anaconda3\\envs\\GPU\\lib\\site-packages\\IPython\\core\\ultratb.py\", line 451, in find_recursion\n",
      "    return len(records), 0\n",
      "TypeError: object of type 'NoneType' has no len()\n",
      "\n",
      "During handling of the above exception, another exception occurred:\n",
      "\n",
      "Traceback (most recent call last):\n",
      "  File \"C:\\Users\\Vipooshan\\anaconda3\\envs\\GPU\\lib\\site-packages\\IPython\\core\\interactiveshell.py\", line 2045, in showtraceback\n",
      "    stb = value._render_traceback_()\n",
      "AttributeError: 'TypeError' object has no attribute '_render_traceback_'\n",
      "\n",
      "During handling of the above exception, another exception occurred:\n",
      "\n",
      "Traceback (most recent call last):\n",
      "  File \"C:\\Users\\Vipooshan\\anaconda3\\envs\\GPU\\lib\\site-packages\\IPython\\core\\ultratb.py\", line 1170, in get_records\n",
      "    return _fixed_getinnerframes(etb, number_of_lines_of_context, tb_offset)\n",
      "  File \"C:\\Users\\Vipooshan\\anaconda3\\envs\\GPU\\lib\\site-packages\\IPython\\core\\ultratb.py\", line 316, in wrapped\n",
      "    return f(*args, **kwargs)\n",
      "  File \"C:\\Users\\Vipooshan\\anaconda3\\envs\\GPU\\lib\\site-packages\\IPython\\core\\ultratb.py\", line 350, in _fixed_getinnerframes\n",
      "    records = fix_frame_records_filenames(inspect.getinnerframes(etb, context))\n",
      "  File \"C:\\Users\\Vipooshan\\anaconda3\\envs\\GPU\\lib\\inspect.py\", line 1502, in getinnerframes\n",
      "    frameinfo = (tb.tb_frame,) + getframeinfo(tb, context)\n",
      "  File \"C:\\Users\\Vipooshan\\anaconda3\\envs\\GPU\\lib\\inspect.py\", line 1460, in getframeinfo\n",
      "    filename = getsourcefile(frame) or getfile(frame)\n",
      "  File \"C:\\Users\\Vipooshan\\anaconda3\\envs\\GPU\\lib\\inspect.py\", line 696, in getsourcefile\n",
      "    if getattr(getmodule(object, filename), '__loader__', None) is not None:\n",
      "  File \"C:\\Users\\Vipooshan\\anaconda3\\envs\\GPU\\lib\\inspect.py\", line 733, in getmodule\n",
      "    if ismodule(module) and hasattr(module, '__file__'):\n",
      "  File \"C:\\Users\\Vipooshan\\anaconda3\\envs\\GPU\\lib\\site-packages\\tensorflow\\__init__.py\", line 50, in __getattr__\n",
      "    module = self._load()\n",
      "  File \"C:\\Users\\Vipooshan\\anaconda3\\envs\\GPU\\lib\\site-packages\\tensorflow\\__init__.py\", line 44, in _load\n",
      "    module = _importlib.import_module(self.__name__)\n",
      "  File \"C:\\Users\\Vipooshan\\anaconda3\\envs\\GPU\\lib\\importlib\\__init__.py\", line 127, in import_module\n",
      "    return _bootstrap._gcd_import(name[level:], package, level)\n",
      "  File \"<frozen importlib._bootstrap>\", line 1006, in _gcd_import\n",
      "  File \"<frozen importlib._bootstrap>\", line 983, in _find_and_load\n",
      "  File \"<frozen importlib._bootstrap>\", line 965, in _find_and_load_unlocked\n",
      "ModuleNotFoundError: No module named 'tensorflow_core.estimator'\n"
     ]
    }
   ],
   "source": [
    "# pip install scipy==1.1.0\n",
    "# pip install keras-vis\n",
    "from vis.visualization import visualize_saliency\n",
    "\n",
    "def plot_saliency(img_idx=None):\n",
    "    img_idx = plot_features_map(img_idx)\n",
    "    grads = visualize_saliency(cnn_saliency, -1, filter_indices=ytest[img_idx][0], \n",
    "                               seed_input=x_test[img_idx], backprop_modifier=None,\n",
    "                               grad_modifier=\"absolute\")\n",
    "    predicted_label = labels[np.argmax(cnn.predict(x_test[img_idx].reshape(1,32,32,3)),1)[0]]\n",
    "    fig, ax = plt.subplots(1,2, figsize=(10,5))\n",
    "    ax[0].imshow(x_test[img_idx])\n",
    "    ax[0].set_title('original img id {} - {}'.format(img_idx, labels[ytest[img_idx][0]]))\n",
    "    ax[1].imshow(grads, cmap='jet')\n",
    "    ax[1].set_title('saliency - predicted {}'.format(predicted_label))\n",
    "\n",
    "plot_saliency()"
   ]
  },
  {
   "cell_type": "code",
   "execution_count": null,
   "metadata": {},
   "outputs": [
    {
     "name": "stderr",
     "output_type": "stream",
     "text": [
      "ERROR:root:Internal Python error in the inspect module.\n",
      "Below is the traceback from this internal error.\n",
      "\n",
      "ERROR:root:Internal Python error in the inspect module.\n",
      "Below is the traceback from this internal error.\n",
      "\n",
      "ERROR:root:Internal Python error in the inspect module.\n",
      "Below is the traceback from this internal error.\n",
      "\n"
     ]
    },
    {
     "name": "stdout",
     "output_type": "stream",
     "text": [
      "Traceback (most recent call last):\n",
      "  File \"C:\\Users\\Vipooshan\\anaconda3\\envs\\GPU\\lib\\site-packages\\IPython\\core\\interactiveshell.py\", line 3418, in run_code\n",
      "    exec(code_obj, self.user_global_ns, self.user_ns)\n",
      "  File \"<ipython-input-46-6483f06fb4d6>\", line 4, in <module>\n",
      "    from vis.visualization import visualize_saliency\n",
      "  File \"C:\\Users\\Vipooshan\\anaconda3\\envs\\GPU\\lib\\site-packages\\vis\\visualization\\__init__.py\", line 7, in <module>\n",
      "    from .saliency import visualize_saliency_with_losses\n",
      "  File \"C:\\Users\\Vipooshan\\anaconda3\\envs\\GPU\\lib\\site-packages\\vis\\visualization\\saliency.py\", line 5, in <module>\n",
      "    from scipy.misc import imresize\n",
      "ImportError: cannot import name 'imresize' from 'scipy.misc' (C:\\Users\\Vipooshan\\anaconda3\\envs\\GPU\\lib\\site-packages\\scipy\\misc\\__init__.py)\n",
      "\n",
      "During handling of the above exception, another exception occurred:\n",
      "\n",
      "Traceback (most recent call last):\n",
      "  File \"C:\\Users\\Vipooshan\\anaconda3\\envs\\GPU\\lib\\site-packages\\IPython\\core\\interactiveshell.py\", line 2045, in showtraceback\n",
      "    stb = value._render_traceback_()\n",
      "AttributeError: 'ImportError' object has no attribute '_render_traceback_'\n",
      "\n",
      "During handling of the above exception, another exception occurred:\n",
      "\n",
      "Traceback (most recent call last):\n",
      "  File \"C:\\Users\\Vipooshan\\anaconda3\\envs\\GPU\\lib\\site-packages\\IPython\\core\\ultratb.py\", line 1170, in get_records\n",
      "    return _fixed_getinnerframes(etb, number_of_lines_of_context, tb_offset)\n",
      "  File \"C:\\Users\\Vipooshan\\anaconda3\\envs\\GPU\\lib\\site-packages\\IPython\\core\\ultratb.py\", line 316, in wrapped\n",
      "    return f(*args, **kwargs)\n",
      "  File \"C:\\Users\\Vipooshan\\anaconda3\\envs\\GPU\\lib\\site-packages\\IPython\\core\\ultratb.py\", line 350, in _fixed_getinnerframes\n",
      "    records = fix_frame_records_filenames(inspect.getinnerframes(etb, context))\n",
      "  File \"C:\\Users\\Vipooshan\\anaconda3\\envs\\GPU\\lib\\inspect.py\", line 1502, in getinnerframes\n",
      "    frameinfo = (tb.tb_frame,) + getframeinfo(tb, context)\n",
      "  File \"C:\\Users\\Vipooshan\\anaconda3\\envs\\GPU\\lib\\inspect.py\", line 1460, in getframeinfo\n",
      "    filename = getsourcefile(frame) or getfile(frame)\n",
      "  File \"C:\\Users\\Vipooshan\\anaconda3\\envs\\GPU\\lib\\inspect.py\", line 696, in getsourcefile\n",
      "    if getattr(getmodule(object, filename), '__loader__', None) is not None:\n",
      "  File \"C:\\Users\\Vipooshan\\anaconda3\\envs\\GPU\\lib\\inspect.py\", line 733, in getmodule\n",
      "    if ismodule(module) and hasattr(module, '__file__'):\n",
      "  File \"C:\\Users\\Vipooshan\\anaconda3\\envs\\GPU\\lib\\site-packages\\tensorflow\\__init__.py\", line 50, in __getattr__\n",
      "    module = self._load()\n",
      "  File \"C:\\Users\\Vipooshan\\anaconda3\\envs\\GPU\\lib\\site-packages\\tensorflow\\__init__.py\", line 44, in _load\n",
      "    module = _importlib.import_module(self.__name__)\n",
      "  File \"C:\\Users\\Vipooshan\\anaconda3\\envs\\GPU\\lib\\importlib\\__init__.py\", line 127, in import_module\n",
      "    return _bootstrap._gcd_import(name[level:], package, level)\n",
      "  File \"<frozen importlib._bootstrap>\", line 1006, in _gcd_import\n",
      "  File \"<frozen importlib._bootstrap>\", line 983, in _find_and_load\n",
      "  File \"<frozen importlib._bootstrap>\", line 965, in _find_and_load_unlocked\n",
      "ModuleNotFoundError: No module named 'tensorflow_core.estimator'\n",
      "Traceback (most recent call last):\n",
      "  File \"C:\\Users\\Vipooshan\\anaconda3\\envs\\GPU\\lib\\site-packages\\IPython\\core\\interactiveshell.py\", line 3418, in run_code\n",
      "    exec(code_obj, self.user_global_ns, self.user_ns)\n",
      "  File \"<ipython-input-46-6483f06fb4d6>\", line 4, in <module>\n",
      "    from vis.visualization import visualize_saliency\n",
      "  File \"C:\\Users\\Vipooshan\\anaconda3\\envs\\GPU\\lib\\site-packages\\vis\\visualization\\__init__.py\", line 7, in <module>\n",
      "    from .saliency import visualize_saliency_with_losses\n",
      "  File \"C:\\Users\\Vipooshan\\anaconda3\\envs\\GPU\\lib\\site-packages\\vis\\visualization\\saliency.py\", line 5, in <module>\n",
      "    from scipy.misc import imresize\n",
      "ImportError: cannot import name 'imresize' from 'scipy.misc' (C:\\Users\\Vipooshan\\anaconda3\\envs\\GPU\\lib\\site-packages\\scipy\\misc\\__init__.py)\n",
      "\n",
      "During handling of the above exception, another exception occurred:\n",
      "\n",
      "Traceback (most recent call last):\n",
      "  File \"C:\\Users\\Vipooshan\\anaconda3\\envs\\GPU\\lib\\site-packages\\IPython\\core\\interactiveshell.py\", line 2045, in showtraceback\n",
      "    stb = value._render_traceback_()\n",
      "AttributeError: 'ImportError' object has no attribute '_render_traceback_'\n",
      "\n",
      "During handling of the above exception, another exception occurred:\n",
      "\n",
      "Traceback (most recent call last):\n",
      "  File \"C:\\Users\\Vipooshan\\anaconda3\\envs\\GPU\\lib\\site-packages\\IPython\\core\\interactiveshell.py\", line 3338, in run_ast_nodes\n",
      "    if (await self.run_code(code, result,  async_=asy)):\n",
      "  File \"C:\\Users\\Vipooshan\\anaconda3\\envs\\GPU\\lib\\site-packages\\IPython\\core\\interactiveshell.py\", line 3435, in run_code\n",
      "    self.showtraceback(running_compiled_code=True)\n",
      "  File \"C:\\Users\\Vipooshan\\anaconda3\\envs\\GPU\\lib\\site-packages\\IPython\\core\\interactiveshell.py\", line 2048, in showtraceback\n",
      "    value, tb, tb_offset=tb_offset)\n",
      "  File \"C:\\Users\\Vipooshan\\anaconda3\\envs\\GPU\\lib\\site-packages\\IPython\\core\\ultratb.py\", line 1437, in structured_traceback\n",
      "    self, etype, value, tb, tb_offset, number_of_lines_of_context)\n",
      "  File \"C:\\Users\\Vipooshan\\anaconda3\\envs\\GPU\\lib\\site-packages\\IPython\\core\\ultratb.py\", line 1337, in structured_traceback\n",
      "    self, etype, value, tb, tb_offset, number_of_lines_of_context\n",
      "  File \"C:\\Users\\Vipooshan\\anaconda3\\envs\\GPU\\lib\\site-packages\\IPython\\core\\ultratb.py\", line 1194, in structured_traceback\n",
      "    tb_offset)\n",
      "  File \"C:\\Users\\Vipooshan\\anaconda3\\envs\\GPU\\lib\\site-packages\\IPython\\core\\ultratb.py\", line 1151, in format_exception_as_a_whole\n",
      "    last_unique, recursion_repeat = find_recursion(orig_etype, evalue, records)\n",
      "  File \"C:\\Users\\Vipooshan\\anaconda3\\envs\\GPU\\lib\\site-packages\\IPython\\core\\ultratb.py\", line 451, in find_recursion\n",
      "    return len(records), 0\n",
      "TypeError: object of type 'NoneType' has no len()\n",
      "\n",
      "During handling of the above exception, another exception occurred:\n",
      "\n",
      "Traceback (most recent call last):\n",
      "  File \"C:\\Users\\Vipooshan\\anaconda3\\envs\\GPU\\lib\\site-packages\\IPython\\core\\interactiveshell.py\", line 2045, in showtraceback\n",
      "    stb = value._render_traceback_()\n",
      "AttributeError: 'TypeError' object has no attribute '_render_traceback_'\n",
      "\n",
      "During handling of the above exception, another exception occurred:\n",
      "\n",
      "Traceback (most recent call last):\n",
      "  File \"C:\\Users\\Vipooshan\\anaconda3\\envs\\GPU\\lib\\site-packages\\IPython\\core\\ultratb.py\", line 1170, in get_records\n",
      "    return _fixed_getinnerframes(etb, number_of_lines_of_context, tb_offset)\n",
      "  File \"C:\\Users\\Vipooshan\\anaconda3\\envs\\GPU\\lib\\site-packages\\IPython\\core\\ultratb.py\", line 316, in wrapped\n",
      "    return f(*args, **kwargs)\n",
      "  File \"C:\\Users\\Vipooshan\\anaconda3\\envs\\GPU\\lib\\site-packages\\IPython\\core\\ultratb.py\", line 350, in _fixed_getinnerframes\n",
      "    records = fix_frame_records_filenames(inspect.getinnerframes(etb, context))\n",
      "  File \"C:\\Users\\Vipooshan\\anaconda3\\envs\\GPU\\lib\\inspect.py\", line 1502, in getinnerframes\n",
      "    frameinfo = (tb.tb_frame,) + getframeinfo(tb, context)\n",
      "  File \"C:\\Users\\Vipooshan\\anaconda3\\envs\\GPU\\lib\\inspect.py\", line 1460, in getframeinfo\n",
      "    filename = getsourcefile(frame) or getfile(frame)\n",
      "  File \"C:\\Users\\Vipooshan\\anaconda3\\envs\\GPU\\lib\\inspect.py\", line 696, in getsourcefile\n",
      "    if getattr(getmodule(object, filename), '__loader__', None) is not None:\n",
      "  File \"C:\\Users\\Vipooshan\\anaconda3\\envs\\GPU\\lib\\inspect.py\", line 733, in getmodule\n",
      "    if ismodule(module) and hasattr(module, '__file__'):\n",
      "  File \"C:\\Users\\Vipooshan\\anaconda3\\envs\\GPU\\lib\\site-packages\\tensorflow\\__init__.py\", line 50, in __getattr__\n",
      "    module = self._load()\n",
      "  File \"C:\\Users\\Vipooshan\\anaconda3\\envs\\GPU\\lib\\site-packages\\tensorflow\\__init__.py\", line 44, in _load\n",
      "    module = _importlib.import_module(self.__name__)\n",
      "  File \"C:\\Users\\Vipooshan\\anaconda3\\envs\\GPU\\lib\\importlib\\__init__.py\", line 127, in import_module\n",
      "    return _bootstrap._gcd_import(name[level:], package, level)\n",
      "  File \"<frozen importlib._bootstrap>\", line 1006, in _gcd_import\n",
      "  File \"<frozen importlib._bootstrap>\", line 983, in _find_and_load\n",
      "  File \"<frozen importlib._bootstrap>\", line 965, in _find_and_load_unlocked\n",
      "ModuleNotFoundError: No module named 'tensorflow_core.estimator'\n",
      "Traceback (most recent call last):\n",
      "  File \"C:\\Users\\Vipooshan\\anaconda3\\envs\\GPU\\lib\\site-packages\\IPython\\core\\interactiveshell.py\", line 3418, in run_code\n",
      "    exec(code_obj, self.user_global_ns, self.user_ns)\n",
      "  File \"<ipython-input-46-6483f06fb4d6>\", line 4, in <module>\n",
      "    from vis.visualization import visualize_saliency\n",
      "  File \"C:\\Users\\Vipooshan\\anaconda3\\envs\\GPU\\lib\\site-packages\\vis\\visualization\\__init__.py\", line 7, in <module>\n",
      "    from .saliency import visualize_saliency_with_losses\n",
      "  File \"C:\\Users\\Vipooshan\\anaconda3\\envs\\GPU\\lib\\site-packages\\vis\\visualization\\saliency.py\", line 5, in <module>\n",
      "    from scipy.misc import imresize\n",
      "ImportError: cannot import name 'imresize' from 'scipy.misc' (C:\\Users\\Vipooshan\\anaconda3\\envs\\GPU\\lib\\site-packages\\scipy\\misc\\__init__.py)\n",
      "\n",
      "During handling of the above exception, another exception occurred:\n",
      "\n",
      "Traceback (most recent call last):\n",
      "  File \"C:\\Users\\Vipooshan\\anaconda3\\envs\\GPU\\lib\\site-packages\\IPython\\core\\interactiveshell.py\", line 2045, in showtraceback\n",
      "    stb = value._render_traceback_()\n",
      "AttributeError: 'ImportError' object has no attribute '_render_traceback_'\n",
      "\n",
      "During handling of the above exception, another exception occurred:\n",
      "\n",
      "Traceback (most recent call last):\n",
      "  File \"C:\\Users\\Vipooshan\\anaconda3\\envs\\GPU\\lib\\site-packages\\IPython\\core\\interactiveshell.py\", line 3338, in run_ast_nodes\n",
      "    if (await self.run_code(code, result,  async_=asy)):\n",
      "  File \"C:\\Users\\Vipooshan\\anaconda3\\envs\\GPU\\lib\\site-packages\\IPython\\core\\interactiveshell.py\", line 3435, in run_code\n",
      "    self.showtraceback(running_compiled_code=True)\n",
      "  File \"C:\\Users\\Vipooshan\\anaconda3\\envs\\GPU\\lib\\site-packages\\IPython\\core\\interactiveshell.py\", line 2048, in showtraceback\n",
      "    value, tb, tb_offset=tb_offset)\n",
      "  File \"C:\\Users\\Vipooshan\\anaconda3\\envs\\GPU\\lib\\site-packages\\IPython\\core\\ultratb.py\", line 1437, in structured_traceback\n",
      "    self, etype, value, tb, tb_offset, number_of_lines_of_context)\n",
      "  File \"C:\\Users\\Vipooshan\\anaconda3\\envs\\GPU\\lib\\site-packages\\IPython\\core\\ultratb.py\", line 1337, in structured_traceback\n",
      "    self, etype, value, tb, tb_offset, number_of_lines_of_context\n",
      "  File \"C:\\Users\\Vipooshan\\anaconda3\\envs\\GPU\\lib\\site-packages\\IPython\\core\\ultratb.py\", line 1194, in structured_traceback\n",
      "    tb_offset)\n",
      "  File \"C:\\Users\\Vipooshan\\anaconda3\\envs\\GPU\\lib\\site-packages\\IPython\\core\\ultratb.py\", line 1151, in format_exception_as_a_whole\n",
      "    last_unique, recursion_repeat = find_recursion(orig_etype, evalue, records)\n",
      "  File \"C:\\Users\\Vipooshan\\anaconda3\\envs\\GPU\\lib\\site-packages\\IPython\\core\\ultratb.py\", line 451, in find_recursion\n",
      "    return len(records), 0\n",
      "TypeError: object of type 'NoneType' has no len()\n",
      "\n",
      "During handling of the above exception, another exception occurred:\n",
      "\n",
      "Traceback (most recent call last):\n",
      "  File \"C:\\Users\\Vipooshan\\anaconda3\\envs\\GPU\\lib\\site-packages\\IPython\\core\\interactiveshell.py\", line 2045, in showtraceback\n",
      "    stb = value._render_traceback_()\n",
      "AttributeError: 'TypeError' object has no attribute '_render_traceback_'\n",
      "\n",
      "During handling of the above exception, another exception occurred:\n",
      "\n",
      "Traceback (most recent call last):\n",
      "  File \"C:\\Users\\Vipooshan\\anaconda3\\envs\\GPU\\lib\\site-packages\\IPython\\core\\interactiveshell.py\", line 2923, in _run_cell\n",
      "    return runner(coro)\n",
      "  File \"C:\\Users\\Vipooshan\\anaconda3\\envs\\GPU\\lib\\site-packages\\IPython\\core\\async_helpers.py\", line 68, in _pseudo_sync_runner\n",
      "    coro.send(None)\n",
      "  File \"C:\\Users\\Vipooshan\\anaconda3\\envs\\GPU\\lib\\site-packages\\IPython\\core\\interactiveshell.py\", line 3147, in run_cell_async\n",
      "    interactivity=interactivity, compiler=compiler, result=result)\n",
      "  File \"C:\\Users\\Vipooshan\\anaconda3\\envs\\GPU\\lib\\site-packages\\IPython\\core\\interactiveshell.py\", line 3357, in run_ast_nodes\n",
      "    self.showtraceback()\n",
      "  File \"C:\\Users\\Vipooshan\\anaconda3\\envs\\GPU\\lib\\site-packages\\IPython\\core\\interactiveshell.py\", line 2048, in showtraceback\n",
      "    value, tb, tb_offset=tb_offset)\n",
      "  File \"C:\\Users\\Vipooshan\\anaconda3\\envs\\GPU\\lib\\site-packages\\IPython\\core\\ultratb.py\", line 1437, in structured_traceback\n",
      "    self, etype, value, tb, tb_offset, number_of_lines_of_context)\n",
      "  File \"C:\\Users\\Vipooshan\\anaconda3\\envs\\GPU\\lib\\site-packages\\IPython\\core\\ultratb.py\", line 1337, in structured_traceback\n",
      "    self, etype, value, tb, tb_offset, number_of_lines_of_context\n",
      "  File \"C:\\Users\\Vipooshan\\anaconda3\\envs\\GPU\\lib\\site-packages\\IPython\\core\\ultratb.py\", line 1212, in structured_traceback\n",
      "    chained_exceptions_tb_offset)\n",
      "  File \"C:\\Users\\Vipooshan\\anaconda3\\envs\\GPU\\lib\\site-packages\\IPython\\core\\ultratb.py\", line 1151, in format_exception_as_a_whole\n",
      "    last_unique, recursion_repeat = find_recursion(orig_etype, evalue, records)\n",
      "  File \"C:\\Users\\Vipooshan\\anaconda3\\envs\\GPU\\lib\\site-packages\\IPython\\core\\ultratb.py\", line 451, in find_recursion\n",
      "    return len(records), 0\n",
      "TypeError: object of type 'NoneType' has no len()\n",
      "\n",
      "During handling of the above exception, another exception occurred:\n",
      "\n",
      "Traceback (most recent call last):\n",
      "  File \"C:\\Users\\Vipooshan\\anaconda3\\envs\\GPU\\lib\\site-packages\\IPython\\core\\interactiveshell.py\", line 2045, in showtraceback\n",
      "    stb = value._render_traceback_()\n",
      "AttributeError: 'TypeError' object has no attribute '_render_traceback_'\n",
      "\n",
      "During handling of the above exception, another exception occurred:\n",
      "\n",
      "Traceback (most recent call last):\n",
      "  File \"C:\\Users\\Vipooshan\\anaconda3\\envs\\GPU\\lib\\site-packages\\IPython\\core\\ultratb.py\", line 1170, in get_records\n",
      "    return _fixed_getinnerframes(etb, number_of_lines_of_context, tb_offset)\n",
      "  File \"C:\\Users\\Vipooshan\\anaconda3\\envs\\GPU\\lib\\site-packages\\IPython\\core\\ultratb.py\", line 316, in wrapped\n",
      "    return f(*args, **kwargs)\n",
      "  File \"C:\\Users\\Vipooshan\\anaconda3\\envs\\GPU\\lib\\site-packages\\IPython\\core\\ultratb.py\", line 350, in _fixed_getinnerframes\n",
      "    records = fix_frame_records_filenames(inspect.getinnerframes(etb, context))\n",
      "  File \"C:\\Users\\Vipooshan\\anaconda3\\envs\\GPU\\lib\\inspect.py\", line 1502, in getinnerframes\n",
      "    frameinfo = (tb.tb_frame,) + getframeinfo(tb, context)\n",
      "  File \"C:\\Users\\Vipooshan\\anaconda3\\envs\\GPU\\lib\\inspect.py\", line 1460, in getframeinfo\n",
      "    filename = getsourcefile(frame) or getfile(frame)\n",
      "  File \"C:\\Users\\Vipooshan\\anaconda3\\envs\\GPU\\lib\\inspect.py\", line 696, in getsourcefile\n",
      "    if getattr(getmodule(object, filename), '__loader__', None) is not None:\n",
      "  File \"C:\\Users\\Vipooshan\\anaconda3\\envs\\GPU\\lib\\inspect.py\", line 733, in getmodule\n",
      "    if ismodule(module) and hasattr(module, '__file__'):\n",
      "  File \"C:\\Users\\Vipooshan\\anaconda3\\envs\\GPU\\lib\\site-packages\\tensorflow\\__init__.py\", line 50, in __getattr__\n",
      "    module = self._load()\n",
      "  File \"C:\\Users\\Vipooshan\\anaconda3\\envs\\GPU\\lib\\site-packages\\tensorflow\\__init__.py\", line 44, in _load\n",
      "    module = _importlib.import_module(self.__name__)\n",
      "  File \"C:\\Users\\Vipooshan\\anaconda3\\envs\\GPU\\lib\\importlib\\__init__.py\", line 127, in import_module\n",
      "    return _bootstrap._gcd_import(name[level:], package, level)\n",
      "  File \"<frozen importlib._bootstrap>\", line 1006, in _gcd_import\n",
      "  File \"<frozen importlib._bootstrap>\", line 983, in _find_and_load\n",
      "  File \"<frozen importlib._bootstrap>\", line 965, in _find_and_load_unlocked\n",
      "ModuleNotFoundError: No module named 'tensorflow_core.estimator'\n"
     ]
    }
   ],
   "source": [
    "from keras.applications.vgg16 import VGG16\n",
    "from vis.utils import utils\n",
    "from keras import activations\n",
    "from vis.visualization import visualize_saliency\n",
    "\n",
    "\n",
    "# Convert the image to a numpy array and expand the dimensions\n",
    "x = img_to_array(image)\n",
    "x = np.expand_dims(x, axis=0)\n",
    "\n",
    "# Preprocess the image\n",
    "x = preprocess_input(x)\n",
    "\n",
    "# Generate the saliency map\n",
    "saliency_map = visualize_saliency(model, -1, filter_indices=None, seed_input=x)\n",
    "\n",
    "# Display the saliency map\n",
    "plt.imshow(saliency_map, cmap='jet')\n",
    "plt.show()"
   ]
  },
  {
   "cell_type": "code",
   "execution_count": null,
   "metadata": {},
   "outputs": [
    {
     "name": "stderr",
     "output_type": "stream",
     "text": [
      "ERROR:root:Internal Python error in the inspect module.\n",
      "Below is the traceback from this internal error.\n",
      "\n",
      "ERROR:root:Internal Python error in the inspect module.\n",
      "Below is the traceback from this internal error.\n",
      "\n",
      "ERROR:root:Internal Python error in the inspect module.\n",
      "Below is the traceback from this internal error.\n",
      "\n"
     ]
    },
    {
     "name": "stdout",
     "output_type": "stream",
     "text": [
      "Traceback (most recent call last):\n",
      "  File \"C:\\Users\\Vipooshan\\anaconda3\\envs\\GPU\\lib\\site-packages\\IPython\\core\\interactiveshell.py\", line 3418, in run_code\n",
      "    exec(code_obj, self.user_global_ns, self.user_ns)\n",
      "  File \"<ipython-input-42-b7c4e5f08da7>\", line 1, in <module>\n",
      "    from vis.visualization import visualize_saliency\n",
      "  File \"C:\\Users\\Vipooshan\\anaconda3\\envs\\GPU\\lib\\site-packages\\vis\\visualization\\__init__.py\", line 7, in <module>\n",
      "    from .saliency import visualize_saliency_with_losses\n",
      "  File \"C:\\Users\\Vipooshan\\anaconda3\\envs\\GPU\\lib\\site-packages\\vis\\visualization\\saliency.py\", line 5, in <module>\n",
      "    from scipy.misc import imresize\n",
      "ImportError: cannot import name 'imresize' from 'scipy.misc' (C:\\Users\\Vipooshan\\anaconda3\\envs\\GPU\\lib\\site-packages\\scipy\\misc\\__init__.py)\n",
      "\n",
      "During handling of the above exception, another exception occurred:\n",
      "\n",
      "Traceback (most recent call last):\n",
      "  File \"C:\\Users\\Vipooshan\\anaconda3\\envs\\GPU\\lib\\site-packages\\IPython\\core\\interactiveshell.py\", line 2045, in showtraceback\n",
      "    stb = value._render_traceback_()\n",
      "AttributeError: 'ImportError' object has no attribute '_render_traceback_'\n",
      "\n",
      "During handling of the above exception, another exception occurred:\n",
      "\n",
      "Traceback (most recent call last):\n",
      "  File \"C:\\Users\\Vipooshan\\anaconda3\\envs\\GPU\\lib\\site-packages\\IPython\\core\\ultratb.py\", line 1170, in get_records\n",
      "    return _fixed_getinnerframes(etb, number_of_lines_of_context, tb_offset)\n",
      "  File \"C:\\Users\\Vipooshan\\anaconda3\\envs\\GPU\\lib\\site-packages\\IPython\\core\\ultratb.py\", line 316, in wrapped\n",
      "    return f(*args, **kwargs)\n",
      "  File \"C:\\Users\\Vipooshan\\anaconda3\\envs\\GPU\\lib\\site-packages\\IPython\\core\\ultratb.py\", line 350, in _fixed_getinnerframes\n",
      "    records = fix_frame_records_filenames(inspect.getinnerframes(etb, context))\n",
      "  File \"C:\\Users\\Vipooshan\\anaconda3\\envs\\GPU\\lib\\inspect.py\", line 1502, in getinnerframes\n",
      "    frameinfo = (tb.tb_frame,) + getframeinfo(tb, context)\n",
      "  File \"C:\\Users\\Vipooshan\\anaconda3\\envs\\GPU\\lib\\inspect.py\", line 1460, in getframeinfo\n",
      "    filename = getsourcefile(frame) or getfile(frame)\n",
      "  File \"C:\\Users\\Vipooshan\\anaconda3\\envs\\GPU\\lib\\inspect.py\", line 696, in getsourcefile\n",
      "    if getattr(getmodule(object, filename), '__loader__', None) is not None:\n",
      "  File \"C:\\Users\\Vipooshan\\anaconda3\\envs\\GPU\\lib\\inspect.py\", line 733, in getmodule\n",
      "    if ismodule(module) and hasattr(module, '__file__'):\n",
      "  File \"C:\\Users\\Vipooshan\\anaconda3\\envs\\GPU\\lib\\site-packages\\tensorflow\\__init__.py\", line 50, in __getattr__\n",
      "    module = self._load()\n",
      "  File \"C:\\Users\\Vipooshan\\anaconda3\\envs\\GPU\\lib\\site-packages\\tensorflow\\__init__.py\", line 44, in _load\n",
      "    module = _importlib.import_module(self.__name__)\n",
      "  File \"C:\\Users\\Vipooshan\\anaconda3\\envs\\GPU\\lib\\importlib\\__init__.py\", line 127, in import_module\n",
      "    return _bootstrap._gcd_import(name[level:], package, level)\n",
      "  File \"<frozen importlib._bootstrap>\", line 1006, in _gcd_import\n",
      "  File \"<frozen importlib._bootstrap>\", line 983, in _find_and_load\n",
      "  File \"<frozen importlib._bootstrap>\", line 965, in _find_and_load_unlocked\n",
      "ModuleNotFoundError: No module named 'tensorflow_core.estimator'\n",
      "ERROR! Session/line number was not unique in database. History logging moved to new session 2317\n",
      "Traceback (most recent call last):\n",
      "  File \"C:\\Users\\Vipooshan\\anaconda3\\envs\\GPU\\lib\\site-packages\\IPython\\core\\interactiveshell.py\", line 3418, in run_code\n",
      "    exec(code_obj, self.user_global_ns, self.user_ns)\n",
      "  File \"<ipython-input-42-b7c4e5f08da7>\", line 1, in <module>\n",
      "    from vis.visualization import visualize_saliency\n",
      "  File \"C:\\Users\\Vipooshan\\anaconda3\\envs\\GPU\\lib\\site-packages\\vis\\visualization\\__init__.py\", line 7, in <module>\n",
      "    from .saliency import visualize_saliency_with_losses\n",
      "  File \"C:\\Users\\Vipooshan\\anaconda3\\envs\\GPU\\lib\\site-packages\\vis\\visualization\\saliency.py\", line 5, in <module>\n",
      "    from scipy.misc import imresize\n",
      "ImportError: cannot import name 'imresize' from 'scipy.misc' (C:\\Users\\Vipooshan\\anaconda3\\envs\\GPU\\lib\\site-packages\\scipy\\misc\\__init__.py)\n",
      "\n",
      "During handling of the above exception, another exception occurred:\n",
      "\n",
      "Traceback (most recent call last):\n",
      "  File \"C:\\Users\\Vipooshan\\anaconda3\\envs\\GPU\\lib\\site-packages\\IPython\\core\\interactiveshell.py\", line 2045, in showtraceback\n",
      "    stb = value._render_traceback_()\n",
      "AttributeError: 'ImportError' object has no attribute '_render_traceback_'\n",
      "\n",
      "During handling of the above exception, another exception occurred:\n",
      "\n",
      "Traceback (most recent call last):\n",
      "  File \"C:\\Users\\Vipooshan\\anaconda3\\envs\\GPU\\lib\\site-packages\\IPython\\core\\interactiveshell.py\", line 3338, in run_ast_nodes\n",
      "    if (await self.run_code(code, result,  async_=asy)):\n",
      "  File \"C:\\Users\\Vipooshan\\anaconda3\\envs\\GPU\\lib\\site-packages\\IPython\\core\\interactiveshell.py\", line 3435, in run_code\n",
      "    self.showtraceback(running_compiled_code=True)\n",
      "  File \"C:\\Users\\Vipooshan\\anaconda3\\envs\\GPU\\lib\\site-packages\\IPython\\core\\interactiveshell.py\", line 2048, in showtraceback\n",
      "    value, tb, tb_offset=tb_offset)\n",
      "  File \"C:\\Users\\Vipooshan\\anaconda3\\envs\\GPU\\lib\\site-packages\\IPython\\core\\ultratb.py\", line 1437, in structured_traceback\n",
      "    self, etype, value, tb, tb_offset, number_of_lines_of_context)\n",
      "  File \"C:\\Users\\Vipooshan\\anaconda3\\envs\\GPU\\lib\\site-packages\\IPython\\core\\ultratb.py\", line 1337, in structured_traceback\n",
      "    self, etype, value, tb, tb_offset, number_of_lines_of_context\n",
      "  File \"C:\\Users\\Vipooshan\\anaconda3\\envs\\GPU\\lib\\site-packages\\IPython\\core\\ultratb.py\", line 1194, in structured_traceback\n",
      "    tb_offset)\n",
      "  File \"C:\\Users\\Vipooshan\\anaconda3\\envs\\GPU\\lib\\site-packages\\IPython\\core\\ultratb.py\", line 1151, in format_exception_as_a_whole\n",
      "    last_unique, recursion_repeat = find_recursion(orig_etype, evalue, records)\n",
      "  File \"C:\\Users\\Vipooshan\\anaconda3\\envs\\GPU\\lib\\site-packages\\IPython\\core\\ultratb.py\", line 451, in find_recursion\n",
      "    return len(records), 0\n",
      "TypeError: object of type 'NoneType' has no len()\n",
      "\n",
      "During handling of the above exception, another exception occurred:\n",
      "\n",
      "Traceback (most recent call last):\n",
      "  File \"C:\\Users\\Vipooshan\\anaconda3\\envs\\GPU\\lib\\site-packages\\IPython\\core\\interactiveshell.py\", line 2045, in showtraceback\n",
      "    stb = value._render_traceback_()\n",
      "AttributeError: 'TypeError' object has no attribute '_render_traceback_'\n",
      "\n",
      "During handling of the above exception, another exception occurred:\n",
      "\n",
      "Traceback (most recent call last):\n",
      "  File \"C:\\Users\\Vipooshan\\anaconda3\\envs\\GPU\\lib\\site-packages\\IPython\\core\\ultratb.py\", line 1170, in get_records\n",
      "    return _fixed_getinnerframes(etb, number_of_lines_of_context, tb_offset)\n",
      "  File \"C:\\Users\\Vipooshan\\anaconda3\\envs\\GPU\\lib\\site-packages\\IPython\\core\\ultratb.py\", line 316, in wrapped\n",
      "    return f(*args, **kwargs)\n",
      "  File \"C:\\Users\\Vipooshan\\anaconda3\\envs\\GPU\\lib\\site-packages\\IPython\\core\\ultratb.py\", line 350, in _fixed_getinnerframes\n",
      "    records = fix_frame_records_filenames(inspect.getinnerframes(etb, context))\n",
      "  File \"C:\\Users\\Vipooshan\\anaconda3\\envs\\GPU\\lib\\inspect.py\", line 1502, in getinnerframes\n",
      "    frameinfo = (tb.tb_frame,) + getframeinfo(tb, context)\n",
      "  File \"C:\\Users\\Vipooshan\\anaconda3\\envs\\GPU\\lib\\inspect.py\", line 1460, in getframeinfo\n",
      "    filename = getsourcefile(frame) or getfile(frame)\n",
      "  File \"C:\\Users\\Vipooshan\\anaconda3\\envs\\GPU\\lib\\inspect.py\", line 696, in getsourcefile\n",
      "    if getattr(getmodule(object, filename), '__loader__', None) is not None:\n",
      "  File \"C:\\Users\\Vipooshan\\anaconda3\\envs\\GPU\\lib\\inspect.py\", line 733, in getmodule\n",
      "    if ismodule(module) and hasattr(module, '__file__'):\n",
      "  File \"C:\\Users\\Vipooshan\\anaconda3\\envs\\GPU\\lib\\site-packages\\tensorflow\\__init__.py\", line 50, in __getattr__\n",
      "    module = self._load()\n",
      "  File \"C:\\Users\\Vipooshan\\anaconda3\\envs\\GPU\\lib\\site-packages\\tensorflow\\__init__.py\", line 44, in _load\n",
      "    module = _importlib.import_module(self.__name__)\n",
      "  File \"C:\\Users\\Vipooshan\\anaconda3\\envs\\GPU\\lib\\importlib\\__init__.py\", line 127, in import_module\n",
      "    return _bootstrap._gcd_import(name[level:], package, level)\n",
      "  File \"<frozen importlib._bootstrap>\", line 1006, in _gcd_import\n",
      "  File \"<frozen importlib._bootstrap>\", line 983, in _find_and_load\n",
      "  File \"<frozen importlib._bootstrap>\", line 965, in _find_and_load_unlocked\n",
      "ModuleNotFoundError: No module named 'tensorflow_core.estimator'\n",
      "Traceback (most recent call last):\n",
      "  File \"C:\\Users\\Vipooshan\\anaconda3\\envs\\GPU\\lib\\site-packages\\IPython\\core\\interactiveshell.py\", line 3418, in run_code\n",
      "    exec(code_obj, self.user_global_ns, self.user_ns)\n",
      "  File \"<ipython-input-42-b7c4e5f08da7>\", line 1, in <module>\n",
      "    from vis.visualization import visualize_saliency\n",
      "  File \"C:\\Users\\Vipooshan\\anaconda3\\envs\\GPU\\lib\\site-packages\\vis\\visualization\\__init__.py\", line 7, in <module>\n",
      "    from .saliency import visualize_saliency_with_losses\n",
      "  File \"C:\\Users\\Vipooshan\\anaconda3\\envs\\GPU\\lib\\site-packages\\vis\\visualization\\saliency.py\", line 5, in <module>\n",
      "    from scipy.misc import imresize\n",
      "ImportError: cannot import name 'imresize' from 'scipy.misc' (C:\\Users\\Vipooshan\\anaconda3\\envs\\GPU\\lib\\site-packages\\scipy\\misc\\__init__.py)\n",
      "\n",
      "During handling of the above exception, another exception occurred:\n",
      "\n",
      "Traceback (most recent call last):\n",
      "  File \"C:\\Users\\Vipooshan\\anaconda3\\envs\\GPU\\lib\\site-packages\\IPython\\core\\interactiveshell.py\", line 2045, in showtraceback\n",
      "    stb = value._render_traceback_()\n",
      "AttributeError: 'ImportError' object has no attribute '_render_traceback_'\n",
      "\n",
      "During handling of the above exception, another exception occurred:\n",
      "\n",
      "Traceback (most recent call last):\n",
      "  File \"C:\\Users\\Vipooshan\\anaconda3\\envs\\GPU\\lib\\site-packages\\IPython\\core\\interactiveshell.py\", line 3338, in run_ast_nodes\n",
      "    if (await self.run_code(code, result,  async_=asy)):\n",
      "  File \"C:\\Users\\Vipooshan\\anaconda3\\envs\\GPU\\lib\\site-packages\\IPython\\core\\interactiveshell.py\", line 3435, in run_code\n",
      "    self.showtraceback(running_compiled_code=True)\n",
      "  File \"C:\\Users\\Vipooshan\\anaconda3\\envs\\GPU\\lib\\site-packages\\IPython\\core\\interactiveshell.py\", line 2048, in showtraceback\n",
      "    value, tb, tb_offset=tb_offset)\n",
      "  File \"C:\\Users\\Vipooshan\\anaconda3\\envs\\GPU\\lib\\site-packages\\IPython\\core\\ultratb.py\", line 1437, in structured_traceback\n",
      "    self, etype, value, tb, tb_offset, number_of_lines_of_context)\n",
      "  File \"C:\\Users\\Vipooshan\\anaconda3\\envs\\GPU\\lib\\site-packages\\IPython\\core\\ultratb.py\", line 1337, in structured_traceback\n",
      "    self, etype, value, tb, tb_offset, number_of_lines_of_context\n",
      "  File \"C:\\Users\\Vipooshan\\anaconda3\\envs\\GPU\\lib\\site-packages\\IPython\\core\\ultratb.py\", line 1194, in structured_traceback\n",
      "    tb_offset)\n",
      "  File \"C:\\Users\\Vipooshan\\anaconda3\\envs\\GPU\\lib\\site-packages\\IPython\\core\\ultratb.py\", line 1151, in format_exception_as_a_whole\n",
      "    last_unique, recursion_repeat = find_recursion(orig_etype, evalue, records)\n",
      "  File \"C:\\Users\\Vipooshan\\anaconda3\\envs\\GPU\\lib\\site-packages\\IPython\\core\\ultratb.py\", line 451, in find_recursion\n",
      "    return len(records), 0\n",
      "TypeError: object of type 'NoneType' has no len()\n",
      "\n",
      "During handling of the above exception, another exception occurred:\n",
      "\n",
      "Traceback (most recent call last):\n",
      "  File \"C:\\Users\\Vipooshan\\anaconda3\\envs\\GPU\\lib\\site-packages\\IPython\\core\\interactiveshell.py\", line 2045, in showtraceback\n",
      "    stb = value._render_traceback_()\n",
      "AttributeError: 'TypeError' object has no attribute '_render_traceback_'\n",
      "\n",
      "During handling of the above exception, another exception occurred:\n",
      "\n",
      "Traceback (most recent call last):\n",
      "  File \"C:\\Users\\Vipooshan\\anaconda3\\envs\\GPU\\lib\\site-packages\\IPython\\core\\interactiveshell.py\", line 2923, in _run_cell\n",
      "    return runner(coro)\n",
      "  File \"C:\\Users\\Vipooshan\\anaconda3\\envs\\GPU\\lib\\site-packages\\IPython\\core\\async_helpers.py\", line 68, in _pseudo_sync_runner\n",
      "    coro.send(None)\n",
      "  File \"C:\\Users\\Vipooshan\\anaconda3\\envs\\GPU\\lib\\site-packages\\IPython\\core\\interactiveshell.py\", line 3147, in run_cell_async\n",
      "    interactivity=interactivity, compiler=compiler, result=result)\n",
      "  File \"C:\\Users\\Vipooshan\\anaconda3\\envs\\GPU\\lib\\site-packages\\IPython\\core\\interactiveshell.py\", line 3357, in run_ast_nodes\n",
      "    self.showtraceback()\n",
      "  File \"C:\\Users\\Vipooshan\\anaconda3\\envs\\GPU\\lib\\site-packages\\IPython\\core\\interactiveshell.py\", line 2048, in showtraceback\n",
      "    value, tb, tb_offset=tb_offset)\n",
      "  File \"C:\\Users\\Vipooshan\\anaconda3\\envs\\GPU\\lib\\site-packages\\IPython\\core\\ultratb.py\", line 1437, in structured_traceback\n",
      "    self, etype, value, tb, tb_offset, number_of_lines_of_context)\n",
      "  File \"C:\\Users\\Vipooshan\\anaconda3\\envs\\GPU\\lib\\site-packages\\IPython\\core\\ultratb.py\", line 1337, in structured_traceback\n",
      "    self, etype, value, tb, tb_offset, number_of_lines_of_context\n",
      "  File \"C:\\Users\\Vipooshan\\anaconda3\\envs\\GPU\\lib\\site-packages\\IPython\\core\\ultratb.py\", line 1212, in structured_traceback\n",
      "    chained_exceptions_tb_offset)\n",
      "  File \"C:\\Users\\Vipooshan\\anaconda3\\envs\\GPU\\lib\\site-packages\\IPython\\core\\ultratb.py\", line 1151, in format_exception_as_a_whole\n",
      "    last_unique, recursion_repeat = find_recursion(orig_etype, evalue, records)\n",
      "  File \"C:\\Users\\Vipooshan\\anaconda3\\envs\\GPU\\lib\\site-packages\\IPython\\core\\ultratb.py\", line 451, in find_recursion\n",
      "    return len(records), 0\n",
      "TypeError: object of type 'NoneType' has no len()\n",
      "\n",
      "During handling of the above exception, another exception occurred:\n",
      "\n",
      "Traceback (most recent call last):\n",
      "  File \"C:\\Users\\Vipooshan\\anaconda3\\envs\\GPU\\lib\\site-packages\\IPython\\core\\interactiveshell.py\", line 2045, in showtraceback\n",
      "    stb = value._render_traceback_()\n",
      "AttributeError: 'TypeError' object has no attribute '_render_traceback_'\n",
      "\n",
      "During handling of the above exception, another exception occurred:\n",
      "\n",
      "Traceback (most recent call last):\n",
      "  File \"C:\\Users\\Vipooshan\\anaconda3\\envs\\GPU\\lib\\site-packages\\IPython\\core\\ultratb.py\", line 1170, in get_records\n",
      "    return _fixed_getinnerframes(etb, number_of_lines_of_context, tb_offset)\n",
      "  File \"C:\\Users\\Vipooshan\\anaconda3\\envs\\GPU\\lib\\site-packages\\IPython\\core\\ultratb.py\", line 316, in wrapped\n",
      "    return f(*args, **kwargs)\n",
      "  File \"C:\\Users\\Vipooshan\\anaconda3\\envs\\GPU\\lib\\site-packages\\IPython\\core\\ultratb.py\", line 350, in _fixed_getinnerframes\n",
      "    records = fix_frame_records_filenames(inspect.getinnerframes(etb, context))\n",
      "  File \"C:\\Users\\Vipooshan\\anaconda3\\envs\\GPU\\lib\\inspect.py\", line 1502, in getinnerframes\n",
      "    frameinfo = (tb.tb_frame,) + getframeinfo(tb, context)\n",
      "  File \"C:\\Users\\Vipooshan\\anaconda3\\envs\\GPU\\lib\\inspect.py\", line 1460, in getframeinfo\n",
      "    filename = getsourcefile(frame) or getfile(frame)\n",
      "  File \"C:\\Users\\Vipooshan\\anaconda3\\envs\\GPU\\lib\\inspect.py\", line 696, in getsourcefile\n",
      "    if getattr(getmodule(object, filename), '__loader__', None) is not None:\n",
      "  File \"C:\\Users\\Vipooshan\\anaconda3\\envs\\GPU\\lib\\inspect.py\", line 733, in getmodule\n",
      "    if ismodule(module) and hasattr(module, '__file__'):\n",
      "  File \"C:\\Users\\Vipooshan\\anaconda3\\envs\\GPU\\lib\\site-packages\\tensorflow\\__init__.py\", line 50, in __getattr__\n",
      "    module = self._load()\n",
      "  File \"C:\\Users\\Vipooshan\\anaconda3\\envs\\GPU\\lib\\site-packages\\tensorflow\\__init__.py\", line 44, in _load\n",
      "    module = _importlib.import_module(self.__name__)\n",
      "  File \"C:\\Users\\Vipooshan\\anaconda3\\envs\\GPU\\lib\\importlib\\__init__.py\", line 127, in import_module\n",
      "    return _bootstrap._gcd_import(name[level:], package, level)\n",
      "  File \"<frozen importlib._bootstrap>\", line 1006, in _gcd_import\n",
      "  File \"<frozen importlib._bootstrap>\", line 983, in _find_and_load\n",
      "  File \"<frozen importlib._bootstrap>\", line 965, in _find_and_load_unlocked\n",
      "ModuleNotFoundError: No module named 'tensorflow_core.estimator'\n"
     ]
    }
   ],
   "source": [
    "from vis.visualization import visualize_saliency\n",
    "from vis.utils import utils\n",
    "import matplotlib.pyplot as plt\n",
    "import numpy as np"
   ]
  },
  {
   "cell_type": "code",
   "execution_count": null,
   "metadata": {},
   "outputs": [],
   "source": []
  },
  {
   "cell_type": "code",
   "execution_count": null,
   "metadata": {},
   "outputs": [],
   "source": [
    "# Find the index of the to be visualized layer above\n",
    "layer_index = utils.find_layer_idx(model, 'visualized_layer')"
   ]
  },
  {
   "cell_type": "code",
   "execution_count": null,
   "metadata": {},
   "outputs": [],
   "source": []
  },
  {
   "cell_type": "code",
   "execution_count": null,
   "metadata": {},
   "outputs": [],
   "source": []
  },
  {
   "cell_type": "code",
   "execution_count": 42,
   "metadata": {},
   "outputs": [
    {
     "name": "stdout",
     "output_type": "stream",
     "text": [
      "ERROR! Session/line number was not unique in database. History logging moved to new session 2318\n"
     ]
    }
   ],
   "source": [
    "def get_saliency_map(model, image, class_idx):\n",
    "    with tf.GradientTape() as tape:\n",
    "        tape.watch(image)\n",
    "        predictions = model(image)\n",
    "        \n",
    "        loss = predictions[:, class_idx]\n",
    "    \n",
    "    # Get the gradients of the loss w.r.t to the input image.\n",
    "    gradient = tape.gradient(loss, image)\n",
    "    \n",
    "    # take maximum across channels\n",
    "    gradient = tf.reduce_max(gradient, axis=-1)\n",
    "    \n",
    "    # convert to numpy\n",
    "    gradient = gradient.numpy()\n",
    "    \n",
    "    # normaliz between 0 and 1\n",
    "    min_val, max_val = np.min(gradient), np.max(gradient)\n",
    "    smap = (gradient - min_val) / (max_val - min_val + keras.backend.epsilon())\n",
    "    \n",
    "    return smap"
   ]
  },
  {
   "cell_type": "code",
   "execution_count": null,
   "metadata": {},
   "outputs": [],
   "source": []
  },
  {
   "cell_type": "code",
   "execution_count": 43,
   "metadata": {},
   "outputs": [],
   "source": [
    "# loading multiple images\n",
    "image = X_train[0].copy()\n",
    "image1 = X_train[4].copy()\n",
    "image2 = X_train[6].copy()"
   ]
  },
  {
   "cell_type": "code",
   "execution_count": 44,
   "metadata": {},
   "outputs": [],
   "source": [
    "image = tf.convert_to_tensor(image)"
   ]
  },
  {
   "cell_type": "code",
   "execution_count": null,
   "metadata": {},
   "outputs": [
    {
     "name": "stderr",
     "output_type": "stream",
     "text": [
      "ERROR:root:Internal Python error in the inspect module.\n",
      "Below is the traceback from this internal error.\n",
      "\n",
      "ERROR:root:Internal Python error in the inspect module.\n",
      "Below is the traceback from this internal error.\n",
      "\n",
      "ERROR:root:Internal Python error in the inspect module.\n",
      "Below is the traceback from this internal error.\n",
      "\n"
     ]
    },
    {
     "name": "stdout",
     "output_type": "stream",
     "text": [
      "Traceback (most recent call last):\n",
      "  File \"C:\\Users\\Vipooshan\\anaconda3\\envs\\GPU\\lib\\site-packages\\IPython\\core\\interactiveshell.py\", line 3418, in run_code\n",
      "    exec(code_obj, self.user_global_ns, self.user_ns)\n",
      "  File \"<ipython-input-45-3fffac87482b>\", line 1, in <module>\n",
      "    sm = get_saliency_map(model, image, classes[int(y_train[0][1])])\n",
      "  File \"<ipython-input-42-3bbc3d7e4585>\", line 4, in get_saliency_map\n",
      "    predictions = model(image)\n",
      "  File \"C:\\Users\\Vipooshan\\anaconda3\\envs\\GPU\\lib\\site-packages\\keras\\backend\\tensorflow_backend.py\", line 75, in symbolic_fn_wrapper\n",
      "    return func(*args, **kwargs)\n",
      "  File \"C:\\Users\\Vipooshan\\anaconda3\\envs\\GPU\\lib\\site-packages\\keras\\engine\\base_layer.py\", line 489, in __call__\n",
      "    output = self.call(inputs, **kwargs)\n",
      "  File \"C:\\Users\\Vipooshan\\anaconda3\\envs\\GPU\\lib\\site-packages\\keras\\engine\\network.py\", line 583, in call\n",
      "    output_tensors, _, _ = self.run_internal_graph(inputs, masks)\n",
      "  File \"C:\\Users\\Vipooshan\\anaconda3\\envs\\GPU\\lib\\site-packages\\keras\\engine\\network.py\", line 740, in run_internal_graph\n",
      "    layer.call(computed_tensor, **kwargs))\n",
      "  File \"C:\\Users\\Vipooshan\\anaconda3\\envs\\GPU\\lib\\site-packages\\keras\\engine\\network.py\", line 583, in call\n",
      "    output_tensors, _, _ = self.run_internal_graph(inputs, masks)\n",
      "  File \"C:\\Users\\Vipooshan\\anaconda3\\envs\\GPU\\lib\\site-packages\\keras\\engine\\network.py\", line 740, in run_internal_graph\n",
      "    layer.call(computed_tensor, **kwargs))\n",
      "  File \"C:\\Users\\Vipooshan\\anaconda3\\envs\\GPU\\lib\\site-packages\\keras\\layers\\convolutional.py\", line 171, in call\n",
      "    dilation_rate=self.dilation_rate)\n",
      "  File \"C:\\Users\\Vipooshan\\anaconda3\\envs\\GPU\\lib\\site-packages\\keras\\backend\\tensorflow_backend.py\", line 3717, in conv2d\n",
      "    **kwargs)\n",
      "  File \"C:\\Users\\Vipooshan\\anaconda3\\envs\\GPU\\lib\\site-packages\\tensorflow_core\\python\\ops\\nn_ops.py\", line 918, in convolution_v2\n",
      "    name=name)\n",
      "  File \"C:\\Users\\Vipooshan\\anaconda3\\envs\\GPU\\lib\\site-packages\\tensorflow_core\\python\\ops\\nn_ops.py\", line 977, in convolution_internal\n",
      "    strides = _get_sequence(strides, n, channel_index, \"strides\")\n",
      "  File \"C:\\Users\\Vipooshan\\anaconda3\\envs\\GPU\\lib\\site-packages\\tensorflow_core\\python\\ops\\nn_ops.py\", line 78, in _get_sequence\n",
      "    name, n, n + 2, current_n))\n",
      "ValueError: strides should be of length 1, 1 or 3 but was 2\n",
      "\n",
      "During handling of the above exception, another exception occurred:\n",
      "\n",
      "Traceback (most recent call last):\n",
      "  File \"C:\\Users\\Vipooshan\\anaconda3\\envs\\GPU\\lib\\site-packages\\IPython\\core\\interactiveshell.py\", line 2045, in showtraceback\n",
      "    stb = value._render_traceback_()\n",
      "AttributeError: 'ValueError' object has no attribute '_render_traceback_'\n",
      "\n",
      "During handling of the above exception, another exception occurred:\n",
      "\n",
      "Traceback (most recent call last):\n",
      "  File \"C:\\Users\\Vipooshan\\anaconda3\\envs\\GPU\\lib\\site-packages\\IPython\\core\\ultratb.py\", line 1170, in get_records\n",
      "    return _fixed_getinnerframes(etb, number_of_lines_of_context, tb_offset)\n",
      "  File \"C:\\Users\\Vipooshan\\anaconda3\\envs\\GPU\\lib\\site-packages\\IPython\\core\\ultratb.py\", line 316, in wrapped\n",
      "    return f(*args, **kwargs)\n",
      "  File \"C:\\Users\\Vipooshan\\anaconda3\\envs\\GPU\\lib\\site-packages\\IPython\\core\\ultratb.py\", line 350, in _fixed_getinnerframes\n",
      "    records = fix_frame_records_filenames(inspect.getinnerframes(etb, context))\n",
      "  File \"C:\\Users\\Vipooshan\\anaconda3\\envs\\GPU\\lib\\inspect.py\", line 1502, in getinnerframes\n",
      "    frameinfo = (tb.tb_frame,) + getframeinfo(tb, context)\n",
      "  File \"C:\\Users\\Vipooshan\\anaconda3\\envs\\GPU\\lib\\inspect.py\", line 1460, in getframeinfo\n",
      "    filename = getsourcefile(frame) or getfile(frame)\n",
      "  File \"C:\\Users\\Vipooshan\\anaconda3\\envs\\GPU\\lib\\inspect.py\", line 696, in getsourcefile\n",
      "    if getattr(getmodule(object, filename), '__loader__', None) is not None:\n",
      "  File \"C:\\Users\\Vipooshan\\anaconda3\\envs\\GPU\\lib\\inspect.py\", line 733, in getmodule\n",
      "    if ismodule(module) and hasattr(module, '__file__'):\n",
      "  File \"C:\\Users\\Vipooshan\\anaconda3\\envs\\GPU\\lib\\site-packages\\tensorflow\\__init__.py\", line 50, in __getattr__\n",
      "    module = self._load()\n",
      "  File \"C:\\Users\\Vipooshan\\anaconda3\\envs\\GPU\\lib\\site-packages\\tensorflow\\__init__.py\", line 44, in _load\n",
      "    module = _importlib.import_module(self.__name__)\n",
      "  File \"C:\\Users\\Vipooshan\\anaconda3\\envs\\GPU\\lib\\importlib\\__init__.py\", line 127, in import_module\n",
      "    return _bootstrap._gcd_import(name[level:], package, level)\n",
      "  File \"<frozen importlib._bootstrap>\", line 1006, in _gcd_import\n",
      "  File \"<frozen importlib._bootstrap>\", line 983, in _find_and_load\n",
      "  File \"<frozen importlib._bootstrap>\", line 965, in _find_and_load_unlocked\n",
      "ModuleNotFoundError: No module named 'tensorflow_core.estimator'\n",
      "Traceback (most recent call last):\n",
      "  File \"C:\\Users\\Vipooshan\\anaconda3\\envs\\GPU\\lib\\site-packages\\IPython\\core\\interactiveshell.py\", line 3418, in run_code\n",
      "    exec(code_obj, self.user_global_ns, self.user_ns)\n",
      "  File \"<ipython-input-45-3fffac87482b>\", line 1, in <module>\n",
      "    sm = get_saliency_map(model, image, classes[int(y_train[0][1])])\n",
      "  File \"<ipython-input-42-3bbc3d7e4585>\", line 4, in get_saliency_map\n",
      "    predictions = model(image)\n",
      "  File \"C:\\Users\\Vipooshan\\anaconda3\\envs\\GPU\\lib\\site-packages\\keras\\backend\\tensorflow_backend.py\", line 75, in symbolic_fn_wrapper\n",
      "    return func(*args, **kwargs)\n",
      "  File \"C:\\Users\\Vipooshan\\anaconda3\\envs\\GPU\\lib\\site-packages\\keras\\engine\\base_layer.py\", line 489, in __call__\n",
      "    output = self.call(inputs, **kwargs)\n",
      "  File \"C:\\Users\\Vipooshan\\anaconda3\\envs\\GPU\\lib\\site-packages\\keras\\engine\\network.py\", line 583, in call\n",
      "    output_tensors, _, _ = self.run_internal_graph(inputs, masks)\n",
      "  File \"C:\\Users\\Vipooshan\\anaconda3\\envs\\GPU\\lib\\site-packages\\keras\\engine\\network.py\", line 740, in run_internal_graph\n",
      "    layer.call(computed_tensor, **kwargs))\n",
      "  File \"C:\\Users\\Vipooshan\\anaconda3\\envs\\GPU\\lib\\site-packages\\keras\\engine\\network.py\", line 583, in call\n",
      "    output_tensors, _, _ = self.run_internal_graph(inputs, masks)\n",
      "  File \"C:\\Users\\Vipooshan\\anaconda3\\envs\\GPU\\lib\\site-packages\\keras\\engine\\network.py\", line 740, in run_internal_graph\n",
      "    layer.call(computed_tensor, **kwargs))\n",
      "  File \"C:\\Users\\Vipooshan\\anaconda3\\envs\\GPU\\lib\\site-packages\\keras\\layers\\convolutional.py\", line 171, in call\n",
      "    dilation_rate=self.dilation_rate)\n",
      "  File \"C:\\Users\\Vipooshan\\anaconda3\\envs\\GPU\\lib\\site-packages\\keras\\backend\\tensorflow_backend.py\", line 3717, in conv2d\n",
      "    **kwargs)\n",
      "  File \"C:\\Users\\Vipooshan\\anaconda3\\envs\\GPU\\lib\\site-packages\\tensorflow_core\\python\\ops\\nn_ops.py\", line 918, in convolution_v2\n",
      "    name=name)\n",
      "  File \"C:\\Users\\Vipooshan\\anaconda3\\envs\\GPU\\lib\\site-packages\\tensorflow_core\\python\\ops\\nn_ops.py\", line 977, in convolution_internal\n",
      "    strides = _get_sequence(strides, n, channel_index, \"strides\")\n",
      "  File \"C:\\Users\\Vipooshan\\anaconda3\\envs\\GPU\\lib\\site-packages\\tensorflow_core\\python\\ops\\nn_ops.py\", line 78, in _get_sequence\n",
      "    name, n, n + 2, current_n))\n",
      "ValueError: strides should be of length 1, 1 or 3 but was 2\n",
      "\n",
      "During handling of the above exception, another exception occurred:\n",
      "\n",
      "Traceback (most recent call last):\n",
      "  File \"C:\\Users\\Vipooshan\\anaconda3\\envs\\GPU\\lib\\site-packages\\IPython\\core\\interactiveshell.py\", line 2045, in showtraceback\n",
      "    stb = value._render_traceback_()\n",
      "AttributeError: 'ValueError' object has no attribute '_render_traceback_'\n",
      "\n",
      "During handling of the above exception, another exception occurred:\n",
      "\n",
      "Traceback (most recent call last):\n",
      "  File \"C:\\Users\\Vipooshan\\anaconda3\\envs\\GPU\\lib\\site-packages\\IPython\\core\\interactiveshell.py\", line 3338, in run_ast_nodes\n",
      "    if (await self.run_code(code, result,  async_=asy)):\n",
      "  File \"C:\\Users\\Vipooshan\\anaconda3\\envs\\GPU\\lib\\site-packages\\IPython\\core\\interactiveshell.py\", line 3435, in run_code\n",
      "    self.showtraceback(running_compiled_code=True)\n",
      "  File \"C:\\Users\\Vipooshan\\anaconda3\\envs\\GPU\\lib\\site-packages\\IPython\\core\\interactiveshell.py\", line 2048, in showtraceback\n",
      "    value, tb, tb_offset=tb_offset)\n",
      "  File \"C:\\Users\\Vipooshan\\anaconda3\\envs\\GPU\\lib\\site-packages\\IPython\\core\\ultratb.py\", line 1437, in structured_traceback\n",
      "    self, etype, value, tb, tb_offset, number_of_lines_of_context)\n",
      "  File \"C:\\Users\\Vipooshan\\anaconda3\\envs\\GPU\\lib\\site-packages\\IPython\\core\\ultratb.py\", line 1337, in structured_traceback\n",
      "    self, etype, value, tb, tb_offset, number_of_lines_of_context\n",
      "  File \"C:\\Users\\Vipooshan\\anaconda3\\envs\\GPU\\lib\\site-packages\\IPython\\core\\ultratb.py\", line 1194, in structured_traceback\n",
      "    tb_offset)\n",
      "  File \"C:\\Users\\Vipooshan\\anaconda3\\envs\\GPU\\lib\\site-packages\\IPython\\core\\ultratb.py\", line 1151, in format_exception_as_a_whole\n",
      "    last_unique, recursion_repeat = find_recursion(orig_etype, evalue, records)\n",
      "  File \"C:\\Users\\Vipooshan\\anaconda3\\envs\\GPU\\lib\\site-packages\\IPython\\core\\ultratb.py\", line 451, in find_recursion\n",
      "    return len(records), 0\n",
      "TypeError: object of type 'NoneType' has no len()\n",
      "\n",
      "During handling of the above exception, another exception occurred:\n",
      "\n",
      "Traceback (most recent call last):\n",
      "  File \"C:\\Users\\Vipooshan\\anaconda3\\envs\\GPU\\lib\\site-packages\\IPython\\core\\interactiveshell.py\", line 2045, in showtraceback\n",
      "    stb = value._render_traceback_()\n",
      "AttributeError: 'TypeError' object has no attribute '_render_traceback_'\n",
      "\n",
      "During handling of the above exception, another exception occurred:\n",
      "\n",
      "Traceback (most recent call last):\n",
      "  File \"C:\\Users\\Vipooshan\\anaconda3\\envs\\GPU\\lib\\site-packages\\IPython\\core\\ultratb.py\", line 1170, in get_records\n",
      "    return _fixed_getinnerframes(etb, number_of_lines_of_context, tb_offset)\n",
      "  File \"C:\\Users\\Vipooshan\\anaconda3\\envs\\GPU\\lib\\site-packages\\IPython\\core\\ultratb.py\", line 316, in wrapped\n",
      "    return f(*args, **kwargs)\n",
      "  File \"C:\\Users\\Vipooshan\\anaconda3\\envs\\GPU\\lib\\site-packages\\IPython\\core\\ultratb.py\", line 350, in _fixed_getinnerframes\n",
      "    records = fix_frame_records_filenames(inspect.getinnerframes(etb, context))\n",
      "  File \"C:\\Users\\Vipooshan\\anaconda3\\envs\\GPU\\lib\\inspect.py\", line 1502, in getinnerframes\n",
      "    frameinfo = (tb.tb_frame,) + getframeinfo(tb, context)\n",
      "  File \"C:\\Users\\Vipooshan\\anaconda3\\envs\\GPU\\lib\\inspect.py\", line 1460, in getframeinfo\n",
      "    filename = getsourcefile(frame) or getfile(frame)\n",
      "  File \"C:\\Users\\Vipooshan\\anaconda3\\envs\\GPU\\lib\\inspect.py\", line 696, in getsourcefile\n",
      "    if getattr(getmodule(object, filename), '__loader__', None) is not None:\n",
      "  File \"C:\\Users\\Vipooshan\\anaconda3\\envs\\GPU\\lib\\inspect.py\", line 733, in getmodule\n",
      "    if ismodule(module) and hasattr(module, '__file__'):\n",
      "  File \"C:\\Users\\Vipooshan\\anaconda3\\envs\\GPU\\lib\\site-packages\\tensorflow\\__init__.py\", line 50, in __getattr__\n",
      "    module = self._load()\n",
      "  File \"C:\\Users\\Vipooshan\\anaconda3\\envs\\GPU\\lib\\site-packages\\tensorflow\\__init__.py\", line 44, in _load\n",
      "    module = _importlib.import_module(self.__name__)\n",
      "  File \"C:\\Users\\Vipooshan\\anaconda3\\envs\\GPU\\lib\\importlib\\__init__.py\", line 127, in import_module\n",
      "    return _bootstrap._gcd_import(name[level:], package, level)\n",
      "  File \"<frozen importlib._bootstrap>\", line 1006, in _gcd_import\n",
      "  File \"<frozen importlib._bootstrap>\", line 983, in _find_and_load\n",
      "  File \"<frozen importlib._bootstrap>\", line 965, in _find_and_load_unlocked\n",
      "ModuleNotFoundError: No module named 'tensorflow_core.estimator'\n",
      "Traceback (most recent call last):\n",
      "  File \"C:\\Users\\Vipooshan\\anaconda3\\envs\\GPU\\lib\\site-packages\\IPython\\core\\interactiveshell.py\", line 3418, in run_code\n",
      "    exec(code_obj, self.user_global_ns, self.user_ns)\n",
      "  File \"<ipython-input-45-3fffac87482b>\", line 1, in <module>\n",
      "    sm = get_saliency_map(model, image, classes[int(y_train[0][1])])\n",
      "  File \"<ipython-input-42-3bbc3d7e4585>\", line 4, in get_saliency_map\n",
      "    predictions = model(image)\n",
      "  File \"C:\\Users\\Vipooshan\\anaconda3\\envs\\GPU\\lib\\site-packages\\keras\\backend\\tensorflow_backend.py\", line 75, in symbolic_fn_wrapper\n",
      "    return func(*args, **kwargs)\n",
      "  File \"C:\\Users\\Vipooshan\\anaconda3\\envs\\GPU\\lib\\site-packages\\keras\\engine\\base_layer.py\", line 489, in __call__\n",
      "    output = self.call(inputs, **kwargs)\n",
      "  File \"C:\\Users\\Vipooshan\\anaconda3\\envs\\GPU\\lib\\site-packages\\keras\\engine\\network.py\", line 583, in call\n",
      "    output_tensors, _, _ = self.run_internal_graph(inputs, masks)\n",
      "  File \"C:\\Users\\Vipooshan\\anaconda3\\envs\\GPU\\lib\\site-packages\\keras\\engine\\network.py\", line 740, in run_internal_graph\n",
      "    layer.call(computed_tensor, **kwargs))\n",
      "  File \"C:\\Users\\Vipooshan\\anaconda3\\envs\\GPU\\lib\\site-packages\\keras\\engine\\network.py\", line 583, in call\n",
      "    output_tensors, _, _ = self.run_internal_graph(inputs, masks)\n",
      "  File \"C:\\Users\\Vipooshan\\anaconda3\\envs\\GPU\\lib\\site-packages\\keras\\engine\\network.py\", line 740, in run_internal_graph\n",
      "    layer.call(computed_tensor, **kwargs))\n",
      "  File \"C:\\Users\\Vipooshan\\anaconda3\\envs\\GPU\\lib\\site-packages\\keras\\layers\\convolutional.py\", line 171, in call\n",
      "    dilation_rate=self.dilation_rate)\n",
      "  File \"C:\\Users\\Vipooshan\\anaconda3\\envs\\GPU\\lib\\site-packages\\keras\\backend\\tensorflow_backend.py\", line 3717, in conv2d\n",
      "    **kwargs)\n",
      "  File \"C:\\Users\\Vipooshan\\anaconda3\\envs\\GPU\\lib\\site-packages\\tensorflow_core\\python\\ops\\nn_ops.py\", line 918, in convolution_v2\n",
      "    name=name)\n",
      "  File \"C:\\Users\\Vipooshan\\anaconda3\\envs\\GPU\\lib\\site-packages\\tensorflow_core\\python\\ops\\nn_ops.py\", line 977, in convolution_internal\n",
      "    strides = _get_sequence(strides, n, channel_index, \"strides\")\n",
      "  File \"C:\\Users\\Vipooshan\\anaconda3\\envs\\GPU\\lib\\site-packages\\tensorflow_core\\python\\ops\\nn_ops.py\", line 78, in _get_sequence\n",
      "    name, n, n + 2, current_n))\n",
      "ValueError: strides should be of length 1, 1 or 3 but was 2\n",
      "\n",
      "During handling of the above exception, another exception occurred:\n",
      "\n",
      "Traceback (most recent call last):\n",
      "  File \"C:\\Users\\Vipooshan\\anaconda3\\envs\\GPU\\lib\\site-packages\\IPython\\core\\interactiveshell.py\", line 2045, in showtraceback\n",
      "    stb = value._render_traceback_()\n",
      "AttributeError: 'ValueError' object has no attribute '_render_traceback_'\n",
      "\n",
      "During handling of the above exception, another exception occurred:\n",
      "\n",
      "Traceback (most recent call last):\n",
      "  File \"C:\\Users\\Vipooshan\\anaconda3\\envs\\GPU\\lib\\site-packages\\IPython\\core\\interactiveshell.py\", line 3338, in run_ast_nodes\n",
      "    if (await self.run_code(code, result,  async_=asy)):\n",
      "  File \"C:\\Users\\Vipooshan\\anaconda3\\envs\\GPU\\lib\\site-packages\\IPython\\core\\interactiveshell.py\", line 3435, in run_code\n",
      "    self.showtraceback(running_compiled_code=True)\n",
      "  File \"C:\\Users\\Vipooshan\\anaconda3\\envs\\GPU\\lib\\site-packages\\IPython\\core\\interactiveshell.py\", line 2048, in showtraceback\n",
      "    value, tb, tb_offset=tb_offset)\n",
      "  File \"C:\\Users\\Vipooshan\\anaconda3\\envs\\GPU\\lib\\site-packages\\IPython\\core\\ultratb.py\", line 1437, in structured_traceback\n",
      "    self, etype, value, tb, tb_offset, number_of_lines_of_context)\n",
      "  File \"C:\\Users\\Vipooshan\\anaconda3\\envs\\GPU\\lib\\site-packages\\IPython\\core\\ultratb.py\", line 1337, in structured_traceback\n",
      "    self, etype, value, tb, tb_offset, number_of_lines_of_context\n",
      "  File \"C:\\Users\\Vipooshan\\anaconda3\\envs\\GPU\\lib\\site-packages\\IPython\\core\\ultratb.py\", line 1194, in structured_traceback\n",
      "    tb_offset)\n",
      "  File \"C:\\Users\\Vipooshan\\anaconda3\\envs\\GPU\\lib\\site-packages\\IPython\\core\\ultratb.py\", line 1151, in format_exception_as_a_whole\n",
      "    last_unique, recursion_repeat = find_recursion(orig_etype, evalue, records)\n",
      "  File \"C:\\Users\\Vipooshan\\anaconda3\\envs\\GPU\\lib\\site-packages\\IPython\\core\\ultratb.py\", line 451, in find_recursion\n",
      "    return len(records), 0\n",
      "TypeError: object of type 'NoneType' has no len()\n",
      "\n",
      "During handling of the above exception, another exception occurred:\n",
      "\n",
      "Traceback (most recent call last):\n",
      "  File \"C:\\Users\\Vipooshan\\anaconda3\\envs\\GPU\\lib\\site-packages\\IPython\\core\\interactiveshell.py\", line 2045, in showtraceback\n",
      "    stb = value._render_traceback_()\n",
      "AttributeError: 'TypeError' object has no attribute '_render_traceback_'\n",
      "\n",
      "During handling of the above exception, another exception occurred:\n",
      "\n",
      "Traceback (most recent call last):\n",
      "  File \"C:\\Users\\Vipooshan\\anaconda3\\envs\\GPU\\lib\\site-packages\\IPython\\core\\interactiveshell.py\", line 2923, in _run_cell\n",
      "    return runner(coro)\n",
      "  File \"C:\\Users\\Vipooshan\\anaconda3\\envs\\GPU\\lib\\site-packages\\IPython\\core\\async_helpers.py\", line 68, in _pseudo_sync_runner\n",
      "    coro.send(None)\n",
      "  File \"C:\\Users\\Vipooshan\\anaconda3\\envs\\GPU\\lib\\site-packages\\IPython\\core\\interactiveshell.py\", line 3147, in run_cell_async\n",
      "    interactivity=interactivity, compiler=compiler, result=result)\n",
      "  File \"C:\\Users\\Vipooshan\\anaconda3\\envs\\GPU\\lib\\site-packages\\IPython\\core\\interactiveshell.py\", line 3357, in run_ast_nodes\n",
      "    self.showtraceback()\n",
      "  File \"C:\\Users\\Vipooshan\\anaconda3\\envs\\GPU\\lib\\site-packages\\IPython\\core\\interactiveshell.py\", line 2048, in showtraceback\n",
      "    value, tb, tb_offset=tb_offset)\n",
      "  File \"C:\\Users\\Vipooshan\\anaconda3\\envs\\GPU\\lib\\site-packages\\IPython\\core\\ultratb.py\", line 1437, in structured_traceback\n",
      "    self, etype, value, tb, tb_offset, number_of_lines_of_context)\n",
      "  File \"C:\\Users\\Vipooshan\\anaconda3\\envs\\GPU\\lib\\site-packages\\IPython\\core\\ultratb.py\", line 1337, in structured_traceback\n",
      "    self, etype, value, tb, tb_offset, number_of_lines_of_context\n",
      "  File \"C:\\Users\\Vipooshan\\anaconda3\\envs\\GPU\\lib\\site-packages\\IPython\\core\\ultratb.py\", line 1212, in structured_traceback\n",
      "    chained_exceptions_tb_offset)\n",
      "  File \"C:\\Users\\Vipooshan\\anaconda3\\envs\\GPU\\lib\\site-packages\\IPython\\core\\ultratb.py\", line 1151, in format_exception_as_a_whole\n",
      "    last_unique, recursion_repeat = find_recursion(orig_etype, evalue, records)\n",
      "  File \"C:\\Users\\Vipooshan\\anaconda3\\envs\\GPU\\lib\\site-packages\\IPython\\core\\ultratb.py\", line 451, in find_recursion\n",
      "    return len(records), 0\n",
      "TypeError: object of type 'NoneType' has no len()\n",
      "\n",
      "During handling of the above exception, another exception occurred:\n",
      "\n",
      "Traceback (most recent call last):\n",
      "  File \"C:\\Users\\Vipooshan\\anaconda3\\envs\\GPU\\lib\\site-packages\\IPython\\core\\interactiveshell.py\", line 2045, in showtraceback\n",
      "    stb = value._render_traceback_()\n",
      "AttributeError: 'TypeError' object has no attribute '_render_traceback_'\n",
      "\n",
      "During handling of the above exception, another exception occurred:\n",
      "\n",
      "Traceback (most recent call last):\n",
      "  File \"C:\\Users\\Vipooshan\\anaconda3\\envs\\GPU\\lib\\site-packages\\IPython\\core\\ultratb.py\", line 1170, in get_records\n",
      "    return _fixed_getinnerframes(etb, number_of_lines_of_context, tb_offset)\n",
      "  File \"C:\\Users\\Vipooshan\\anaconda3\\envs\\GPU\\lib\\site-packages\\IPython\\core\\ultratb.py\", line 316, in wrapped\n",
      "    return f(*args, **kwargs)\n",
      "  File \"C:\\Users\\Vipooshan\\anaconda3\\envs\\GPU\\lib\\site-packages\\IPython\\core\\ultratb.py\", line 350, in _fixed_getinnerframes\n",
      "    records = fix_frame_records_filenames(inspect.getinnerframes(etb, context))\n",
      "  File \"C:\\Users\\Vipooshan\\anaconda3\\envs\\GPU\\lib\\inspect.py\", line 1502, in getinnerframes\n",
      "    frameinfo = (tb.tb_frame,) + getframeinfo(tb, context)\n",
      "  File \"C:\\Users\\Vipooshan\\anaconda3\\envs\\GPU\\lib\\inspect.py\", line 1460, in getframeinfo\n",
      "    filename = getsourcefile(frame) or getfile(frame)\n",
      "  File \"C:\\Users\\Vipooshan\\anaconda3\\envs\\GPU\\lib\\inspect.py\", line 696, in getsourcefile\n",
      "    if getattr(getmodule(object, filename), '__loader__', None) is not None:\n",
      "  File \"C:\\Users\\Vipooshan\\anaconda3\\envs\\GPU\\lib\\inspect.py\", line 733, in getmodule\n",
      "    if ismodule(module) and hasattr(module, '__file__'):\n",
      "  File \"C:\\Users\\Vipooshan\\anaconda3\\envs\\GPU\\lib\\site-packages\\tensorflow\\__init__.py\", line 50, in __getattr__\n",
      "    module = self._load()\n",
      "  File \"C:\\Users\\Vipooshan\\anaconda3\\envs\\GPU\\lib\\site-packages\\tensorflow\\__init__.py\", line 44, in _load\n",
      "    module = _importlib.import_module(self.__name__)\n",
      "  File \"C:\\Users\\Vipooshan\\anaconda3\\envs\\GPU\\lib\\importlib\\__init__.py\", line 127, in import_module\n",
      "    return _bootstrap._gcd_import(name[level:], package, level)\n",
      "  File \"<frozen importlib._bootstrap>\", line 1006, in _gcd_import\n",
      "  File \"<frozen importlib._bootstrap>\", line 983, in _find_and_load\n",
      "  File \"<frozen importlib._bootstrap>\", line 965, in _find_and_load_unlocked\n",
      "ModuleNotFoundError: No module named 'tensorflow_core.estimator'\n"
     ]
    }
   ],
   "source": [
    "sm = get_saliency_map(model, image, classes[int(y_train[0][1])])\n",
    "\n",
    "plt.imshow(sm)\n",
    "# plt.xlabel(classes[y_train[6]])\n",
    "plt.show()"
   ]
  },
  {
   "cell_type": "code",
   "execution_count": null,
   "metadata": {},
   "outputs": [],
   "source": [
    "from keras.preprocessing.image import img_to_array\n",
    "from keras.applications.vgg16 import preprocess_input\n",
    "\n",
    "# convert the image pixels to a numpy array\n",
    "image = img_to_array(image)\n",
    "image1 = img_to_array(image1)\n",
    "image2 = img_to_array(image2)\n",
    "\n",
    "image = image.reshape((1, image.shape[0], image.shape[1], image.shape[2]))\n",
    "image1 = image1.reshape((1, image1.shape[0], image1.shape[1], image1.shape[2]))\n",
    "image2 = image2.reshape((1, image2.shape[0], image2.shape[1], image2.shape[2]))"
   ]
  },
  {
   "cell_type": "code",
   "execution_count": null,
   "metadata": {},
   "outputs": [],
   "source": [
    "# prepare the image for the VGG model\n",
    "image = preprocess_input(image)\n",
    "image1 = preprocess_input(image1)\n",
    "image2 = preprocess_input(image2)"
   ]
  },
  {
   "cell_type": "code",
   "execution_count": null,
   "metadata": {},
   "outputs": [],
   "source": [
    "#making predictions\n",
    "yhat = model.predict(image)\n",
    "yhat1 = model.predict(image1)\n",
    "yhat2 = model.predict(image2)"
   ]
  },
  {
   "cell_type": "code",
   "execution_count": null,
   "metadata": {},
   "outputs": [],
   "source": [
    "yhat"
   ]
  },
  {
   "cell_type": "code",
   "execution_count": null,
   "metadata": {},
   "outputs": [],
   "source": [
    "classes[int(y_train[0][1])]"
   ]
  },
  {
   "cell_type": "code",
   "execution_count": null,
   "metadata": {},
   "outputs": [],
   "source": [
    "from keras.applications.vgg16 import decode_predictions\n",
    "# convert the probabilities to class labels\n",
    "label = decode_predictions(yhat)\n",
    "label1 = decode_predictions(yhat1)\n",
    "label2 = decode_predictions(yhat2)\n",
    "# retrieve the most likely result, e.g. highest probability\n",
    "label = label[0][1]\n",
    "label1 = label1[0][1]\n",
    "label2 = label2[0][1]\n",
    "# print the classification\n",
    "print('%s (%.2f%%)' % (label[1], label[2]*100))\n",
    "print('%s (%.2f%%)' % (label1[1], label1[2]*100))\n",
    "print('%s (%.2f%%)' % (label2[1], label2[2]*100))"
   ]
  },
  {
   "cell_type": "code",
   "execution_count": null,
   "metadata": {},
   "outputs": [],
   "source": [
    "#input images\n",
    "import matplotlib.pyplot as plt\n",
    "\n",
    "_img = X_train[0].copy()\n",
    "plt.imshow(_img)\n",
    "# plt.xlabel(classes[y_train[0]])\n",
    "plt.show()\n",
    "\n",
    "_img1 = X_train[4].copy()\n",
    "plt.imshow(_img1)\n",
    "# plt.xlabel(classes[y_train[4]])\n",
    "plt.show()\n",
    "\n",
    "_img2 = X_train[6].copy()\n",
    "plt.imshow(_img2)\n",
    "# plt.xlabel(classes[y_train[6]])\n",
    "plt.show()"
   ]
  },
  {
   "cell_type": "code",
   "execution_count": null,
   "metadata": {},
   "outputs": [],
   "source": [
    "#top 5 predictions\n",
    "import numpy as np\n",
    "\n",
    "class_idxs_sorted = np.argsort(yhat.flatten())[::-1]\n",
    "class_idxs_sorted1 = np.argsort(yhat1.flatten())[::-1]\n",
    "class_idxs_sorted2 = np.argsort(yhat2.flatten())[::-1]\n",
    "topNclass         = 5\n",
    "\n",
    "print('for first image\\n')\n",
    "\n",
    "for i, idx in enumerate(class_idxs_sorted[:topNclass]):\n",
    "    print(\"Top {} predicted class:     Pr(Class={:18} [index={}])={:5.3f}\".format(\n",
    "          i + 1,classlabel[idx],idx,yhat[0,idx]))\n",
    "\n",
    "print('for second image\\n')\n",
    "\n",
    "for i, idx in enumerate(class_idxs_sorted1[:topNclass]):\n",
    "    print(\"Top {} predicted class:     Pr(Class={:18} [index={}])={:5.3f}\".format(\n",
    "          i + 1,classlabel[idx],idx,yhat1[0,idx]))\n",
    "\n",
    "print('for third image\\n')\n",
    "\n",
    "\n",
    "for i, idx in enumerate(class_idxs_sorted2[:topNclass]):\n",
    "    print(\"Top {} predicted class:     Pr(Class={:18} [index={}])={:5.3f}\".format(\n",
    "          i + 1,classlabel[idx],idx,yhat2[0,idx]))"
   ]
  },
  {
   "cell_type": "code",
   "execution_count": null,
   "metadata": {},
   "outputs": [],
   "source": [
    "from vis.utils import utils\n",
    "\n",
    "layer_idx = utils.find_layer_idx(model, 'predictions')"
   ]
  },
  {
   "cell_type": "code",
   "execution_count": null,
   "metadata": {},
   "outputs": [],
   "source": [
    "# Swap softmax with linear\n",
    "model.layers[layer_idx].activation = keras.activations.linear\n",
    "model = utils.apply_modifications(model)"
   ]
  },
  {
   "cell_type": "code",
   "execution_count": null,
   "metadata": {},
   "outputs": [],
   "source": [
    "# Saliency Maps\n",
    "from vis.visualization import visualize_saliency\n",
    "img               = img_to_array(_img)\n",
    "img               = preprocess_input(img)\n",
    "class_idx = class_idxs_sorted[0]\n",
    "grad_top1 = visualize_saliency(model,\n",
    "                               layer_idx,\n",
    "                               filter_indices = class_idx,\n",
    "                               seed_input     = img[np.newaxis,...])\n",
    "\n",
    "img1               = img_to_array(_img1)\n",
    "img1               = preprocess_input(img1)\n",
    "class_idx1 = class_idxs_sorted[0]\n",
    "grad_top11 = visualize_saliency(model,\n",
    "                               layer_idx,\n",
    "                               filter_indices = class_idx,\n",
    "                               seed_input     = img1[np.newaxis,...])\n",
    "\n",
    "img2               = img_to_array(_img2)\n",
    "img2               = preprocess_input(img2)\n",
    "class_idx2 = class_idxs_sorted[0]\n",
    "grad_top12 = visualize_saliency(model,\n",
    "                               layer_idx,\n",
    "                               filter_indices = class_idx,\n",
    "                               seed_input     = img2[np.newaxis,...])"
   ]
  },
  {
   "cell_type": "code",
   "execution_count": null,
   "metadata": {},
   "outputs": [],
   "source": [
    "# visualize SALIENCY MAPS\n",
    "def plot_map(grads,_img,yhat):\n",
    "    fig, axes = plt.subplots(1,2,figsize=(14,5))\n",
    "    axes[0].imshow(_img)\n",
    "    axes[1].imshow(_img)\n",
    "    i = axes[1].imshow(grads,cmap=\"jet\",alpha=0.8)\n",
    "    fig.colorbar(i)\n",
    "    plt.suptitle(\"Pr(class={}) = {:5.2f}\".format(\n",
    "                      classlabel[class_idx],\n",
    "                      yhat[0,class_idx]))\n",
    "plot_map(grad_top1,_img,yhat)\n",
    "plot_map(grad_top11,_img1,yhat1)\n",
    "plot_map(grad_top12,_img2,yhat2)"
   ]
  },
  {
   "cell_type": "markdown",
   "metadata": {},
   "source": [
    "<h2 style='color:gray' ><font size=\"3\">Visualizeing loss history </font></h2>"
   ]
  },
  {
   "cell_type": "code",
   "execution_count": null,
   "metadata": {
    "scrolled": true
   },
   "outputs": [],
   "source": [
    "(history.history).keys()"
   ]
  },
  {
   "cell_type": "code",
   "execution_count": null,
   "metadata": {},
   "outputs": [],
   "source": [
    "# Get accuracy and test loss histories\n",
    "loss = history.history['loss']\n",
    "accuracy = history.history['accuracy']\n",
    "\n",
    "# Create count of the number of epochs\n",
    "epoch_count = range(1, len(loss) + 1)\n",
    "\n",
    "# Visualize loss history\n",
    "plt.plot(epoch_count, loss, 'r--')\n",
    "plt.plot(epoch_count, accuracy, 'b-')\n",
    "plt.legend(['Epoch Loss', 'Epoch Accuracy'])\n",
    "plt.xlabel('Epoch')\n",
    "plt.ylabel('Histories (Accuracy and Loss)')\n",
    "plt.show();"
   ]
  },
  {
   "cell_type": "markdown",
   "metadata": {},
   "source": [
    "<h2 style='color:gray' ><font size=\"3\">Checking model prediction</font></h2>"
   ]
  },
  {
   "cell_type": "code",
   "execution_count": null,
   "metadata": {},
   "outputs": [],
   "source": [
    "y_pred = model.predict(X_test)"
   ]
  },
  {
   "cell_type": "code",
   "execution_count": null,
   "metadata": {},
   "outputs": [],
   "source": [
    "y_classes = [np.argmax(element) for element in y_pred]"
   ]
  },
  {
   "cell_type": "code",
   "execution_count": null,
   "metadata": {},
   "outputs": [],
   "source": [
    "#Correct Anomalies \n",
    "plot_sample(X_test, y_test_org,4)"
   ]
  },
  {
   "cell_type": "code",
   "execution_count": null,
   "metadata": {},
   "outputs": [],
   "source": [
    "#Predict Anomalies by model\n",
    "classes[y_classes[4]]"
   ]
  },
  {
   "cell_type": "markdown",
   "metadata": {},
   "source": [
    "<h2 style='color:gray' ><font size=\"3\">Computing confusion matrix to evaluate the accuracy of a classification.</font></h2>"
   ]
  },
  {
   "cell_type": "code",
   "execution_count": null,
   "metadata": {},
   "outputs": [],
   "source": [
    "classes"
   ]
  },
  {
   "cell_type": "code",
   "execution_count": null,
   "metadata": {},
   "outputs": [],
   "source": [
    "from sklearn.metrics import accuracy_score\n",
    "accuracy_score(y_test_org,y_classes)"
   ]
  },
  {
   "cell_type": "code",
   "execution_count": null,
   "metadata": {},
   "outputs": [],
   "source": [
    "from sklearn.metrics import confusion_matrix\n",
    "cm = confusion_matrix(y_test_org,y_classes)\n",
    "cm"
   ]
  },
  {
   "cell_type": "markdown",
   "metadata": {},
   "source": [
    "<h2 style='color:gray' ><font size=\"3\">Visualizing model accuracy using seaborn heatmap</font></h2>"
   ]
  },
  {
   "cell_type": "code",
   "execution_count": null,
   "metadata": {},
   "outputs": [],
   "source": [
    "import seaborn as sns\n",
    "\n",
    "plt.figure(figsize=(14,7))\n",
    "sns.heatmap(cm,annot=True)\n",
    "\n",
    "plt.ylabel('( y_test )')\n",
    "plt.xlabel('( y_predicted )')\n",
    "plt.xticks(range(len(classes)),classes, rotation=20)\n",
    "plt.yticks(range(len(classes)),classes,rotation=0)\n",
    "\n",
    "plt.show()"
   ]
  },
  {
   "cell_type": "code",
   "execution_count": null,
   "metadata": {},
   "outputs": [],
   "source": []
  }
 ],
 "metadata": {
  "kernelspec": {
   "display_name": "Python 3",
   "language": "python",
   "name": "python3"
  },
  "language_info": {
   "codemirror_mode": {
    "name": "ipython",
    "version": 3
   },
   "file_extension": ".py",
   "mimetype": "text/x-python",
   "name": "python",
   "nbconvert_exporter": "python",
   "pygments_lexer": "ipython3",
   "version": "3.7.9"
  },
  "toc": {
   "base_numbering": 1,
   "nav_menu": {},
   "number_sections": true,
   "sideBar": true,
   "skip_h1_title": false,
   "title_cell": "Table of Contents",
   "title_sidebar": "Contents",
   "toc_cell": true,
   "toc_position": {},
   "toc_section_display": true,
   "toc_window_display": false
  }
 },
 "nbformat": 4,
 "nbformat_minor": 4
}
