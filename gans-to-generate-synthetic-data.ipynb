{
 "cells": [
  {
   "cell_type": "markdown",
   "metadata": {},
   "source": [
    "Gans Model are data hungry.\n",
    "\n",
    "In gans two models compete to improve themselves. If one model reaches the improvement faster than the other then the other model will fail to improve itself.\n",
    "\n",
    "Keep the filter dim in the gen high. Keep the model arch simple. "
   ]
  },
  {
   "cell_type": "markdown",
   "metadata": {},
   "source": [
    "## Import the libraries"
   ]
  },
  {
   "cell_type": "code",
   "execution_count": 1,
   "metadata": {
    "execution": {
     "iopub.execute_input": "2021-12-03T17:18:10.921855Z",
     "iopub.status.busy": "2021-12-03T17:18:10.921448Z",
     "iopub.status.idle": "2021-12-03T17:18:17.387125Z",
     "shell.execute_reply": "2021-12-03T17:18:17.385943Z",
     "shell.execute_reply.started": "2021-12-03T17:18:10.921749Z"
    }
   },
   "outputs": [],
   "source": [
    "import tensorflow as tf\n",
    "import glob\n",
    "import imageio\n",
    "import matplotlib.pyplot as plt\n",
    "import numpy as np\n",
    "import os\n",
    "import cv2\n",
    "from tensorflow.keras import layers\n",
    "import time\n",
    "from IPython import display"
   ]
  },
  {
   "cell_type": "code",
   "execution_count": 2,
   "metadata": {
    "execution": {
     "iopub.execute_input": "2021-12-03T17:18:17.38959Z",
     "iopub.status.busy": "2021-12-03T17:18:17.389172Z",
     "iopub.status.idle": "2021-12-03T17:18:17.403849Z",
     "shell.execute_reply": "2021-12-03T17:18:17.401744Z",
     "shell.execute_reply.started": "2021-12-03T17:18:17.389546Z"
    }
   },
   "outputs": [
    {
     "data": {
      "text/plain": [
       "'2.1.0'"
      ]
     },
     "execution_count": 2,
     "metadata": {},
     "output_type": "execute_result"
    }
   ],
   "source": [
    "tf.__version__"
   ]
  },
  {
   "cell_type": "code",
   "execution_count": 3,
   "metadata": {},
   "outputs": [
    {
     "data": {
      "text/plain": [
       "[PhysicalDevice(name='/physical_device:GPU:0', device_type='GPU')]"
      ]
     },
     "execution_count": 3,
     "metadata": {},
     "output_type": "execute_result"
    }
   ],
   "source": [
    "tf.config.list_physical_devices('GPU')"
   ]
  },
  {
   "cell_type": "code",
   "execution_count": 4,
   "metadata": {
    "execution": {
     "iopub.execute_input": "2021-12-03T17:18:17.40718Z",
     "iopub.status.busy": "2021-12-03T17:18:17.406545Z",
     "iopub.status.idle": "2021-12-03T17:18:17.422091Z",
     "shell.execute_reply": "2021-12-03T17:18:17.420995Z",
     "shell.execute_reply.started": "2021-12-03T17:18:17.407121Z"
    }
   },
   "outputs": [],
   "source": [
    "class cfg:\n",
    "    BATCH_SIZE = 64\n",
    "    EPOCHS = 500\n",
    "    NOISE_DIM = 250\n",
    "    NUM_EXAMPLES_TO_GENERATE = 16"
   ]
  },
  {
   "cell_type": "code",
   "execution_count": 5,
   "metadata": {},
   "outputs": [],
   "source": [
    "# folder = 4\n",
    "# f'D:/datathon 2022 dataset/Data_Split - Mp vs Others/train/{folder}/'"
   ]
  },
  {
   "cell_type": "code",
   "execution_count": null,
   "metadata": {
    "execution": {
     "iopub.execute_input": "2021-12-03T17:18:17.426014Z",
     "iopub.status.busy": "2021-12-03T17:18:17.424955Z",
     "iopub.status.idle": "2021-12-03T17:21:16.25551Z",
     "shell.execute_reply": "2021-12-03T17:21:16.254529Z",
     "shell.execute_reply.started": "2021-12-03T17:18:17.425969Z"
    }
   },
   "outputs": [
    {
     "name": "stdout",
     "output_type": "stream",
     "text": [
      "ERROR! Session/line number was not unique in database. History logging moved to new session 2232\n"
     ]
    },
    {
     "name": "stderr",
     "output_type": "stream",
     "text": [
      "ERROR:root:Internal Python error in the inspect module.\n",
      "Below is the traceback from this internal error.\n",
      "\n",
      "ERROR:root:Internal Python error in the inspect module.\n",
      "Below is the traceback from this internal error.\n",
      "\n",
      "ERROR:root:Internal Python error in the inspect module.\n",
      "Below is the traceback from this internal error.\n",
      "\n"
     ]
    },
    {
     "name": "stdout",
     "output_type": "stream",
     "text": [
      "Traceback (most recent call last):\n",
      "  File \"C:\\Users\\Vipooshan\\anaconda3\\envs\\GPU\\lib\\site-packages\\IPython\\core\\interactiveshell.py\", line 3418, in run_code\n",
      "    exec(code_obj, self.user_global_ns, self.user_ns)\n",
      "  File \"<ipython-input-6-532a26fcd1f6>\", line 14, in <module>\n",
      "    dataset = tf.data.Dataset.from_tensor_slices(train_images.to_dict(orient='list'))\n",
      "AttributeError: 'list' object has no attribute 'to_dict'\n",
      "\n",
      "During handling of the above exception, another exception occurred:\n",
      "\n",
      "Traceback (most recent call last):\n",
      "  File \"C:\\Users\\Vipooshan\\anaconda3\\envs\\GPU\\lib\\site-packages\\IPython\\core\\interactiveshell.py\", line 2045, in showtraceback\n",
      "    stb = value._render_traceback_()\n",
      "AttributeError: 'AttributeError' object has no attribute '_render_traceback_'\n",
      "\n",
      "During handling of the above exception, another exception occurred:\n",
      "\n",
      "Traceback (most recent call last):\n",
      "  File \"C:\\Users\\Vipooshan\\anaconda3\\envs\\GPU\\lib\\site-packages\\IPython\\core\\ultratb.py\", line 1170, in get_records\n",
      "    return _fixed_getinnerframes(etb, number_of_lines_of_context, tb_offset)\n",
      "  File \"C:\\Users\\Vipooshan\\anaconda3\\envs\\GPU\\lib\\site-packages\\IPython\\core\\ultratb.py\", line 316, in wrapped\n",
      "    return f(*args, **kwargs)\n",
      "  File \"C:\\Users\\Vipooshan\\anaconda3\\envs\\GPU\\lib\\site-packages\\IPython\\core\\ultratb.py\", line 350, in _fixed_getinnerframes\n",
      "    records = fix_frame_records_filenames(inspect.getinnerframes(etb, context))\n",
      "  File \"C:\\Users\\Vipooshan\\anaconda3\\envs\\GPU\\lib\\inspect.py\", line 1502, in getinnerframes\n",
      "    frameinfo = (tb.tb_frame,) + getframeinfo(tb, context)\n",
      "  File \"C:\\Users\\Vipooshan\\anaconda3\\envs\\GPU\\lib\\inspect.py\", line 1460, in getframeinfo\n",
      "    filename = getsourcefile(frame) or getfile(frame)\n",
      "  File \"C:\\Users\\Vipooshan\\anaconda3\\envs\\GPU\\lib\\inspect.py\", line 696, in getsourcefile\n",
      "    if getattr(getmodule(object, filename), '__loader__', None) is not None:\n",
      "  File \"C:\\Users\\Vipooshan\\anaconda3\\envs\\GPU\\lib\\inspect.py\", line 733, in getmodule\n",
      "    if ismodule(module) and hasattr(module, '__file__'):\n",
      "  File \"C:\\Users\\Vipooshan\\anaconda3\\envs\\GPU\\lib\\site-packages\\tensorflow\\__init__.py\", line 50, in __getattr__\n",
      "    module = self._load()\n",
      "  File \"C:\\Users\\Vipooshan\\anaconda3\\envs\\GPU\\lib\\site-packages\\tensorflow\\__init__.py\", line 44, in _load\n",
      "    module = _importlib.import_module(self.__name__)\n",
      "  File \"C:\\Users\\Vipooshan\\anaconda3\\envs\\GPU\\lib\\importlib\\__init__.py\", line 127, in import_module\n",
      "    return _bootstrap._gcd_import(name[level:], package, level)\n",
      "  File \"<frozen importlib._bootstrap>\", line 1006, in _gcd_import\n",
      "  File \"<frozen importlib._bootstrap>\", line 983, in _find_and_load\n",
      "  File \"<frozen importlib._bootstrap>\", line 965, in _find_and_load_unlocked\n",
      "ModuleNotFoundError: No module named 'tensorflow_core.estimator'\n",
      "Traceback (most recent call last):\n",
      "  File \"C:\\Users\\Vipooshan\\anaconda3\\envs\\GPU\\lib\\site-packages\\IPython\\core\\interactiveshell.py\", line 3418, in run_code\n",
      "    exec(code_obj, self.user_global_ns, self.user_ns)\n",
      "  File \"<ipython-input-6-532a26fcd1f6>\", line 14, in <module>\n",
      "    dataset = tf.data.Dataset.from_tensor_slices(train_images.to_dict(orient='list'))\n",
      "AttributeError: 'list' object has no attribute 'to_dict'\n",
      "\n",
      "During handling of the above exception, another exception occurred:\n",
      "\n",
      "Traceback (most recent call last):\n",
      "  File \"C:\\Users\\Vipooshan\\anaconda3\\envs\\GPU\\lib\\site-packages\\IPython\\core\\interactiveshell.py\", line 2045, in showtraceback\n",
      "    stb = value._render_traceback_()\n",
      "AttributeError: 'AttributeError' object has no attribute '_render_traceback_'\n",
      "\n",
      "During handling of the above exception, another exception occurred:\n",
      "\n",
      "Traceback (most recent call last):\n",
      "  File \"C:\\Users\\Vipooshan\\anaconda3\\envs\\GPU\\lib\\site-packages\\IPython\\core\\interactiveshell.py\", line 3338, in run_ast_nodes\n",
      "    if (await self.run_code(code, result,  async_=asy)):\n",
      "  File \"C:\\Users\\Vipooshan\\anaconda3\\envs\\GPU\\lib\\site-packages\\IPython\\core\\interactiveshell.py\", line 3435, in run_code\n",
      "    self.showtraceback(running_compiled_code=True)\n",
      "  File \"C:\\Users\\Vipooshan\\anaconda3\\envs\\GPU\\lib\\site-packages\\IPython\\core\\interactiveshell.py\", line 2048, in showtraceback\n",
      "    value, tb, tb_offset=tb_offset)\n",
      "  File \"C:\\Users\\Vipooshan\\anaconda3\\envs\\GPU\\lib\\site-packages\\IPython\\core\\ultratb.py\", line 1437, in structured_traceback\n",
      "    self, etype, value, tb, tb_offset, number_of_lines_of_context)\n",
      "  File \"C:\\Users\\Vipooshan\\anaconda3\\envs\\GPU\\lib\\site-packages\\IPython\\core\\ultratb.py\", line 1337, in structured_traceback\n",
      "    self, etype, value, tb, tb_offset, number_of_lines_of_context\n",
      "  File \"C:\\Users\\Vipooshan\\anaconda3\\envs\\GPU\\lib\\site-packages\\IPython\\core\\ultratb.py\", line 1194, in structured_traceback\n",
      "    tb_offset)\n",
      "  File \"C:\\Users\\Vipooshan\\anaconda3\\envs\\GPU\\lib\\site-packages\\IPython\\core\\ultratb.py\", line 1151, in format_exception_as_a_whole\n",
      "    last_unique, recursion_repeat = find_recursion(orig_etype, evalue, records)\n",
      "  File \"C:\\Users\\Vipooshan\\anaconda3\\envs\\GPU\\lib\\site-packages\\IPython\\core\\ultratb.py\", line 451, in find_recursion\n",
      "    return len(records), 0\n",
      "TypeError: object of type 'NoneType' has no len()\n",
      "\n",
      "During handling of the above exception, another exception occurred:\n",
      "\n",
      "Traceback (most recent call last):\n",
      "  File \"C:\\Users\\Vipooshan\\anaconda3\\envs\\GPU\\lib\\site-packages\\IPython\\core\\interactiveshell.py\", line 2045, in showtraceback\n",
      "    stb = value._render_traceback_()\n",
      "AttributeError: 'TypeError' object has no attribute '_render_traceback_'\n",
      "\n",
      "During handling of the above exception, another exception occurred:\n",
      "\n",
      "Traceback (most recent call last):\n",
      "  File \"C:\\Users\\Vipooshan\\anaconda3\\envs\\GPU\\lib\\site-packages\\IPython\\core\\ultratb.py\", line 1170, in get_records\n",
      "    return _fixed_getinnerframes(etb, number_of_lines_of_context, tb_offset)\n",
      "  File \"C:\\Users\\Vipooshan\\anaconda3\\envs\\GPU\\lib\\site-packages\\IPython\\core\\ultratb.py\", line 316, in wrapped\n",
      "    return f(*args, **kwargs)\n",
      "  File \"C:\\Users\\Vipooshan\\anaconda3\\envs\\GPU\\lib\\site-packages\\IPython\\core\\ultratb.py\", line 350, in _fixed_getinnerframes\n",
      "    records = fix_frame_records_filenames(inspect.getinnerframes(etb, context))\n",
      "  File \"C:\\Users\\Vipooshan\\anaconda3\\envs\\GPU\\lib\\inspect.py\", line 1502, in getinnerframes\n",
      "    frameinfo = (tb.tb_frame,) + getframeinfo(tb, context)\n",
      "  File \"C:\\Users\\Vipooshan\\anaconda3\\envs\\GPU\\lib\\inspect.py\", line 1460, in getframeinfo\n",
      "    filename = getsourcefile(frame) or getfile(frame)\n",
      "  File \"C:\\Users\\Vipooshan\\anaconda3\\envs\\GPU\\lib\\inspect.py\", line 696, in getsourcefile\n",
      "    if getattr(getmodule(object, filename), '__loader__', None) is not None:\n",
      "  File \"C:\\Users\\Vipooshan\\anaconda3\\envs\\GPU\\lib\\inspect.py\", line 733, in getmodule\n",
      "    if ismodule(module) and hasattr(module, '__file__'):\n",
      "  File \"C:\\Users\\Vipooshan\\anaconda3\\envs\\GPU\\lib\\site-packages\\tensorflow\\__init__.py\", line 50, in __getattr__\n",
      "    module = self._load()\n",
      "  File \"C:\\Users\\Vipooshan\\anaconda3\\envs\\GPU\\lib\\site-packages\\tensorflow\\__init__.py\", line 44, in _load\n",
      "    module = _importlib.import_module(self.__name__)\n",
      "  File \"C:\\Users\\Vipooshan\\anaconda3\\envs\\GPU\\lib\\importlib\\__init__.py\", line 127, in import_module\n",
      "    return _bootstrap._gcd_import(name[level:], package, level)\n",
      "  File \"<frozen importlib._bootstrap>\", line 1006, in _gcd_import\n",
      "  File \"<frozen importlib._bootstrap>\", line 983, in _find_and_load\n",
      "  File \"<frozen importlib._bootstrap>\", line 965, in _find_and_load_unlocked\n",
      "ModuleNotFoundError: No module named 'tensorflow_core.estimator'\n",
      "Traceback (most recent call last):\n",
      "  File \"C:\\Users\\Vipooshan\\anaconda3\\envs\\GPU\\lib\\site-packages\\IPython\\core\\interactiveshell.py\", line 3418, in run_code\n",
      "    exec(code_obj, self.user_global_ns, self.user_ns)\n",
      "  File \"<ipython-input-6-532a26fcd1f6>\", line 14, in <module>\n",
      "    dataset = tf.data.Dataset.from_tensor_slices(train_images.to_dict(orient='list'))\n",
      "AttributeError: 'list' object has no attribute 'to_dict'\n",
      "\n",
      "During handling of the above exception, another exception occurred:\n",
      "\n",
      "Traceback (most recent call last):\n",
      "  File \"C:\\Users\\Vipooshan\\anaconda3\\envs\\GPU\\lib\\site-packages\\IPython\\core\\interactiveshell.py\", line 2045, in showtraceback\n",
      "    stb = value._render_traceback_()\n",
      "AttributeError: 'AttributeError' object has no attribute '_render_traceback_'\n",
      "\n",
      "During handling of the above exception, another exception occurred:\n",
      "\n",
      "Traceback (most recent call last):\n",
      "  File \"C:\\Users\\Vipooshan\\anaconda3\\envs\\GPU\\lib\\site-packages\\IPython\\core\\interactiveshell.py\", line 3338, in run_ast_nodes\n",
      "    if (await self.run_code(code, result,  async_=asy)):\n",
      "  File \"C:\\Users\\Vipooshan\\anaconda3\\envs\\GPU\\lib\\site-packages\\IPython\\core\\interactiveshell.py\", line 3435, in run_code\n",
      "    self.showtraceback(running_compiled_code=True)\n",
      "  File \"C:\\Users\\Vipooshan\\anaconda3\\envs\\GPU\\lib\\site-packages\\IPython\\core\\interactiveshell.py\", line 2048, in showtraceback\n",
      "    value, tb, tb_offset=tb_offset)\n",
      "  File \"C:\\Users\\Vipooshan\\anaconda3\\envs\\GPU\\lib\\site-packages\\IPython\\core\\ultratb.py\", line 1437, in structured_traceback\n",
      "    self, etype, value, tb, tb_offset, number_of_lines_of_context)\n",
      "  File \"C:\\Users\\Vipooshan\\anaconda3\\envs\\GPU\\lib\\site-packages\\IPython\\core\\ultratb.py\", line 1337, in structured_traceback\n",
      "    self, etype, value, tb, tb_offset, number_of_lines_of_context\n",
      "  File \"C:\\Users\\Vipooshan\\anaconda3\\envs\\GPU\\lib\\site-packages\\IPython\\core\\ultratb.py\", line 1194, in structured_traceback\n",
      "    tb_offset)\n",
      "  File \"C:\\Users\\Vipooshan\\anaconda3\\envs\\GPU\\lib\\site-packages\\IPython\\core\\ultratb.py\", line 1151, in format_exception_as_a_whole\n",
      "    last_unique, recursion_repeat = find_recursion(orig_etype, evalue, records)\n",
      "  File \"C:\\Users\\Vipooshan\\anaconda3\\envs\\GPU\\lib\\site-packages\\IPython\\core\\ultratb.py\", line 451, in find_recursion\n",
      "    return len(records), 0\n",
      "TypeError: object of type 'NoneType' has no len()\n",
      "\n",
      "During handling of the above exception, another exception occurred:\n",
      "\n",
      "Traceback (most recent call last):\n",
      "  File \"C:\\Users\\Vipooshan\\anaconda3\\envs\\GPU\\lib\\site-packages\\IPython\\core\\interactiveshell.py\", line 2045, in showtraceback\n",
      "    stb = value._render_traceback_()\n",
      "AttributeError: 'TypeError' object has no attribute '_render_traceback_'\n",
      "\n",
      "During handling of the above exception, another exception occurred:\n",
      "\n",
      "Traceback (most recent call last):\n",
      "  File \"C:\\Users\\Vipooshan\\anaconda3\\envs\\GPU\\lib\\site-packages\\IPython\\core\\interactiveshell.py\", line 2923, in _run_cell\n",
      "    return runner(coro)\n",
      "  File \"C:\\Users\\Vipooshan\\anaconda3\\envs\\GPU\\lib\\site-packages\\IPython\\core\\async_helpers.py\", line 68, in _pseudo_sync_runner\n",
      "    coro.send(None)\n",
      "  File \"C:\\Users\\Vipooshan\\anaconda3\\envs\\GPU\\lib\\site-packages\\IPython\\core\\interactiveshell.py\", line 3147, in run_cell_async\n",
      "    interactivity=interactivity, compiler=compiler, result=result)\n",
      "  File \"C:\\Users\\Vipooshan\\anaconda3\\envs\\GPU\\lib\\site-packages\\IPython\\core\\interactiveshell.py\", line 3357, in run_ast_nodes\n",
      "    self.showtraceback()\n",
      "  File \"C:\\Users\\Vipooshan\\anaconda3\\envs\\GPU\\lib\\site-packages\\IPython\\core\\interactiveshell.py\", line 2048, in showtraceback\n",
      "    value, tb, tb_offset=tb_offset)\n",
      "  File \"C:\\Users\\Vipooshan\\anaconda3\\envs\\GPU\\lib\\site-packages\\IPython\\core\\ultratb.py\", line 1437, in structured_traceback\n",
      "    self, etype, value, tb, tb_offset, number_of_lines_of_context)\n",
      "  File \"C:\\Users\\Vipooshan\\anaconda3\\envs\\GPU\\lib\\site-packages\\IPython\\core\\ultratb.py\", line 1337, in structured_traceback\n",
      "    self, etype, value, tb, tb_offset, number_of_lines_of_context\n",
      "  File \"C:\\Users\\Vipooshan\\anaconda3\\envs\\GPU\\lib\\site-packages\\IPython\\core\\ultratb.py\", line 1212, in structured_traceback\n",
      "    chained_exceptions_tb_offset)\n",
      "  File \"C:\\Users\\Vipooshan\\anaconda3\\envs\\GPU\\lib\\site-packages\\IPython\\core\\ultratb.py\", line 1151, in format_exception_as_a_whole\n",
      "    last_unique, recursion_repeat = find_recursion(orig_etype, evalue, records)\n",
      "  File \"C:\\Users\\Vipooshan\\anaconda3\\envs\\GPU\\lib\\site-packages\\IPython\\core\\ultratb.py\", line 451, in find_recursion\n",
      "    return len(records), 0\n",
      "TypeError: object of type 'NoneType' has no len()\n",
      "\n",
      "During handling of the above exception, another exception occurred:\n",
      "\n",
      "Traceback (most recent call last):\n",
      "  File \"C:\\Users\\Vipooshan\\anaconda3\\envs\\GPU\\lib\\site-packages\\IPython\\core\\interactiveshell.py\", line 2045, in showtraceback\n",
      "    stb = value._render_traceback_()\n",
      "AttributeError: 'TypeError' object has no attribute '_render_traceback_'\n",
      "\n",
      "During handling of the above exception, another exception occurred:\n",
      "\n",
      "Traceback (most recent call last):\n",
      "  File \"C:\\Users\\Vipooshan\\anaconda3\\envs\\GPU\\lib\\site-packages\\IPython\\core\\ultratb.py\", line 1170, in get_records\n",
      "    return _fixed_getinnerframes(etb, number_of_lines_of_context, tb_offset)\n",
      "  File \"C:\\Users\\Vipooshan\\anaconda3\\envs\\GPU\\lib\\site-packages\\IPython\\core\\ultratb.py\", line 316, in wrapped\n",
      "    return f(*args, **kwargs)\n",
      "  File \"C:\\Users\\Vipooshan\\anaconda3\\envs\\GPU\\lib\\site-packages\\IPython\\core\\ultratb.py\", line 350, in _fixed_getinnerframes\n",
      "    records = fix_frame_records_filenames(inspect.getinnerframes(etb, context))\n",
      "  File \"C:\\Users\\Vipooshan\\anaconda3\\envs\\GPU\\lib\\inspect.py\", line 1502, in getinnerframes\n",
      "    frameinfo = (tb.tb_frame,) + getframeinfo(tb, context)\n",
      "  File \"C:\\Users\\Vipooshan\\anaconda3\\envs\\GPU\\lib\\inspect.py\", line 1460, in getframeinfo\n",
      "    filename = getsourcefile(frame) or getfile(frame)\n",
      "  File \"C:\\Users\\Vipooshan\\anaconda3\\envs\\GPU\\lib\\inspect.py\", line 696, in getsourcefile\n",
      "    if getattr(getmodule(object, filename), '__loader__', None) is not None:\n",
      "  File \"C:\\Users\\Vipooshan\\anaconda3\\envs\\GPU\\lib\\inspect.py\", line 733, in getmodule\n",
      "    if ismodule(module) and hasattr(module, '__file__'):\n",
      "  File \"C:\\Users\\Vipooshan\\anaconda3\\envs\\GPU\\lib\\site-packages\\tensorflow\\__init__.py\", line 50, in __getattr__\n",
      "    module = self._load()\n",
      "  File \"C:\\Users\\Vipooshan\\anaconda3\\envs\\GPU\\lib\\site-packages\\tensorflow\\__init__.py\", line 44, in _load\n",
      "    module = _importlib.import_module(self.__name__)\n",
      "  File \"C:\\Users\\Vipooshan\\anaconda3\\envs\\GPU\\lib\\importlib\\__init__.py\", line 127, in import_module\n",
      "    return _bootstrap._gcd_import(name[level:], package, level)\n",
      "  File \"<frozen importlib._bootstrap>\", line 1006, in _gcd_import\n",
      "  File \"<frozen importlib._bootstrap>\", line 983, in _find_and_load\n",
      "  File \"<frozen importlib._bootstrap>\", line 965, in _find_and_load_unlocked\n",
      "ModuleNotFoundError: No module named 'tensorflow_core.estimator'\n"
     ]
    }
   ],
   "source": [
    "dirs = ['Moneypox', 'Others']\n",
    "train_images = []\n",
    "\n",
    "for folder in dirs:\n",
    "    directory = f'D:/datathon 2022 dataset/Data_Split - Mp vs Others/train/{folder}'\n",
    "    for image_name in os.listdir(directory):\n",
    "        if image_name.endswith('.jpg'):\n",
    "            image_path = os.path.join(directory, image_name)\n",
    "            image = cv2.imread(image_path, 0)\n",
    "            image = np.expand_dims(image, 2)\n",
    "            image = (image - 127.5)/127.5\n",
    "            train_images.append(image)\n",
    "        \n",
    "dataset = tf.data.Dataset.from_tensor_slices(train_images.to_dict(orient='list'))\n",
    "dataset = dataset.batch(cfg.BATCH_SIZE)"
   ]
  },
  {
   "cell_type": "code",
   "execution_count": null,
   "metadata": {
    "execution": {
     "iopub.execute_input": "2021-12-03T17:21:16.257584Z",
     "iopub.status.busy": "2021-12-03T17:21:16.257264Z",
     "iopub.status.idle": "2021-12-03T17:21:16.272039Z",
     "shell.execute_reply": "2021-12-03T17:21:16.270977Z",
     "shell.execute_reply.started": "2021-12-03T17:21:16.257529Z"
    }
   },
   "outputs": [],
   "source": [
    "def make_generator_model():\n",
    "    model = tf.keras.Sequential()\n",
    "    model.add(layers.Dense(6*6*cfg.BATCH_SIZE, use_bias=False, input_shape=(cfg.NOISE_DIM,)))\n",
    "    model.add(layers.BatchNormalization())\n",
    "    model.add(layers.LeakyReLU())\n",
    "\n",
    "    model.add(layers.Reshape((6, 6, cfg.BATCH_SIZE)))\n",
    "    assert model.output_shape == (None, 6, 6, cfg.BATCH_SIZE)  # Note: None is the batch size\n",
    "\n",
    "    model.add(layers.Conv2DTranspose(64, (5, 5), strides=(2, 2), padding='same', use_bias=False))\n",
    "    assert model.output_shape == (None, 12, 12, 64)\n",
    "    model.add(layers.BatchNormalization())\n",
    "    model.add(layers.LeakyReLU())\n",
    "\n",
    "    model.add(layers.Conv2DTranspose(32, (5, 5), strides=(2, 2), padding='same', use_bias=False))\n",
    "    assert model.output_shape == (None, 24, 24, 32)\n",
    "    model.add(layers.BatchNormalization())\n",
    "    model.add(layers.LeakyReLU())\n",
    "\n",
    "    model.add(layers.Conv2DTranspose(1, (5, 5), strides=(2, 2), padding='same', use_bias=False, activation='tanh'))\n",
    "    assert model.output_shape == (None, 48, 48, 1)\n",
    "\n",
    "    return model"
   ]
  },
  {
   "cell_type": "code",
   "execution_count": null,
   "metadata": {
    "execution": {
     "iopub.execute_input": "2021-12-03T17:21:16.274491Z",
     "iopub.status.busy": "2021-12-03T17:21:16.273914Z",
     "iopub.status.idle": "2021-12-03T17:21:16.285613Z",
     "shell.execute_reply": "2021-12-03T17:21:16.284269Z",
     "shell.execute_reply.started": "2021-12-03T17:21:16.27444Z"
    }
   },
   "outputs": [],
   "source": [
    "def make_discriminator_model():\n",
    "    model = tf.keras.Sequential()\n",
    "    model.add(layers.Conv2D(64, (5, 5), strides=(2, 2), padding='same',\n",
    "                                     input_shape=[48, 48, 1]))\n",
    "    model.add(layers.LeakyReLU())\n",
    "    model.add(layers.Dropout(0.3))\n",
    "\n",
    "    model.add(layers.Conv2D(128, (5, 5), strides=(2, 2), padding='same'))\n",
    "    model.add(layers.LeakyReLU())\n",
    "    model.add(layers.Dropout(0.3))\n",
    "\n",
    "    model.add(layers.Flatten())\n",
    "    model.add(layers.Dense(1))\n",
    "\n",
    "    return model"
   ]
  },
  {
   "cell_type": "code",
   "execution_count": null,
   "metadata": {
    "execution": {
     "iopub.execute_input": "2021-12-03T17:21:16.289542Z",
     "iopub.status.busy": "2021-12-03T17:21:16.287406Z",
     "iopub.status.idle": "2021-12-03T17:21:16.301465Z",
     "shell.execute_reply": "2021-12-03T17:21:16.300558Z",
     "shell.execute_reply.started": "2021-12-03T17:21:16.2895Z"
    }
   },
   "outputs": [],
   "source": [
    "#noisy labels.\n",
    "def discriminator_loss(real_output, fake_output):\n",
    "    real_truths = tf.random.uniform(real_output.shape, minval=0.0, maxval=0.1, dtype=tf.dtypes.float32, seed=42)\n",
    "    fake_truths = tf.random.uniform(fake_output.shape, minval=0.9, maxval=1.0, dtype=tf.dtypes.float32, seed=42)\n",
    "#     real_loss = cross_entropy(tf.zeros_like(real_output), real_output)\n",
    "#     fake_loss = cross_entropy(tf.ones_like(fake_output), fake_output)\n",
    "    real_loss = cross_entropy(real_truths, real_output)\n",
    "    fake_loss = cross_entropy(fake_truths, fake_output)\n",
    "    total_loss = real_loss + fake_loss\n",
    "    return total_loss"
   ]
  },
  {
   "cell_type": "code",
   "execution_count": null,
   "metadata": {
    "execution": {
     "iopub.execute_input": "2021-12-03T17:21:16.304058Z",
     "iopub.status.busy": "2021-12-03T17:21:16.303282Z",
     "iopub.status.idle": "2021-12-03T17:21:16.312052Z",
     "shell.execute_reply": "2021-12-03T17:21:16.311038Z",
     "shell.execute_reply.started": "2021-12-03T17:21:16.304014Z"
    }
   },
   "outputs": [],
   "source": [
    "cross_entropy = tf.keras.losses.BinaryCrossentropy(from_logits=True)\n",
    "def generator_loss(fake_output):\n",
    "    return cross_entropy(tf.zeros_like(fake_output), fake_output)"
   ]
  },
  {
   "cell_type": "code",
   "execution_count": null,
   "metadata": {
    "execution": {
     "iopub.execute_input": "2021-12-03T17:21:16.314919Z",
     "iopub.status.busy": "2021-12-03T17:21:16.313758Z",
     "iopub.status.idle": "2021-12-03T17:21:16.324098Z",
     "shell.execute_reply": "2021-12-03T17:21:16.323138Z",
     "shell.execute_reply.started": "2021-12-03T17:21:16.314875Z"
    }
   },
   "outputs": [],
   "source": [
    "generator_optimizer = tf.keras.optimizers.Adam(1e-4)\n",
    "discriminator_optimizer = tf.keras.optimizers.Adam(4e-4)"
   ]
  },
  {
   "cell_type": "code",
   "execution_count": null,
   "metadata": {
    "execution": {
     "iopub.execute_input": "2021-12-03T17:21:16.330527Z",
     "iopub.status.busy": "2021-12-03T17:21:16.330166Z",
     "iopub.status.idle": "2021-12-03T17:21:16.533987Z",
     "shell.execute_reply": "2021-12-03T17:21:16.533072Z",
     "shell.execute_reply.started": "2021-12-03T17:21:16.33048Z"
    }
   },
   "outputs": [],
   "source": [
    "generator = make_generator_model()\n",
    "discriminator = make_discriminator_model()"
   ]
  },
  {
   "cell_type": "code",
   "execution_count": null,
   "metadata": {
    "execution": {
     "iopub.execute_input": "2021-12-03T17:21:16.536682Z",
     "iopub.status.busy": "2021-12-03T17:21:16.536055Z",
     "iopub.status.idle": "2021-12-03T17:21:16.543239Z",
     "shell.execute_reply": "2021-12-03T17:21:16.54199Z",
     "shell.execute_reply.started": "2021-12-03T17:21:16.536639Z"
    }
   },
   "outputs": [],
   "source": [
    "checkpoint_dir = './training_checkpoints'\n",
    "checkpoint_prefix = os.path.join(checkpoint_dir, \"ckpt\")\n",
    "checkpoint = tf.train.Checkpoint(generator_optimizer=generator_optimizer,\n",
    "                                 discriminator_optimizer=discriminator_optimizer,\n",
    "                                 generator=generator,\n",
    "                                 discriminator=discriminator)"
   ]
  },
  {
   "cell_type": "code",
   "execution_count": null,
   "metadata": {
    "execution": {
     "iopub.execute_input": "2021-12-03T17:21:16.545529Z",
     "iopub.status.busy": "2021-12-03T17:21:16.545145Z",
     "iopub.status.idle": "2021-12-03T17:21:16.555842Z",
     "shell.execute_reply": "2021-12-03T17:21:16.554609Z",
     "shell.execute_reply.started": "2021-12-03T17:21:16.54547Z"
    }
   },
   "outputs": [],
   "source": [
    "seed = tf.random.normal([cfg.NUM_EXAMPLES_TO_GENERATE, cfg.NOISE_DIM])"
   ]
  },
  {
   "cell_type": "code",
   "execution_count": null,
   "metadata": {
    "execution": {
     "iopub.execute_input": "2021-12-03T17:21:16.558496Z",
     "iopub.status.busy": "2021-12-03T17:21:16.557799Z",
     "iopub.status.idle": "2021-12-03T17:21:16.569648Z",
     "shell.execute_reply": "2021-12-03T17:21:16.568146Z",
     "shell.execute_reply.started": "2021-12-03T17:21:16.55845Z"
    }
   },
   "outputs": [],
   "source": [
    "# Notice the use of `tf.function`\n",
    "# This annotation causes the function to be \"compiled\".\n",
    "@tf.function\n",
    "def train_step(images):\n",
    "    noise = tf.random.normal([cfg.BATCH_SIZE, cfg.NOISE_DIM])\n",
    "\n",
    "    with tf.GradientTape() as gen_tape, tf.GradientTape() as disc_tape:\n",
    "        generated_images = generator(noise, training=True)\n",
    "        real_output = discriminator(images, training=True)\n",
    "        fake_output = discriminator(generated_images, training=True)\n",
    "\n",
    "        gen_loss = generator_loss(fake_output)\n",
    "        disc_loss = discriminator_loss(real_output, fake_output)\n",
    "        print(gen_loss, disc_loss)\n",
    "\n",
    "    gradients_of_generator = gen_tape.gradient(gen_loss, generator.trainable_variables)\n",
    "    gradients_of_discriminator = disc_tape.gradient(disc_loss, discriminator.trainable_variables)\n",
    "\n",
    "    generator_optimizer.apply_gradients(zip(gradients_of_generator, generator.trainable_variables))\n",
    "    discriminator_optimizer.apply_gradients(zip(gradients_of_discriminator, discriminator.trainable_variables))"
   ]
  },
  {
   "cell_type": "code",
   "execution_count": null,
   "metadata": {
    "execution": {
     "iopub.execute_input": "2021-12-03T17:21:16.574528Z",
     "iopub.status.busy": "2021-12-03T17:21:16.572993Z",
     "iopub.status.idle": "2021-12-03T17:21:16.585455Z",
     "shell.execute_reply": "2021-12-03T17:21:16.584578Z",
     "shell.execute_reply.started": "2021-12-03T17:21:16.574484Z"
    }
   },
   "outputs": [],
   "source": [
    "def train(dataset, epochs):\n",
    "  for epoch in range(epochs):\n",
    "    start = time.time()\n",
    "\n",
    "    for image_batch in dataset:\n",
    "      train_step(image_batch)\n",
    "\n",
    "    # Produce images for the GIF as you go\n",
    "    display.clear_output(wait=True)\n",
    "    generate_and_save_images(generator,\n",
    "                             epoch + 1,\n",
    "                             seed)\n",
    "\n",
    "    # Save the model every 15 epochs\n",
    "    if (epoch + 1) % 15 == 0:\n",
    "      checkpoint.save(file_prefix = checkpoint_prefix)\n",
    "\n",
    "    print ('Time for epoch {} is {} sec'.format(epoch + 1, time.time()-start))\n",
    "\n",
    "  # Generate after the final epoch\n",
    "  display.clear_output(wait=True)\n",
    "  generate_and_save_images(generator,\n",
    "                           epochs,\n",
    "                           seed)"
   ]
  },
  {
   "cell_type": "code",
   "execution_count": null,
   "metadata": {
    "execution": {
     "iopub.execute_input": "2021-12-03T17:21:16.588953Z",
     "iopub.status.busy": "2021-12-03T17:21:16.587924Z",
     "iopub.status.idle": "2021-12-03T17:21:16.598764Z",
     "shell.execute_reply": "2021-12-03T17:21:16.597498Z",
     "shell.execute_reply.started": "2021-12-03T17:21:16.58879Z"
    }
   },
   "outputs": [],
   "source": [
    "def generate_and_save_images(model, epoch, test_input):\n",
    "    # Notice `training` is set to False.\n",
    "    # This is so all layers run in inference mode (batchnorm).\n",
    "    predictions = model(test_input, training=False)\n",
    "    predictions = (predictions * 127) + 127\n",
    "\n",
    "    fig = plt.figure(figsize=(4, 4))\n",
    "\n",
    "    for i in range(predictions.shape[0]):\n",
    "      plt.subplot(4, 4, i+1)\n",
    "      plt.imshow(predictions[i, :, :, 0], cmap='gray')\n",
    "      plt.axis('off')\n",
    "\n",
    "    plt.savefig('image_at_epoch_{:04d}.png'.format(epoch))\n",
    "    plt.show()"
   ]
  },
  {
   "cell_type": "code",
   "execution_count": null,
   "metadata": {
    "execution": {
     "iopub.execute_input": "2021-12-03T17:21:16.601826Z",
     "iopub.status.busy": "2021-12-03T17:21:16.600571Z",
     "iopub.status.idle": "2021-12-03T17:21:16.613398Z",
     "shell.execute_reply": "2021-12-03T17:21:16.612213Z",
     "shell.execute_reply.started": "2021-12-03T17:21:16.601749Z"
    }
   },
   "outputs": [],
   "source": [
    "tf.config.run_functions_eagerly(True)"
   ]
  },
  {
   "cell_type": "code",
   "execution_count": null,
   "metadata": {
    "execution": {
     "iopub.execute_input": "2021-12-03T17:21:16.615825Z",
     "iopub.status.busy": "2021-12-03T17:21:16.615078Z",
     "iopub.status.idle": "2021-12-03T19:48:10.86605Z",
     "shell.execute_reply": "2021-12-03T19:48:10.865269Z",
     "shell.execute_reply.started": "2021-12-03T17:21:16.61578Z"
    }
   },
   "outputs": [],
   "source": [
    "train(dataset, cfg.EPOCHS)"
   ]
  },
  {
   "cell_type": "code",
   "execution_count": null,
   "metadata": {
    "execution": {
     "iopub.execute_input": "2021-12-03T19:48:10.868236Z",
     "iopub.status.busy": "2021-12-03T19:48:10.867776Z",
     "iopub.status.idle": "2021-12-03T19:48:10.883272Z",
     "shell.execute_reply": "2021-12-03T19:48:10.881982Z",
     "shell.execute_reply.started": "2021-12-03T19:48:10.868197Z"
    }
   },
   "outputs": [],
   "source": [
    "im = generator(seed, training=False)"
   ]
  },
  {
   "cell_type": "code",
   "execution_count": null,
   "metadata": {
    "execution": {
     "iopub.execute_input": "2021-12-03T19:48:10.885633Z",
     "iopub.status.busy": "2021-12-03T19:48:10.885321Z",
     "iopub.status.idle": "2021-12-03T19:48:10.891631Z",
     "shell.execute_reply": "2021-12-03T19:48:10.890249Z",
     "shell.execute_reply.started": "2021-12-03T19:48:10.885594Z"
    }
   },
   "outputs": [],
   "source": [
    "i = (im[0]*127)+127"
   ]
  },
  {
   "cell_type": "code",
   "execution_count": null,
   "metadata": {
    "execution": {
     "iopub.execute_input": "2021-12-03T19:48:10.894278Z",
     "iopub.status.busy": "2021-12-03T19:48:10.893898Z",
     "iopub.status.idle": "2021-12-03T19:48:11.111597Z",
     "shell.execute_reply": "2021-12-03T19:48:11.1107Z",
     "shell.execute_reply.started": "2021-12-03T19:48:10.894222Z"
    }
   },
   "outputs": [],
   "source": [
    "plt.imshow(i)"
   ]
  },
  {
   "cell_type": "code",
   "execution_count": null,
   "metadata": {},
   "outputs": [],
   "source": []
  }
 ],
 "metadata": {
  "kernelspec": {
   "display_name": "Python 3",
   "language": "python",
   "name": "python3"
  },
  "language_info": {
   "codemirror_mode": {
    "name": "ipython",
    "version": 3
   },
   "file_extension": ".py",
   "mimetype": "text/x-python",
   "name": "python",
   "nbconvert_exporter": "python",
   "pygments_lexer": "ipython3",
   "version": "3.7.9"
  }
 },
 "nbformat": 4,
 "nbformat_minor": 4
}
