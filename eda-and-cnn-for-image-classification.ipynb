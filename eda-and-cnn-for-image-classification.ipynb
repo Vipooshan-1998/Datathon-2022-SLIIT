{
 "cells": [
  {
   "cell_type": "markdown",
   "metadata": {
    "papermill": {
     "duration": 0.008992,
     "end_time": "2020-08-06T11:23:56.960740",
     "exception": false,
     "start_time": "2020-08-06T11:23:56.951748",
     "status": "completed"
    },
    "tags": []
   },
   "source": [
    "# Image Classification with CNN - Tutorial\n",
    "\n",
    "> Image classification is the primary domain, in which deep neural networks play the most important role of medical image analysis. The image classification accepts the given input images and produces output classification.In image classification, CNNs are the recent state-of-the-art methods. The CNNs learned about natural images, showing strong performance and encountering the accuracy of human expert systems.\n",
    "\n",
    "\n",
    "> The Convolution layer is always the first. Тhe image (matrix with pixel values) is entered into it. Imagine that the reading of the input matrix begins at the top left of image. Next the software selects a smaller matrix there, which is called a filter. Then the filter produces convolution, i.e. moves along the input image. The filter’s task is to multiply its values by the original pixel values. All these multiplications are summed up. One number is obtained in the end. \n",
    "\n",
    "> The nonlinear layer is added after each convolution operation. It has an activation function, which brings nonlinear property.\n",
    "\n",
    "> The pooling layer follows the nonlinear layer. It works with width and height of the image and performs a downsampling operation on them. As a result the image volume is reduced.\n",
    "\n",
    "> After completion of series of convolutional, nonlinear and pooling layers, it is necessary to attach a fully connected layer. This layer takes the output information from convolutional networks."
   ]
  },
  {
   "cell_type": "markdown",
   "metadata": {
    "papermill": {
     "duration": 0.007154,
     "end_time": "2020-08-06T11:23:56.975509",
     "exception": false,
     "start_time": "2020-08-06T11:23:56.968355",
     "status": "completed"
    },
    "tags": []
   },
   "source": [
    "# *Please upvote the kernel if you find it insightful*"
   ]
  },
  {
   "cell_type": "markdown",
   "metadata": {
    "papermill": {
     "duration": 0.007087,
     "end_time": "2020-08-06T11:23:56.991510",
     "exception": false,
     "start_time": "2020-08-06T11:23:56.984423",
     "status": "completed"
    },
    "tags": []
   },
   "source": [
    "# Import Libraries"
   ]
  },
  {
   "cell_type": "code",
   "execution_count": 1,
   "metadata": {
    "execution": {
     "iopub.execute_input": "2020-08-06T11:23:57.016149Z",
     "iopub.status.busy": "2020-08-06T11:23:57.015490Z",
     "iopub.status.idle": "2020-08-06T11:24:03.158814Z",
     "shell.execute_reply": "2020-08-06T11:24:03.160074Z"
    },
    "papermill": {
     "duration": 6.161492,
     "end_time": "2020-08-06T11:24:03.160308",
     "exception": false,
     "start_time": "2020-08-06T11:23:56.998816",
     "status": "completed"
    },
    "tags": []
   },
   "outputs": [],
   "source": [
    "import numpy as np\n",
    "import pandas as pd\n",
    "\n",
    "from sklearn.model_selection import train_test_split\n",
    "from sklearn.metrics import classification_report\n",
    "\n",
    "import tensorflow as tf\n",
    "from tensorflow.python import keras\n",
    "from tensorflow.python.keras.models import Sequential\n",
    "from tensorflow.python.keras.layers import Dense, Flatten, Conv2D, Dropout, MaxPooling2D\n",
    "\n",
    "import seaborn as sns\n",
    "import matplotlib.pyplot as plt\n",
    "%matplotlib inline "
   ]
  },
  {
   "cell_type": "markdown",
   "metadata": {
    "papermill": {
     "duration": 0.011714,
     "end_time": "2020-08-06T11:24:03.187127",
     "exception": false,
     "start_time": "2020-08-06T11:24:03.175413",
     "status": "completed"
    },
    "tags": []
   },
   "source": [
    "# Importing the dataset"
   ]
  },
  {
   "cell_type": "code",
   "execution_count": 12,
   "metadata": {},
   "outputs": [
    {
     "name": "stdout",
     "output_type": "stream",
     "text": [
      "ERROR! Session/line number was not unique in database. History logging moved to new session 2275\n"
     ]
    }
   ],
   "source": [
    "import os\n",
    "import splitfolders"
   ]
  },
  {
   "cell_type": "code",
   "execution_count": 13,
   "metadata": {},
   "outputs": [],
   "source": [
    "train_dir = os.path.join(r'D:\\datathon 2022 dataset\\Data_Split\\train')\n",
    "test_dir = os.path.join(r'D:\\datathon 2022 dataset\\Data_Split\\val')"
   ]
  },
  {
   "cell_type": "code",
   "execution_count": 14,
   "metadata": {},
   "outputs": [],
   "source": [
    "from tensorflow.keras.preprocessing.image import ImageDataGenerator\n",
    "\n",
    "def image_generator(train_parent_directory, test_parent_directory):\n",
    "    \n",
    "    train_datagen = ImageDataGenerator(rescale=1/255)\n",
    "    test_datagen = ImageDataGenerator(rescale=1/255)\n",
    "    \n",
    "    train_generator = train_datagen.flow_from_directory(train_parent_directory,\n",
    "                                  target_size = (224, 224),\n",
    "                                  batch_size = 214,\n",
    "                                  class_mode = 'categorical',\n",
    "                                  subset='training')\n",
    " \n",
    "    \n",
    "    test_generator = test_datagen.flow_from_directory(test_parent_directory,\n",
    "                                 target_size=(224, 224),\n",
    "                                 batch_size = 37,\n",
    "                                 class_mode = 'categorical')    \n",
    "    \n",
    "    return train_generator, test_generator"
   ]
  },
  {
   "cell_type": "code",
   "execution_count": 15,
   "metadata": {},
   "outputs": [
    {
     "name": "stdout",
     "output_type": "stream",
     "text": [
      "Found 2086 images belonging to 5 classes.\n",
      "Found 899 images belonging to 5 classes.\n"
     ]
    }
   ],
   "source": [
    "train_generator, test_generator = image_generator(train_dir, test_dir)"
   ]
  },
  {
   "cell_type": "code",
   "execution_count": 16,
   "metadata": {},
   "outputs": [],
   "source": [
    "import numpy as np"
   ]
  },
  {
   "cell_type": "code",
   "execution_count": 17,
   "metadata": {},
   "outputs": [],
   "source": [
    "X_train=[]\n",
    "for j in range(len(train_generator)):    \n",
    "    for m in train_generator[j][0]: \n",
    "        X_train.append(m)"
   ]
  },
  {
   "cell_type": "code",
   "execution_count": 18,
   "metadata": {},
   "outputs": [],
   "source": [
    "y_train=[]\n",
    "for i in range(len(train_generator)):\n",
    "    for k in train_generator[i][1]:  \n",
    "            y_train.append(np.argmax(k))           "
   ]
  },
  {
   "cell_type": "code",
   "execution_count": 19,
   "metadata": {},
   "outputs": [],
   "source": [
    "X_test=[]        \n",
    "for j in range(len(test_generator)):    \n",
    "    for m in test_generator[j][0]: \n",
    "        X_test.append(m)"
   ]
  },
  {
   "cell_type": "code",
   "execution_count": 20,
   "metadata": {},
   "outputs": [],
   "source": [
    "y_test=[]\n",
    "for i in range(len(test_generator)):\n",
    "    for k in test_generator[i][1]:  \n",
    "            y_test.append(np.argmax(k))\n",
    "           "
   ]
  },
  {
   "cell_type": "code",
   "execution_count": 21,
   "metadata": {},
   "outputs": [
    {
     "name": "stdout",
     "output_type": "stream",
     "text": [
      "x_train shape: (2086, 224, 224, 3) y_train shape: (2086,)\n"
     ]
    }
   ],
   "source": [
    "x_train=np.array(X_train)\n",
    "y_train=np.array(y_train)\n",
    "\n",
    "x_test=np.array(X_test)\n",
    "y_test=np.array(y_test)\n",
    "\n",
    "print(\"x_train shape:\", x_train.shape, \"y_train shape:\", y_train.shape)"
   ]
  },
  {
   "cell_type": "code",
   "execution_count": 22,
   "metadata": {},
   "outputs": [
    {
     "data": {
      "text/plain": [
       "['Acne', 'Cyst', 'tumour and skin-tags', 'Melanoma', 'Moneypox', 'Normal skin']"
      ]
     },
     "execution_count": 22,
     "metadata": {},
     "output_type": "execute_result"
    }
   ],
   "source": [
    "['Acne','Cyst, tumour and skin-tags','Melanoma','Moneypox','Normal skin']"
   ]
  },
  {
   "cell_type": "code",
   "execution_count": 25,
   "metadata": {},
   "outputs": [],
   "source": [
    "y = np.concatenate((y_train, y_test))"
   ]
  },
  {
   "cell_type": "code",
   "execution_count": 26,
   "metadata": {},
   "outputs": [
    {
     "data": {
      "text/plain": [
       "array([2, 3, 2, ..., 3, 3, 4], dtype=int64)"
      ]
     },
     "execution_count": 26,
     "metadata": {},
     "output_type": "execute_result"
    }
   ],
   "source": [
    "y"
   ]
  },
  {
   "cell_type": "code",
   "execution_count": 28,
   "metadata": {},
   "outputs": [
    {
     "name": "stdout",
     "output_type": "stream",
     "text": [
      "Melanoma Monkeypox Melanoma Normal skin Normal skin Melanoma Cyst, tumour and skin-tags Normal skin Melanoma Normal skin Cyst, tumour and skin-tags Cyst, tumour and skin-tags Cyst, tumour and skin-tags Cyst, tumour and skin-tags Monkeypox Acne Normal skin Normal skin Acne Acne Monkeypox Acne Monkeypox Normal skin Acne Normal skin Melanoma Acne Normal skin Monkeypox Monkeypox Normal skin Melanoma Cyst, tumour and skin-tags Monkeypox Monkeypox Melanoma Melanoma Cyst, tumour and skin-tags Monkeypox Normal skin Melanoma Acne Melanoma Normal skin Acne Acne Monkeypox Normal skin Cyst, tumour and skin-tags Acne Acne Normal skin Monkeypox Cyst, tumour and skin-tags Monkeypox Monkeypox Monkeypox Monkeypox Melanoma Monkeypox Cyst, tumour and skin-tags Acne Normal skin Melanoma Melanoma Acne Monkeypox Melanoma Melanoma Acne Monkeypox Monkeypox Normal skin Monkeypox Melanoma Normal skin Melanoma Cyst, tumour and skin-tags Melanoma Acne Cyst, tumour and skin-tags Normal skin Cyst, tumour and skin-tags Monkeypox Melanoma Melanoma Cyst, tumour and skin-tags Normal skin Melanoma Acne Normal skin Acne Melanoma Cyst, tumour and skin-tags Monkeypox Cyst, tumour and skin-tags Acne Normal skin Acne Monkeypox Monkeypox Melanoma Normal skin Acne Cyst, tumour and skin-tags Acne Cyst, tumour and skin-tags Cyst, tumour and skin-tags Cyst, tumour and skin-tags Normal skin Cyst, tumour and skin-tags Cyst, tumour and skin-tags Acne Cyst, tumour and skin-tags Monkeypox Monkeypox Melanoma Monkeypox Acne Monkeypox Normal skin Cyst, tumour and skin-tags Normal skin Cyst, tumour and skin-tags Acne Cyst, tumour and skin-tags Normal skin Cyst, tumour and skin-tags Acne Normal skin Acne Normal skin Monkeypox Acne Melanoma Normal skin Cyst, tumour and skin-tags Acne Normal skin Cyst, tumour and skin-tags Cyst, tumour and skin-tags Normal skin Monkeypox Monkeypox Melanoma Melanoma Melanoma Melanoma Normal skin Cyst, tumour and skin-tags Acne Cyst, tumour and skin-tags Normal skin Normal skin Acne Melanoma Normal skin Cyst, tumour and skin-tags Monkeypox Monkeypox Normal skin Normal skin Cyst, tumour and skin-tags Monkeypox Cyst, tumour and skin-tags Monkeypox Monkeypox Normal skin Cyst, tumour and skin-tags Acne Acne Monkeypox Melanoma Monkeypox Acne Melanoma Melanoma Acne Normal skin Melanoma Cyst, tumour and skin-tags Normal skin Normal skin Cyst, tumour and skin-tags Monkeypox Normal skin Normal skin Acne Monkeypox Cyst, tumour and skin-tags Melanoma Normal skin Monkeypox Normal skin Acne Acne Monkeypox Cyst, tumour and skin-tags Melanoma Normal skin Monkeypox Normal skin Cyst, tumour and skin-tags Normal skin Normal skin Cyst, tumour and skin-tags Melanoma Melanoma Cyst, tumour and skin-tags Acne Cyst, tumour and skin-tags Acne Monkeypox Monkeypox Monkeypox Melanoma Normal skin Cyst, tumour and skin-tags Melanoma Acne Normal skin Cyst, tumour and skin-tags Acne Normal skin Monkeypox Normal skin Cyst, tumour and skin-tags Melanoma Normal skin Monkeypox Acne Cyst, tumour and skin-tags Melanoma Melanoma Cyst, tumour and skin-tags Monkeypox Cyst, tumour and skin-tags Normal skin Acne Cyst, tumour and skin-tags Normal skin Cyst, tumour and skin-tags Monkeypox Acne Acne Normal skin Monkeypox Acne Melanoma Acne Melanoma Acne Cyst, tumour and skin-tags Cyst, tumour and skin-tags Normal skin Monkeypox Melanoma Normal skin Normal skin Melanoma Cyst, tumour and skin-tags Cyst, tumour and skin-tags Cyst, tumour and skin-tags Monkeypox Normal skin Monkeypox Cyst, tumour and skin-tags Cyst, tumour and skin-tags Normal skin Monkeypox Normal skin Melanoma Cyst, tumour and skin-tags Cyst, tumour and skin-tags Acne Melanoma Normal skin Normal skin Acne Normal skin Cyst, tumour and skin-tags Cyst, tumour and skin-tags Melanoma Cyst, tumour and skin-tags Acne Cyst, tumour and skin-tags Monkeypox Normal skin Cyst, tumour and skin-tags Normal skin Cyst, tumour and skin-tags Monkeypox Normal skin Cyst, tumour and skin-tags Acne Melanoma Monkeypox Melanoma Monkeypox Cyst, tumour and skin-tags Melanoma Acne Melanoma Acne Melanoma Normal skin Normal skin Normal skin Cyst, tumour and skin-tags Acne Cyst, tumour and skin-tags Normal skin Acne Cyst, tumour and skin-tags Cyst, tumour and skin-tags Monkeypox Cyst, tumour and skin-tags Normal skin Normal skin Acne Cyst, tumour and skin-tags Normal skin Cyst, tumour and skin-tags Normal skin Monkeypox Monkeypox Acne Normal skin Normal skin Monkeypox Normal skin Monkeypox Melanoma Monkeypox Monkeypox Cyst, tumour and skin-tags Melanoma Normal skin Normal skin Normal skin Acne Cyst, tumour and skin-tags Melanoma Cyst, tumour and skin-tags Normal skin Normal skin Normal skin Cyst, tumour and skin-tags Acne Normal skin Normal skin Normal skin Monkeypox Acne Normal skin Monkeypox Monkeypox Acne Acne Monkeypox Melanoma Cyst, tumour and skin-tags Melanoma Cyst, tumour and skin-tags Normal skin Melanoma Normal skin Cyst, tumour and skin-tags Monkeypox Melanoma Monkeypox Monkeypox Normal skin Monkeypox Normal skin Monkeypox Normal skin Normal skin Monkeypox Monkeypox Melanoma Melanoma Normal skin Monkeypox Normal skin Normal skin Cyst, tumour and skin-tags Melanoma Melanoma Cyst, tumour and skin-tags Cyst, tumour and skin-tags Monkeypox Melanoma Acne Acne Cyst, tumour and skin-tags Melanoma Monkeypox Melanoma Acne Monkeypox Normal skin Cyst, tumour and skin-tags Acne Normal skin Normal skin Melanoma Monkeypox Monkeypox Monkeypox Monkeypox Monkeypox Melanoma Cyst, tumour and skin-tags Normal skin Monkeypox Monkeypox Melanoma Normal skin Cyst, tumour and skin-tags Normal skin Cyst, tumour and skin-tags Monkeypox Acne Monkeypox Cyst, tumour and skin-tags Monkeypox Normal skin Cyst, tumour and skin-tags Monkeypox Melanoma Monkeypox Monkeypox Melanoma Normal skin Monkeypox Normal skin Melanoma Melanoma Monkeypox Normal skin Melanoma Normal skin Normal skin Normal skin Normal skin Monkeypox Cyst, tumour and skin-tags Melanoma Cyst, tumour and skin-tags Melanoma Acne Monkeypox Cyst, tumour and skin-tags Melanoma Melanoma Cyst, tumour and skin-tags Melanoma Normal skin Cyst, tumour and skin-tags Melanoma Cyst, tumour and skin-tags Cyst, tumour and skin-tags Melanoma Cyst, tumour and skin-tags Melanoma Acne Melanoma Normal skin Melanoma Cyst, tumour and skin-tags Monkeypox Monkeypox Monkeypox Cyst, tumour and skin-tags Cyst, tumour and skin-tags Cyst, tumour and skin-tags Monkeypox Monkeypox Melanoma Cyst, tumour and skin-tags Melanoma Normal skin Normal skin Cyst, tumour and skin-tags Acne Monkeypox Normal skin Acne Normal skin Normal skin Monkeypox Acne Cyst, tumour and skin-tags Normal skin Acne Monkeypox Normal skin Normal skin Acne Monkeypox Monkeypox Melanoma Monkeypox Monkeypox Monkeypox Cyst, tumour and skin-tags Monkeypox Acne Monkeypox Normal skin Normal skin Cyst, tumour and skin-tags Monkeypox Normal skin Melanoma Cyst, tumour and skin-tags Melanoma Cyst, tumour and skin-tags Normal skin Cyst, tumour and skin-tags Normal skin Monkeypox Normal skin Normal skin Melanoma Monkeypox Melanoma Melanoma Normal skin Monkeypox Normal skin Normal skin Cyst, tumour and skin-tags Melanoma Monkeypox Normal skin Acne Melanoma Cyst, tumour and skin-tags Acne Cyst, tumour and skin-tags Normal skin Cyst, tumour and skin-tags Monkeypox Normal skin Monkeypox Monkeypox Melanoma Cyst, tumour and skin-tags Acne Monkeypox Monkeypox Normal skin Melanoma Normal skin Melanoma Acne Acne Melanoma Normal skin Monkeypox Melanoma Cyst, tumour and skin-tags Normal skin Melanoma Melanoma Melanoma Normal skin Monkeypox Cyst, tumour and skin-tags Acne Acne Acne Cyst, tumour and skin-tags Monkeypox Normal skin Monkeypox Monkeypox Monkeypox Cyst, tumour and skin-tags Monkeypox Normal skin Cyst, tumour and skin-tags Cyst, tumour and skin-tags Acne Acne Normal skin Monkeypox Monkeypox Cyst, tumour and skin-tags Monkeypox Normal skin Normal skin Normal skin Acne Melanoma Normal skin Acne Cyst, tumour and skin-tags Normal skin Acne Cyst, tumour and skin-tags Melanoma Normal skin Melanoma Acne Monkeypox Normal skin Monkeypox Normal skin Cyst, tumour and skin-tags Monkeypox Cyst, tumour and skin-tags Monkeypox Monkeypox Normal skin Normal skin Normal skin Cyst, tumour and skin-tags Cyst, tumour and skin-tags Melanoma Monkeypox Melanoma Normal skin Monkeypox Melanoma Normal skin Normal skin Monkeypox Normal skin Normal skin Normal skin Melanoma Normal skin Melanoma Melanoma Melanoma Normal skin Normal skin Normal skin Cyst, tumour and skin-tags Monkeypox Normal skin Melanoma Acne Cyst, tumour and skin-tags Monkeypox Melanoma Monkeypox Normal skin Cyst, tumour and skin-tags Cyst, tumour and skin-tags Cyst, tumour and skin-tags Monkeypox Monkeypox Acne Monkeypox Melanoma Normal skin Normal skin Melanoma Normal skin Monkeypox Acne Melanoma Cyst, tumour and skin-tags Acne Cyst, tumour and skin-tags Monkeypox Melanoma Acne Normal skin Monkeypox Melanoma Normal skin Normal skin Acne Monkeypox Normal skin Monkeypox Cyst, tumour and skin-tags Cyst, tumour and skin-tags Melanoma Monkeypox Normal skin Monkeypox Acne Melanoma Melanoma Cyst, tumour and skin-tags Cyst, tumour and skin-tags Melanoma Cyst, tumour and skin-tags Monkeypox Melanoma Normal skin Cyst, tumour and skin-tags Melanoma Cyst, tumour and skin-tags Cyst, tumour and skin-tags Monkeypox Melanoma Normal skin Acne Monkeypox Melanoma Melanoma Cyst, tumour and skin-tags Normal skin Melanoma Cyst, tumour and skin-tags Melanoma Melanoma Monkeypox Acne Normal skin Melanoma Melanoma Acne Melanoma Monkeypox Acne Cyst, tumour and skin-tags Melanoma Cyst, tumour and skin-tags Normal skin Monkeypox Monkeypox Cyst, tumour and skin-tags Normal skin Normal skin Normal skin Normal skin Melanoma Monkeypox Normal skin Normal skin Normal skin Melanoma Monkeypox Melanoma Normal skin Normal skin Cyst, tumour and skin-tags Normal skin Monkeypox Acne Acne Melanoma Normal skin Monkeypox Acne Cyst, tumour and skin-tags Normal skin Normal skin Cyst, tumour and skin-tags Monkeypox Acne Monkeypox Normal skin Monkeypox Monkeypox Monkeypox Monkeypox Melanoma Normal skin Monkeypox Cyst, tumour and skin-tags Melanoma Melanoma Normal skin Cyst, tumour and skin-tags Acne Normal skin Acne Normal skin Monkeypox Acne Monkeypox Cyst, tumour and skin-tags Cyst, tumour and skin-tags Melanoma Melanoma Acne Monkeypox Melanoma Melanoma Melanoma Acne Acne Melanoma Normal skin Cyst, tumour and skin-tags Acne Acne Melanoma Melanoma Monkeypox Monkeypox Monkeypox Normal skin Melanoma Melanoma Melanoma Normal skin Melanoma Cyst, tumour and skin-tags Cyst, tumour and skin-tags Normal skin Cyst, tumour and skin-tags Melanoma Normal skin Melanoma Monkeypox Acne Cyst, tumour and skin-tags Melanoma Normal skin Cyst, tumour and skin-tags Monkeypox Monkeypox Cyst, tumour and skin-tags Monkeypox Monkeypox Normal skin Melanoma Monkeypox Melanoma Acne Normal skin Monkeypox Monkeypox Normal skin Acne Melanoma Melanoma Cyst, tumour and skin-tags Cyst, tumour and skin-tags Normal skin Normal skin Monkeypox Normal skin Acne Monkeypox Cyst, tumour and skin-tags Monkeypox Normal skin Monkeypox Acne Cyst, tumour and skin-tags Melanoma Monkeypox Monkeypox Acne Melanoma Monkeypox Cyst, tumour and skin-tags Monkeypox Cyst, tumour and skin-tags Monkeypox Melanoma Acne Normal skin Acne Melanoma Monkeypox Monkeypox Acne Monkeypox Cyst, tumour and skin-tags Melanoma Normal skin Normal skin Monkeypox Monkeypox Monkeypox Monkeypox Monkeypox Monkeypox Normal skin Melanoma Cyst, tumour and skin-tags Acne Acne Cyst, tumour and skin-tags Normal skin Melanoma Normal skin Monkeypox Monkeypox Acne Normal skin Melanoma Melanoma Melanoma Monkeypox Melanoma Cyst, tumour and skin-tags Melanoma Cyst, tumour and skin-tags Acne Melanoma Monkeypox Monkeypox Monkeypox Cyst, tumour and skin-tags Normal skin Normal skin Acne Normal skin Cyst, tumour and skin-tags Melanoma Melanoma Cyst, tumour and skin-tags Monkeypox Melanoma Melanoma Monkeypox Acne Monkeypox Melanoma Monkeypox Normal skin Normal skin Monkeypox Monkeypox Melanoma Normal skin Melanoma Melanoma Cyst, tumour and skin-tags Monkeypox Monkeypox Melanoma Normal skin Acne Normal skin Normal skin Cyst, tumour and skin-tags Monkeypox Melanoma Acne Melanoma Melanoma Melanoma Normal skin Melanoma Melanoma Melanoma Monkeypox Melanoma Normal skin Monkeypox Monkeypox Acne Monkeypox Normal skin Monkeypox Normal skin Cyst, tumour and skin-tags Cyst, tumour and skin-tags Monkeypox Normal skin Melanoma Cyst, tumour and skin-tags Melanoma Monkeypox Normal skin Cyst, tumour and skin-tags Normal skin Melanoma Cyst, tumour and skin-tags Normal skin Melanoma Normal skin Normal skin Normal skin Acne Melanoma Normal skin Melanoma Monkeypox Cyst, tumour and skin-tags Cyst, tumour and skin-tags Monkeypox Melanoma Melanoma Monkeypox Monkeypox Melanoma Acne Normal skin Normal skin Cyst, tumour and skin-tags Monkeypox Monkeypox Cyst, tumour and skin-tags Monkeypox Normal skin Cyst, tumour and skin-tags Melanoma Melanoma Normal skin Monkeypox Normal skin Melanoma Normal skin Cyst, tumour and skin-tags Melanoma Acne Cyst, tumour and skin-tags Cyst, tumour and skin-tags Melanoma Melanoma Normal skin Normal skin Normal skin Monkeypox Melanoma Normal skin Melanoma Cyst, tumour and skin-tags Cyst, tumour and skin-tags Monkeypox Normal skin Cyst, tumour and skin-tags Melanoma Melanoma Melanoma Normal skin Normal skin Monkeypox Cyst, tumour and skin-tags Acne Normal skin Cyst, tumour and skin-tags Normal skin Normal skin Cyst, tumour and skin-tags Acne Normal skin Monkeypox Cyst, tumour and skin-tags Acne Melanoma Melanoma Normal skin Normal skin Normal skin Melanoma Monkeypox Monkeypox Normal skin Cyst, tumour and skin-tags Melanoma Monkeypox Cyst, tumour and skin-tags Cyst, tumour and skin-tags Monkeypox Acne Cyst, tumour and skin-tags Cyst, tumour and skin-tags Cyst, tumour and skin-tags Monkeypox Melanoma Cyst, tumour and skin-tags Normal skin Melanoma Melanoma Cyst, tumour and skin-tags Melanoma Monkeypox Melanoma Monkeypox Monkeypox Cyst, tumour and skin-tags Cyst, tumour and skin-tags Monkeypox Normal skin Acne Cyst, tumour and skin-tags Monkeypox Cyst, tumour and skin-tags Normal skin Melanoma Normal skin Cyst, tumour and skin-tags Acne Melanoma Monkeypox Melanoma Acne Acne Normal skin Monkeypox Cyst, tumour and skin-tags Monkeypox Cyst, tumour and skin-tags Normal skin Normal skin Monkeypox Melanoma Melanoma Acne Melanoma Cyst, tumour and skin-tags Melanoma Normal skin Melanoma Cyst, tumour and skin-tags Normal skin Melanoma Monkeypox Melanoma Melanoma Acne Monkeypox Normal skin Normal skin Acne Cyst, tumour and skin-tags Normal skin Melanoma Acne Cyst, tumour and skin-tags Normal skin Monkeypox Acne Cyst, tumour and skin-tags Monkeypox Monkeypox Monkeypox Melanoma Monkeypox Monkeypox Melanoma Acne Acne Monkeypox Melanoma Acne Normal skin Cyst, tumour and skin-tags Normal skin Cyst, tumour and skin-tags Monkeypox Normal skin Normal skin Cyst, tumour and skin-tags Cyst, tumour and skin-tags Cyst, tumour and skin-tags Cyst, tumour and skin-tags Cyst, tumour and skin-tags Acne Cyst, tumour and skin-tags Normal skin Melanoma Normal skin Normal skin Monkeypox Normal skin Monkeypox Monkeypox Monkeypox Monkeypox Cyst, tumour and skin-tags Monkeypox Acne Melanoma Melanoma Melanoma Cyst, tumour and skin-tags Cyst, tumour and skin-tags Normal skin Normal skin Normal skin Monkeypox Monkeypox Acne Monkeypox Cyst, tumour and skin-tags Monkeypox Normal skin Monkeypox Melanoma Normal skin Cyst, tumour and skin-tags Monkeypox Cyst, tumour and skin-tags Monkeypox Normal skin Melanoma Monkeypox Melanoma Normal skin Monkeypox Melanoma Monkeypox Melanoma Acne Acne Normal skin Normal skin Cyst, tumour and skin-tags Melanoma Monkeypox Acne Monkeypox Cyst, tumour and skin-tags Cyst, tumour and skin-tags Monkeypox Cyst, tumour and skin-tags Acne Cyst, tumour and skin-tags Normal skin Cyst, tumour and skin-tags Normal skin Normal skin Monkeypox Acne Cyst, tumour and skin-tags Normal skin Monkeypox Normal skin Cyst, tumour and skin-tags Normal skin Acne Cyst, tumour and skin-tags Monkeypox Normal skin Melanoma Normal skin Melanoma Monkeypox Melanoma Normal skin Normal skin Melanoma Acne Monkeypox Normal skin Melanoma Melanoma Cyst, tumour and skin-tags Monkeypox Normal skin Monkeypox Melanoma Acne Normal skin Normal skin Melanoma Cyst, tumour and skin-tags Cyst, tumour and skin-tags Melanoma Cyst, tumour and skin-tags Monkeypox Acne Normal skin Melanoma Monkeypox Monkeypox Melanoma Monkeypox Monkeypox Monkeypox Normal skin Monkeypox Acne Acne Acne Monkeypox Cyst, tumour and skin-tags Normal skin Normal skin Monkeypox Monkeypox Normal skin Cyst, tumour and skin-tags Acne Monkeypox Melanoma Monkeypox Cyst, tumour and skin-tags Acne Monkeypox Cyst, tumour and skin-tags Normal skin Normal skin Normal skin Monkeypox Normal skin Cyst, tumour and skin-tags Acne Melanoma Monkeypox Acne Cyst, tumour and skin-tags Cyst, tumour and skin-tags Monkeypox Melanoma Monkeypox Normal skin Normal skin Monkeypox Monkeypox Monkeypox Normal skin Normal skin Normal skin Acne Cyst, tumour and skin-tags Monkeypox Acne Normal skin Cyst, tumour and skin-tags Melanoma Melanoma Cyst, tumour and skin-tags Acne Melanoma Normal skin Cyst, tumour and skin-tags Cyst, tumour and skin-tags Normal skin Melanoma Monkeypox Normal skin Normal skin Monkeypox Normal skin Normal skin Cyst, tumour and skin-tags Melanoma Normal skin Cyst, tumour and skin-tags Normal skin Cyst, tumour and skin-tags Normal skin Monkeypox Acne Melanoma Normal skin Normal skin Melanoma Monkeypox Monkeypox Monkeypox Normal skin Normal skin Normal skin Melanoma Cyst, tumour and skin-tags Monkeypox Cyst, tumour and skin-tags Normal skin Cyst, tumour and skin-tags Cyst, tumour and skin-tags Monkeypox Cyst, tumour and skin-tags Melanoma Melanoma Monkeypox Normal skin Monkeypox Melanoma Cyst, tumour and skin-tags Acne Monkeypox Monkeypox Monkeypox Normal skin Normal skin Normal skin Acne Monkeypox Melanoma Monkeypox Cyst, tumour and skin-tags Cyst, tumour and skin-tags Cyst, tumour and skin-tags Monkeypox Acne Monkeypox Melanoma Melanoma Normal skin Normal skin Normal skin Monkeypox Cyst, tumour and skin-tags Acne Monkeypox Monkeypox Cyst, tumour and skin-tags Monkeypox Cyst, tumour and skin-tags Cyst, tumour and skin-tags Cyst, tumour and skin-tags Cyst, tumour and skin-tags Melanoma Monkeypox Normal skin Cyst, tumour and skin-tags Monkeypox Cyst, tumour and skin-tags Monkeypox Cyst, tumour and skin-tags Cyst, tumour and skin-tags Normal skin Monkeypox Melanoma Normal skin Monkeypox Normal skin Acne Monkeypox Monkeypox Normal skin Monkeypox Monkeypox Monkeypox Melanoma Melanoma Cyst, tumour and skin-tags Cyst, tumour and skin-tags Normal skin Normal skin Melanoma Melanoma Melanoma Monkeypox Cyst, tumour and skin-tags Monkeypox Monkeypox Monkeypox Melanoma Normal skin Normal skin Monkeypox Melanoma Normal skin Cyst, tumour and skin-tags Acne Melanoma Monkeypox Normal skin Acne Normal skin Melanoma Cyst, tumour and skin-tags Normal skin Monkeypox Melanoma Acne Acne Acne Acne Monkeypox Normal skin Normal skin Monkeypox Monkeypox Melanoma Normal skin Cyst, tumour and skin-tags Cyst, tumour and skin-tags Acne Monkeypox Melanoma Monkeypox Normal skin Melanoma Cyst, tumour and skin-tags Normal skin Normal skin Melanoma Melanoma Normal skin Acne Acne Cyst, tumour and skin-tags Monkeypox Acne Normal skin Monkeypox Acne Monkeypox Melanoma Normal skin Acne Normal skin Acne Cyst, tumour and skin-tags Melanoma Melanoma Normal skin Normal skin Melanoma Acne Cyst, tumour and skin-tags Cyst, tumour and skin-tags Cyst, tumour and skin-tags Monkeypox Cyst, tumour and skin-tags Monkeypox Normal skin Monkeypox Normal skin Cyst, tumour and skin-tags Monkeypox Melanoma Monkeypox Acne Acne Cyst, tumour and skin-tags Monkeypox Normal skin Monkeypox Cyst, tumour and skin-tags Monkeypox Normal skin Acne Cyst, tumour and skin-tags Monkeypox Cyst, tumour and skin-tags Normal skin Monkeypox Monkeypox Acne Cyst, tumour and skin-tags Monkeypox Monkeypox Cyst, tumour and skin-tags Monkeypox Monkeypox Monkeypox Normal skin Melanoma Acne Monkeypox Melanoma Normal skin Normal skin Cyst, tumour and skin-tags Normal skin Normal skin Acne Melanoma Normal skin Melanoma Cyst, tumour and skin-tags Monkeypox Cyst, tumour and skin-tags Cyst, tumour and skin-tags Cyst, tumour and skin-tags Melanoma Cyst, tumour and skin-tags Normal skin Monkeypox Acne Acne Normal skin Monkeypox Acne Cyst, tumour and skin-tags Melanoma Acne Acne Acne Normal skin Normal skin Normal skin Melanoma Monkeypox Melanoma Normal skin Acne Acne Cyst, tumour and skin-tags Melanoma Cyst, tumour and skin-tags Normal skin Monkeypox Monkeypox Normal skin Normal skin Cyst, tumour and skin-tags Monkeypox Monkeypox Acne Monkeypox Normal skin Melanoma Monkeypox Melanoma Monkeypox Monkeypox Melanoma Normal skin Monkeypox Normal skin Normal skin Melanoma Cyst, tumour and skin-tags Monkeypox Melanoma Monkeypox Melanoma Normal skin Monkeypox Normal skin Cyst, tumour and skin-tags Melanoma Cyst, tumour and skin-tags Melanoma Normal skin Cyst, tumour and skin-tags Cyst, tumour and skin-tags Normal skin Cyst, tumour and skin-tags Monkeypox Melanoma Acne Melanoma Cyst, tumour and skin-tags Melanoma Melanoma Cyst, tumour and skin-tags Melanoma Melanoma Cyst, tumour and skin-tags Normal skin Normal skin Acne Monkeypox Normal skin Melanoma Cyst, tumour and skin-tags Normal skin Normal skin Melanoma Monkeypox Acne Monkeypox Monkeypox Monkeypox Monkeypox Normal skin Cyst, tumour and skin-tags Normal skin Melanoma Cyst, tumour and skin-tags Melanoma Acne Monkeypox Normal skin Normal skin Monkeypox Acne Normal skin Normal skin Acne Melanoma Monkeypox Melanoma Monkeypox Melanoma Monkeypox Normal skin Monkeypox Monkeypox Monkeypox Cyst, tumour and skin-tags Normal skin Acne Melanoma Acne Acne Normal skin Cyst, tumour and skin-tags Cyst, tumour and skin-tags Normal skin Melanoma Cyst, tumour and skin-tags Melanoma Monkeypox Acne Acne Acne Cyst, tumour and skin-tags Melanoma Normal skin Acne Normal skin Monkeypox Normal skin Melanoma Cyst, tumour and skin-tags Acne Melanoma Monkeypox Monkeypox Monkeypox Melanoma Monkeypox Melanoma Normal skin Monkeypox Normal skin Cyst, tumour and skin-tags Monkeypox Acne Melanoma Normal skin Monkeypox Normal skin Acne Normal skin Melanoma Cyst, tumour and skin-tags Melanoma Monkeypox Normal skin Normal skin Acne Monkeypox Acne Monkeypox Melanoma Monkeypox Acne Normal skin Acne Monkeypox Monkeypox Cyst, tumour and skin-tags Monkeypox Acne Cyst, tumour and skin-tags Monkeypox Melanoma Normal skin Normal skin Monkeypox Melanoma Cyst, tumour and skin-tags Normal skin Cyst, tumour and skin-tags Monkeypox Normal skin Melanoma Normal skin Melanoma Normal skin Acne Acne Acne Monkeypox Melanoma Melanoma Monkeypox Monkeypox Monkeypox Acne Cyst, tumour and skin-tags Melanoma Monkeypox Acne Monkeypox Normal skin Normal skin Cyst, tumour and skin-tags Melanoma Monkeypox Acne Acne Acne Normal skin Melanoma Monkeypox Melanoma Melanoma Acne Normal skin Cyst, tumour and skin-tags Melanoma Melanoma Cyst, tumour and skin-tags Melanoma Cyst, tumour and skin-tags Monkeypox Cyst, tumour and skin-tags Monkeypox Melanoma Monkeypox Monkeypox Cyst, tumour and skin-tags Normal skin Melanoma Melanoma Cyst, tumour and skin-tags Melanoma Normal skin Normal skin Melanoma Cyst, tumour and skin-tags Normal skin Normal skin Normal skin Melanoma Normal skin Melanoma Monkeypox Normal skin Melanoma Melanoma Melanoma Monkeypox Normal skin Normal skin Acne Monkeypox Cyst, tumour and skin-tags Cyst, tumour and skin-tags Acne Cyst, tumour and skin-tags Melanoma Cyst, tumour and skin-tags Monkeypox Cyst, tumour and skin-tags Cyst, tumour and skin-tags Melanoma Cyst, tumour and skin-tags Monkeypox Cyst, tumour and skin-tags Acne Acne Normal skin Melanoma Cyst, tumour and skin-tags Normal skin Acne Melanoma Monkeypox Cyst, tumour and skin-tags Cyst, tumour and skin-tags Normal skin Acne Melanoma Normal skin Cyst, tumour and skin-tags Monkeypox Monkeypox Melanoma Acne Normal skin Cyst, tumour and skin-tags Monkeypox Cyst, tumour and skin-tags Melanoma Acne Monkeypox Melanoma Acne Melanoma Melanoma Monkeypox Cyst, tumour and skin-tags Melanoma Normal skin Cyst, tumour and skin-tags Cyst, tumour and skin-tags Monkeypox Cyst, tumour and skin-tags Normal skin Normal skin Cyst, tumour and skin-tags Monkeypox Monkeypox Melanoma Normal skin Cyst, tumour and skin-tags Monkeypox Normal skin Normal skin Monkeypox Normal skin Monkeypox Normal skin Normal skin Normal skin Normal skin Monkeypox Monkeypox Acne Melanoma Monkeypox Normal skin Monkeypox Monkeypox Acne Cyst, tumour and skin-tags Acne Melanoma Acne Melanoma Monkeypox Monkeypox Normal skin Normal skin Acne Cyst, tumour and skin-tags Cyst, tumour and skin-tags Normal skin Cyst, tumour and skin-tags Monkeypox Cyst, tumour and skin-tags Cyst, tumour and skin-tags Cyst, tumour and skin-tags Monkeypox Melanoma Acne Cyst, tumour and skin-tags Monkeypox Normal skin Monkeypox Cyst, tumour and skin-tags Cyst, tumour and skin-tags Normal skin Acne Cyst, tumour and skin-tags Acne Monkeypox Normal skin Melanoma Cyst, tumour and skin-tags Cyst, tumour and skin-tags Melanoma Acne Melanoma Monkeypox Melanoma Normal skin Monkeypox Melanoma Cyst, tumour and skin-tags Melanoma Cyst, tumour and skin-tags Monkeypox Cyst, tumour and skin-tags Normal skin Normal skin Cyst, tumour and skin-tags Normal skin Monkeypox Melanoma Melanoma Cyst, tumour and skin-tags Cyst, tumour and skin-tags Acne Normal skin Cyst, tumour and skin-tags Cyst, tumour and skin-tags Acne Monkeypox Melanoma Normal skin Normal skin Melanoma Melanoma Normal skin Melanoma Melanoma Normal skin Monkeypox Melanoma Melanoma Normal skin Cyst, tumour and skin-tags Cyst, tumour and skin-tags Cyst, tumour and skin-tags Cyst, tumour and skin-tags Melanoma Normal skin Normal skin Acne Normal skin Cyst, tumour and skin-tags Acne Melanoma Monkeypox Cyst, tumour and skin-tags Cyst, tumour and skin-tags Cyst, tumour and skin-tags Melanoma Monkeypox Monkeypox Melanoma Cyst, tumour and skin-tags Cyst, tumour and skin-tags Cyst, tumour and skin-tags Cyst, tumour and skin-tags Monkeypox Melanoma Acne Cyst, tumour and skin-tags Normal skin Cyst, tumour and skin-tags Monkeypox Monkeypox Acne Normal skin Cyst, tumour and skin-tags Melanoma Monkeypox Monkeypox Normal skin Melanoma Cyst, tumour and skin-tags Cyst, tumour and skin-tags Normal skin Melanoma Normal skin Monkeypox Melanoma Melanoma Monkeypox Cyst, tumour and skin-tags Acne Acne Normal skin Cyst, tumour and skin-tags Melanoma Acne Monkeypox Cyst, tumour and skin-tags Normal skin Melanoma Melanoma Melanoma Acne Normal skin Melanoma Acne Acne Normal skin Acne Acne Monkeypox Cyst, tumour and skin-tags Melanoma Monkeypox Cyst, tumour and skin-tags Melanoma Melanoma Normal skin Acne Monkeypox Cyst, tumour and skin-tags Monkeypox Normal skin Cyst, tumour and skin-tags Monkeypox Acne Cyst, tumour and skin-tags Melanoma Melanoma Melanoma Cyst, tumour and skin-tags Melanoma Cyst, tumour and skin-tags Normal skin Melanoma Monkeypox Cyst, tumour and skin-tags Melanoma Melanoma Monkeypox Acne Normal skin Monkeypox Cyst, tumour and skin-tags Monkeypox Monkeypox Cyst, tumour and skin-tags Cyst, tumour and skin-tags Normal skin Normal skin Melanoma Monkeypox Melanoma Melanoma Acne Normal skin Melanoma Melanoma Monkeypox Monkeypox Monkeypox Cyst, tumour and skin-tags Normal skin Acne Normal skin Cyst, tumour and skin-tags Cyst, tumour and skin-tags Acne Cyst, tumour and skin-tags Acne Acne Monkeypox Melanoma Acne Normal skin Cyst, tumour and skin-tags Normal skin Acne Cyst, tumour and skin-tags Monkeypox Monkeypox Monkeypox Cyst, tumour and skin-tags Melanoma Cyst, tumour and skin-tags Cyst, tumour and skin-tags Melanoma Acne Cyst, tumour and skin-tags Melanoma Melanoma Cyst, tumour and skin-tags Cyst, tumour and skin-tags Cyst, tumour and skin-tags Monkeypox Monkeypox Acne Monkeypox Acne Cyst, tumour and skin-tags Monkeypox Cyst, tumour and skin-tags Normal skin Acne Normal skin Normal skin Monkeypox Normal skin Cyst, tumour and skin-tags Monkeypox Melanoma Acne Cyst, tumour and skin-tags Monkeypox Normal skin Cyst, tumour and skin-tags Cyst, tumour and skin-tags Cyst, tumour and skin-tags Acne Melanoma Normal skin Monkeypox Cyst, tumour and skin-tags Melanoma Normal skin Melanoma Normal skin Cyst, tumour and skin-tags Monkeypox Normal skin Monkeypox Cyst, tumour and skin-tags Melanoma Monkeypox Melanoma Monkeypox Normal skin Normal skin Acne Normal skin Melanoma Monkeypox Melanoma Monkeypox Cyst, tumour and skin-tags Monkeypox Normal skin Monkeypox Monkeypox Normal skin Melanoma Cyst, tumour and skin-tags Normal skin Monkeypox Acne Normal skin Normal skin Melanoma Melanoma Acne Monkeypox Normal skin Normal skin Normal skin Normal skin Normal skin Monkeypox Melanoma Normal skin Monkeypox Acne Normal skin Normal skin Normal skin Monkeypox Acne Normal skin Cyst, tumour and skin-tags Cyst, tumour and skin-tags Cyst, tumour and skin-tags Normal skin Melanoma Melanoma Melanoma Melanoma Melanoma Acne Cyst, tumour and skin-tags Cyst, tumour and skin-tags Cyst, tumour and skin-tags Normal skin Acne Cyst, tumour and skin-tags Melanoma Acne Melanoma Normal skin Acne Normal skin Cyst, tumour and skin-tags Monkeypox Melanoma Cyst, tumour and skin-tags Cyst, tumour and skin-tags Monkeypox Cyst, tumour and skin-tags Melanoma Normal skin Melanoma Cyst, tumour and skin-tags Normal skin Melanoma Cyst, tumour and skin-tags Normal skin Acne Cyst, tumour and skin-tags Normal skin Normal skin Cyst, tumour and skin-tags Cyst, tumour and skin-tags Cyst, tumour and skin-tags Melanoma Acne Monkeypox Acne Cyst, tumour and skin-tags Melanoma Cyst, tumour and skin-tags Normal skin Normal skin Melanoma Normal skin Melanoma Melanoma Melanoma Monkeypox Melanoma Melanoma Melanoma Cyst, tumour and skin-tags Monkeypox Normal skin Normal skin Normal skin Acne Monkeypox Melanoma Normal skin Normal skin Monkeypox Normal skin Monkeypox Monkeypox Acne Normal skin Melanoma Cyst, tumour and skin-tags Normal skin Cyst, tumour and skin-tags Normal skin Monkeypox Melanoma Melanoma Monkeypox Monkeypox Acne Melanoma Monkeypox Cyst, tumour and skin-tags Normal skin Monkeypox Monkeypox Normal skin Acne Acne Monkeypox Acne Cyst, tumour and skin-tags Melanoma Monkeypox Acne Acne Melanoma Acne Normal skin Normal skin Cyst, tumour and skin-tags Melanoma Cyst, tumour and skin-tags Acne Melanoma Normal skin Cyst, tumour and skin-tags Acne Acne Melanoma Monkeypox Cyst, tumour and skin-tags Normal skin Normal skin Normal skin Normal skin Acne Monkeypox Monkeypox Melanoma Normal skin Cyst, tumour and skin-tags Monkeypox Monkeypox Melanoma Normal skin Monkeypox Acne Monkeypox Acne Acne Monkeypox Melanoma Melanoma Monkeypox Monkeypox Normal skin Monkeypox Acne Cyst, tumour and skin-tags Cyst, tumour and skin-tags Monkeypox Acne Melanoma Normal skin Monkeypox Monkeypox Cyst, tumour and skin-tags Normal skin Acne Melanoma Monkeypox Monkeypox Cyst, tumour and skin-tags Monkeypox Normal skin Acne Cyst, tumour and skin-tags Monkeypox Cyst, tumour and skin-tags Normal skin Acne Melanoma Normal skin Melanoma Normal skin Acne Acne Normal skin Acne Normal skin Normal skin Monkeypox Normal skin Melanoma Normal skin Monkeypox Melanoma Acne Acne Acne Monkeypox Melanoma Cyst, tumour and skin-tags Monkeypox Cyst, tumour and skin-tags Melanoma Monkeypox Normal skin Monkeypox Monkeypox Normal skin Monkeypox Monkeypox Monkeypox Monkeypox Melanoma Normal skin Monkeypox Normal skin Monkeypox Monkeypox Cyst, tumour and skin-tags Melanoma Acne Monkeypox Monkeypox Acne Cyst, tumour and skin-tags Acne Acne Normal skin Monkeypox Normal skin Cyst, tumour and skin-tags Melanoma Cyst, tumour and skin-tags Acne Acne Acne Melanoma Acne Monkeypox Acne Normal skin Cyst, tumour and skin-tags Normal skin Cyst, tumour and skin-tags Monkeypox Normal skin Melanoma Monkeypox Cyst, tumour and skin-tags Melanoma Monkeypox Normal skin Acne Cyst, tumour and skin-tags Monkeypox Melanoma Cyst, tumour and skin-tags Acne Acne Cyst, tumour and skin-tags Monkeypox Melanoma Normal skin Monkeypox Normal skin Monkeypox Cyst, tumour and skin-tags Melanoma Acne Cyst, tumour and skin-tags Acne Melanoma Acne Monkeypox Cyst, tumour and skin-tags Normal skin Melanoma Cyst, tumour and skin-tags Normal skin Monkeypox Cyst, tumour and skin-tags Cyst, tumour and skin-tags Acne Cyst, tumour and skin-tags Monkeypox Normal skin Melanoma Cyst, tumour and skin-tags Monkeypox Monkeypox Melanoma Normal skin Normal skin Melanoma Cyst, tumour and skin-tags Acne Melanoma Acne Cyst, tumour and skin-tags Normal skin Monkeypox Cyst, tumour and skin-tags Cyst, tumour and skin-tags Cyst, tumour and skin-tags Monkeypox Cyst, tumour and skin-tags Melanoma Normal skin Monkeypox Cyst, tumour and skin-tags Melanoma Monkeypox Acne Cyst, tumour and skin-tags Normal skin Monkeypox Normal skin Melanoma Monkeypox Melanoma Normal skin Cyst, tumour and skin-tags Melanoma Acne Melanoma Normal skin Cyst, tumour and skin-tags Normal skin Acne Monkeypox Monkeypox Cyst, tumour and skin-tags Acne Melanoma Melanoma Melanoma Cyst, tumour and skin-tags Normal skin Normal skin Monkeypox Cyst, tumour and skin-tags Melanoma Monkeypox Melanoma Monkeypox Normal skin Normal skin Melanoma Acne Acne Melanoma Normal skin Monkeypox Monkeypox Normal skin Cyst, tumour and skin-tags Monkeypox Melanoma Monkeypox Acne Acne Monkeypox Melanoma Cyst, tumour and skin-tags Cyst, tumour and skin-tags Melanoma Normal skin Normal skin Melanoma Cyst, tumour and skin-tags Normal skin Monkeypox Acne Cyst, tumour and skin-tags Acne Normal skin Monkeypox Normal skin Cyst, tumour and skin-tags Normal skin Cyst, tumour and skin-tags Normal skin Cyst, tumour and skin-tags Normal skin Monkeypox Monkeypox Monkeypox Acne Melanoma Cyst, tumour and skin-tags Normal skin Acne Monkeypox Monkeypox Melanoma Normal skin Monkeypox Melanoma Cyst, tumour and skin-tags Melanoma Cyst, tumour and skin-tags Monkeypox Monkeypox Acne Monkeypox Monkeypox Normal skin Cyst, tumour and skin-tags Normal skin Normal skin Monkeypox Melanoma Melanoma Normal skin Monkeypox Melanoma Normal skin Monkeypox Acne Acne Cyst, tumour and skin-tags Normal skin Monkeypox Acne Normal skin Normal skin Normal skin Cyst, tumour and skin-tags Melanoma Melanoma Melanoma Acne Normal skin Cyst, tumour and skin-tags Cyst, tumour and skin-tags Monkeypox Monkeypox Melanoma Monkeypox Monkeypox Cyst, tumour and skin-tags Monkeypox Melanoma Cyst, tumour and skin-tags Normal skin Melanoma Melanoma Monkeypox Monkeypox Melanoma Monkeypox Acne Normal skin Normal skin Monkeypox Acne Melanoma Melanoma Melanoma Monkeypox Melanoma Cyst, tumour and skin-tags Acne Cyst, tumour and skin-tags Normal skin Normal skin Acne Normal skin Melanoma Normal skin Melanoma Monkeypox Monkeypox Melanoma Monkeypox Monkeypox Normal skin Normal skin Melanoma Normal skin Normal skin Melanoma Acne Melanoma Monkeypox Normal skin Monkeypox Cyst, tumour and skin-tags Normal skin Monkeypox Melanoma Normal skin Cyst, tumour and skin-tags Monkeypox Normal skin Monkeypox Normal skin Cyst, tumour and skin-tags Acne Cyst, tumour and skin-tags Normal skin Monkeypox Acne Normal skin Monkeypox Monkeypox Melanoma Cyst, tumour and skin-tags Monkeypox Monkeypox Melanoma Cyst, tumour and skin-tags Melanoma Monkeypox Monkeypox Cyst, tumour and skin-tags Cyst, tumour and skin-tags Acne Cyst, tumour and skin-tags Cyst, tumour and skin-tags Normal skin Monkeypox Normal skin Melanoma Cyst, tumour and skin-tags Melanoma Monkeypox Melanoma Monkeypox Monkeypox Monkeypox Acne Melanoma Cyst, tumour and skin-tags Acne Normal skin Cyst, tumour and skin-tags Cyst, tumour and skin-tags Normal skin Melanoma Acne Melanoma Melanoma Melanoma Normal skin Melanoma Acne Monkeypox Normal skin Monkeypox Cyst, tumour and skin-tags Cyst, tumour and skin-tags Melanoma Melanoma Acne Normal skin Cyst, tumour and skin-tags Normal skin Cyst, tumour and skin-tags Melanoma Normal skin Cyst, tumour and skin-tags Normal skin Cyst, tumour and skin-tags Monkeypox Normal skin Acne Cyst, tumour and skin-tags Normal skin Normal skin Monkeypox Monkeypox Normal skin Melanoma Cyst, tumour and skin-tags Monkeypox Normal skin Cyst, tumour and skin-tags Normal skin Monkeypox Monkeypox Normal skin Normal skin Melanoma Normal skin Normal skin Normal skin Melanoma Melanoma Monkeypox Monkeypox Cyst, tumour and skin-tags Normal skin Melanoma Melanoma Normal skin Acne Monkeypox Cyst, tumour and skin-tags Cyst, tumour and skin-tags Monkeypox Melanoma Melanoma Acne Cyst, tumour and skin-tags Melanoma Acne Normal skin Cyst, tumour and skin-tags Melanoma Normal skin Cyst, tumour and skin-tags Cyst, tumour and skin-tags Melanoma Acne Cyst, tumour and skin-tags Melanoma Normal skin Cyst, tumour and skin-tags Acne Monkeypox Normal skin Melanoma Cyst, tumour and skin-tags Normal skin Cyst, tumour and skin-tags Monkeypox Monkeypox Cyst, tumour and skin-tags Monkeypox Cyst, tumour and skin-tags Normal skin Normal skin Normal skin Melanoma Normal skin Normal skin Monkeypox Normal skin Acne Acne Cyst, tumour and skin-tags Cyst, tumour and skin-tags Normal skin Cyst, tumour and skin-tags Monkeypox Monkeypox Cyst, tumour and skin-tags Melanoma Monkeypox Melanoma Acne Cyst, tumour and skin-tags Acne Normal skin Normal skin Monkeypox Monkeypox Normal skin Monkeypox Melanoma Monkeypox Cyst, tumour and skin-tags Normal skin Cyst, tumour and skin-tags Monkeypox Normal skin Normal skin Normal skin Acne Cyst, tumour and skin-tags Monkeypox Normal skin Cyst, tumour and skin-tags Melanoma Cyst, tumour and skin-tags Cyst, tumour and skin-tags Monkeypox Melanoma Monkeypox Normal skin Melanoma Melanoma Acne Cyst, tumour and skin-tags Melanoma Monkeypox Acne Normal skin Monkeypox Melanoma Melanoma Melanoma Monkeypox Melanoma Normal skin Monkeypox Cyst, tumour and skin-tags Cyst, tumour and skin-tags Normal skin Cyst, tumour and skin-tags Acne Normal skin Monkeypox Cyst, tumour and skin-tags Melanoma Monkeypox Cyst, tumour and skin-tags Normal skin Cyst, tumour and skin-tags Cyst, tumour and skin-tags Cyst, tumour and skin-tags Cyst, tumour and skin-tags Melanoma Cyst, tumour and skin-tags Monkeypox Normal skin Normal skin Monkeypox Normal skin Normal skin Melanoma Monkeypox Melanoma Cyst, tumour and skin-tags Cyst, tumour and skin-tags Monkeypox Melanoma Cyst, tumour and skin-tags Cyst, tumour and skin-tags Acne Monkeypox Normal skin Melanoma Melanoma Acne Monkeypox Melanoma Normal skin Normal skin Monkeypox Monkeypox Monkeypox Normal skin Normal skin Melanoma Monkeypox Monkeypox Normal skin Melanoma Monkeypox Melanoma Melanoma Monkeypox Normal skin Monkeypox Monkeypox Normal skin Acne Normal skin Cyst, tumour and skin-tags Melanoma Acne Normal skin Melanoma Melanoma Melanoma Cyst, tumour and skin-tags Melanoma Monkeypox Normal skin Monkeypox Monkeypox Normal skin\n"
     ]
    }
   ],
   "source": [
    "import numpy as np\n",
    "abc_array = np.array(['B', 'D', 'A', 'F', 'H', 'I', 'Z', 'J'])\n",
    "\n",
    "transdict = {0: 'Acne',\n",
    "             1: 'Cyst, tumour and skin-tags',\n",
    "             2: 'Melanoma',\n",
    "             3: 'Monkeypox',\n",
    "             4: 'Normal skin'\n",
    "}\n",
    "\n",
    "phoenetic = [transdict[letter] for letter in y]\n",
    "print(' '.join(phoenetic))"
   ]
  },
  {
   "cell_type": "code",
   "execution_count": 37,
   "metadata": {},
   "outputs": [
    {
     "name": "stdout",
     "output_type": "stream",
     "text": [
      "Others Monkeypox Others Others Others Others Others Others Others Others Others Others Others Others Monkeypox Others Others Others Others Others Monkeypox Others Monkeypox Others Others Others Others Others Others Monkeypox Monkeypox Others Others Others Monkeypox Monkeypox Others Others Others Monkeypox Others Others Others Others Others Others Others Monkeypox Others Others Others Others Others Monkeypox Others Monkeypox Monkeypox Monkeypox Monkeypox Others Monkeypox Others Others Others Others Others Others Monkeypox Others Others Others Monkeypox Monkeypox Others Monkeypox Others Others Others Others Others Others Others Others Others Monkeypox Others Others Others Others Others Others Others Others Others Others Monkeypox Others Others Others Others Monkeypox Monkeypox Others Others Others Others Others Others Others Others Others Others Others Others Others Monkeypox Monkeypox Others Monkeypox Others Monkeypox Others Others Others Others Others Others Others Others Others Others Others Others Monkeypox Others Others Others Others Others Others Others Others Others Monkeypox Monkeypox Others Others Others Others Others Others Others Others Others Others Others Others Others Others Monkeypox Monkeypox Others Others Others Monkeypox Others Monkeypox Monkeypox Others Others Others Others Monkeypox Others Monkeypox Others Others Others Others Others Others Others Others Others Others Monkeypox Others Others Others Monkeypox Others Others Others Monkeypox Others Others Others Monkeypox Others Others Others Monkeypox Others Others Others Others Others Others Others Others Others Others Others Monkeypox Monkeypox Monkeypox Others Others Others Others Others Others Others Others Others Monkeypox Others Others Others Others Monkeypox Others Others Others Others Others Monkeypox Others Others Others Others Others Others Monkeypox Others Others Others Monkeypox Others Others Others Others Others Others Others Others Monkeypox Others Others Others Others Others Others Others Monkeypox Others Monkeypox Others Others Others Monkeypox Others Others Others Others Others Others Others Others Others Others Others Others Others Others Others Others Monkeypox Others Others Others Others Monkeypox Others Others Others Others Monkeypox Others Monkeypox Others Others Others Others Others Others Others Others Others Others Others Others Others Others Others Others Monkeypox Others Others Others Others Others Others Others Others Monkeypox Monkeypox Others Others Others Monkeypox Others Monkeypox Others Monkeypox Monkeypox Others Others Others Others Others Others Others Others Others Others Others Others Others Others Others Others Others Monkeypox Others Others Monkeypox Monkeypox Others Others Monkeypox Others Others Others Others Others Others Others Others Monkeypox Others Monkeypox Monkeypox Others Monkeypox Others Monkeypox Others Others Monkeypox Monkeypox Others Others Others Monkeypox Others Others Others Others Others Others Others Monkeypox Others Others Others Others Others Monkeypox Others Others Monkeypox Others Others Others Others Others Others Monkeypox Monkeypox Monkeypox Monkeypox Monkeypox Others Others Others Monkeypox Monkeypox Others Others Others Others Others Monkeypox Others Monkeypox Others Monkeypox Others Others Monkeypox Others Monkeypox Monkeypox Others Others Monkeypox Others Others Others Monkeypox Others Others Others Others Others Others Monkeypox Others Others Others Others Others Monkeypox Others Others Others Others Others Others Others Others Others Others Others Others Others Others Others Others Others Others Monkeypox Monkeypox Monkeypox Others Others Others Monkeypox Monkeypox Others Others Others Others Others Others Others Monkeypox Others Others Others Others Monkeypox Others Others Others Others Monkeypox Others Others Others Monkeypox Monkeypox Others Monkeypox Monkeypox Monkeypox Others Monkeypox Others Monkeypox Others Others Others Monkeypox Others Others Others Others Others Others Others Others Monkeypox Others Others Others Monkeypox Others Others Others Monkeypox Others Others Others Others Monkeypox Others Others Others Others Others Others Others Others Monkeypox Others Monkeypox Monkeypox Others Others Others Monkeypox Monkeypox Others Others Others Others Others Others Others Others Monkeypox Others Others Others Others Others Others Others Monkeypox Others Others Others Others Others Monkeypox Others Monkeypox Monkeypox Monkeypox Others Monkeypox Others Others Others Others Others Others Monkeypox Monkeypox Others Monkeypox Others Others Others Others Others Others Others Others Others Others Others Others Others Others Others Monkeypox Others Monkeypox Others Others Monkeypox Others Monkeypox Monkeypox Others Others Others Others Others Others Monkeypox Others Others Monkeypox Others Others Others Monkeypox Others Others Others Others Others Others Others Others Others Others Others Others Monkeypox Others Others Others Others Monkeypox Others Monkeypox Others Others Others Others Monkeypox Monkeypox Others Monkeypox Others Others Others Others Others Monkeypox Others Others Others Others Others Monkeypox Others Others Others Monkeypox Others Others Others Others Monkeypox Others Monkeypox Others Others Others Monkeypox Others Monkeypox Others Others Others Others Others Others Others Monkeypox Others Others Others Others Others Others Monkeypox Others Others Others Monkeypox Others Others Others Others Others Others Others Others Monkeypox Others Others Others Others Others Others Monkeypox Others Others Others Others Others Monkeypox Monkeypox Others Others Others Others Others Others Monkeypox Others Others Others Others Monkeypox Others Others Others Others Others Monkeypox Others Others Others Others Monkeypox Others Others Others Others Others Monkeypox Others Monkeypox Others Monkeypox Monkeypox Monkeypox Monkeypox Others Others Monkeypox Others Others Others Others Others Others Others Others Others Monkeypox Others Monkeypox Others Others Others Others Others Monkeypox Others Others Others Others Others Others Others Others Others Others Others Others Monkeypox Monkeypox Monkeypox Others Others Others Others Others Others Others Others Others Others Others Others Others Monkeypox Others Others Others Others Others Monkeypox Monkeypox Others Monkeypox Monkeypox Others Others Monkeypox Others Others Others Monkeypox Monkeypox Others Others Others Others Others Others Others Others Monkeypox Others Others Monkeypox Others Monkeypox Others Monkeypox Others Others Others Monkeypox Monkeypox Others Others Monkeypox Others Monkeypox Others Monkeypox Others Others Others Others Others Monkeypox Monkeypox Others Monkeypox Others Others Others Others Monkeypox Monkeypox Monkeypox Monkeypox Monkeypox Monkeypox Others Others Others Others Others Others Others Others Others Monkeypox Monkeypox Others Others Others Others Others Monkeypox Others Others Others Others Others Others Monkeypox Monkeypox Monkeypox Others Others Others Others Others Others Others Others Others Monkeypox Others Others Monkeypox Others Monkeypox Others Monkeypox Others Others Monkeypox Monkeypox Others Others Others Others Others Monkeypox Monkeypox Others Others Others Others Others Others Monkeypox Others Others Others Others Others Others Others Others Others Monkeypox Others Others Monkeypox Monkeypox Others Monkeypox Others Monkeypox Others Others Others Monkeypox Others Others Others Others Monkeypox Others Others Others Others Others Others Others Others Others Others Others Others Others Others Monkeypox Others Others Monkeypox Others Others Monkeypox Monkeypox Others Others Others Others Others Monkeypox Monkeypox Others Monkeypox Others Others Others Others Others Monkeypox Others Others Others Others Others Others Others Others Others Others Others Others Others Monkeypox Others Others Others Others Others Monkeypox Others Others Others Others Others Others Others Monkeypox Others Others Others Others Others Others Others Others Others Monkeypox Others Others Others Others Others Others Others Others Monkeypox Monkeypox Others Others Others Monkeypox Others Others Monkeypox Others Others Others Others Monkeypox Others Others Others Others Others Others Others Monkeypox Others Monkeypox Monkeypox Others Others Monkeypox Others Others Others Monkeypox Others Others Others Others Others Others Others Monkeypox Others Others Others Others Monkeypox Others Monkeypox Others Others Others Monkeypox Others Others Others Others Others Others Others Others Others Others Others Monkeypox Others Others Others Monkeypox Others Others Others Others Others Others Others Others Others Monkeypox Others Others Monkeypox Monkeypox Monkeypox Others Monkeypox Monkeypox Others Others Others Monkeypox Others Others Others Others Others Others Monkeypox Others Others Others Others Others Others Others Others Others Others Others Others Others Monkeypox Others Monkeypox Monkeypox Monkeypox Monkeypox Others Monkeypox Others Others Others Others Others Others Others Others Others Monkeypox Monkeypox Others Monkeypox Others Monkeypox Others Monkeypox Others Others Others Monkeypox Others Monkeypox Others Others Monkeypox Others Others Monkeypox Others Monkeypox Others Others Others Others Others Others Others Monkeypox Others Monkeypox Others Others Monkeypox Others Others Others Others Others Others Others Monkeypox Others Others Others Monkeypox Others Others Others Others Others Monkeypox Others Others Others Others Monkeypox Others Others Others Others Others Monkeypox Others Others Others Others Monkeypox Others Monkeypox Others Others Others Others Others Others Others Others Others Monkeypox Others Others Others Monkeypox Monkeypox Others Monkeypox Monkeypox Monkeypox Others Monkeypox Others Others Others Monkeypox Others Others Others Monkeypox Monkeypox Others Others Others Monkeypox Others Monkeypox Others Others Monkeypox Others Others Others Others Monkeypox Others Others Others Others Monkeypox Others Others Others Monkeypox Others Monkeypox Others Others Monkeypox Monkeypox Monkeypox Others Others Others Others Others Monkeypox Others Others Others Others Others Others Others Others Others Others Others Others Others Monkeypox Others Others Monkeypox Others Others Others Others Others Others Others Others Others Monkeypox Others Others Others Others Others Monkeypox Monkeypox Monkeypox Others Others Others Others Others Monkeypox Others Others Others Others Monkeypox Others Others Others Monkeypox Others Monkeypox Others Others Others Monkeypox Monkeypox Monkeypox Others Others Others Others Monkeypox Others Monkeypox Others Others Others Monkeypox Others Monkeypox Others Others Others Others Others Monkeypox Others Others Monkeypox Monkeypox Others Monkeypox Others Others Others Others Others Monkeypox Others Others Monkeypox Others Monkeypox Others Others Others Monkeypox Others Others Monkeypox Others Others Monkeypox Monkeypox Others Monkeypox Monkeypox Monkeypox Others Others Others Others Others Others Others Others Others Monkeypox Others Monkeypox Monkeypox Monkeypox Others Others Others Monkeypox Others Others Others Others Others Monkeypox Others Others Others Others Others Others Monkeypox Others Others Others Others Others Monkeypox Others Others Monkeypox Monkeypox Others Others Others Others Others Monkeypox Others Monkeypox Others Others Others Others Others Others Others Others Others Others Others Monkeypox Others Others Monkeypox Others Monkeypox Others Others Others Others Others Others Others Others Others Others Others Others Others Others Others Monkeypox Others Monkeypox Others Monkeypox Others Others Monkeypox Others Monkeypox Others Others Others Monkeypox Others Monkeypox Others Monkeypox Others Others Others Monkeypox Others Others Monkeypox Monkeypox Others Others Monkeypox Monkeypox Others Monkeypox Monkeypox Monkeypox Others Others Others Monkeypox Others Others Others Others Others Others Others Others Others Others Others Monkeypox Others Others Others Others Others Others Monkeypox Others Others Others Monkeypox Others Others Others Others Others Others Others Others Others Others Monkeypox Others Others Others Others Others Others Others Others Monkeypox Monkeypox Others Others Others Monkeypox Monkeypox Others Monkeypox Others Others Monkeypox Others Monkeypox Monkeypox Others Others Monkeypox Others Others Others Others Monkeypox Others Monkeypox Others Others Monkeypox Others Others Others Others Others Others Others Others Others Others Monkeypox Others Others Others Others Others Others Others Others Others Others Others Others Others Monkeypox Others Others Others Others Others Others Monkeypox Others Monkeypox Monkeypox Monkeypox Monkeypox Others Others Others Others Others Others Others Monkeypox Others Others Monkeypox Others Others Others Others Others Monkeypox Others Monkeypox Others Monkeypox Others Monkeypox Monkeypox Monkeypox Others Others Others Others Others Others Others Others Others Others Others Others Others Monkeypox Others Others Others Others Others Others Others Others Monkeypox Others Others Others Others Others Monkeypox Monkeypox Monkeypox Others Monkeypox Others Others Monkeypox Others Others Monkeypox Others Others Others Monkeypox Others Others Others Others Others Others Monkeypox Others Others Others Monkeypox Others Monkeypox Others Monkeypox Others Others Others Monkeypox Monkeypox Others Monkeypox Others Others Monkeypox Others Others Others Monkeypox Others Others Others Others Monkeypox Others Others Others Others Others Others Others Others Monkeypox Others Others Monkeypox Monkeypox Monkeypox Others Others Others Monkeypox Others Monkeypox Others Others Others Others Monkeypox Others Others Others Others Others Monkeypox Others Others Others Others Others Others Others Others Others Others Monkeypox Others Monkeypox Others Monkeypox Monkeypox Others Others Others Others Others Others Others Others Others Others Others Others Others Others Others Others Monkeypox Others Others Others Others Monkeypox Others Others Others Monkeypox Others Others Others Others Others Others Monkeypox Others Others Others Others Monkeypox Others Others Others Others Others Others Others Others Others Monkeypox Others Others Others Others Others Others Others Monkeypox Monkeypox Others Others Others Others Monkeypox Others Others Others Monkeypox Others Others Others Others Monkeypox Others Others Others Others Others Monkeypox Others Others Others Others Monkeypox Monkeypox Others Others Others Monkeypox Others Others Monkeypox Others Monkeypox Others Others Others Others Monkeypox Monkeypox Others Others Monkeypox Others Monkeypox Monkeypox Others Others Others Others Others Others Monkeypox Monkeypox Others Others Others Others Others Others Others Monkeypox Others Others Others Monkeypox Others Others Others Monkeypox Others Monkeypox Others Others Others Others Others Others Monkeypox Others Others Others Others Others Others Others Monkeypox Others Others Monkeypox Others Others Others Others Monkeypox Others Others Others Others Others Monkeypox Others Others Others Others Others Others Others Others Others Monkeypox Others Others Others Others Others Others Others Others Others Monkeypox Others Others Others Others Others Others Others Others Others Others Others Others Others Others Others Monkeypox Others Others Others Others Monkeypox Monkeypox Others Others Others Others Others Monkeypox Others Others Others Others Others Monkeypox Monkeypox Others Others Others Others Monkeypox Monkeypox Others Others Others Others Others Others Others Monkeypox Others Others Monkeypox Others Others Others Others Others Others Others Monkeypox Others Others Others Others Others Others Others Others Others Others Others Others Others Monkeypox Others Others Monkeypox Others Others Others Others Others Monkeypox Others Monkeypox Others Others Monkeypox Others Others Others Others Others Others Others Others Others Others Monkeypox Others Others Others Monkeypox Others Others Monkeypox Others Monkeypox Monkeypox Others Others Others Others Others Monkeypox Others Others Others Others Others Others Monkeypox Monkeypox Monkeypox Others Others Others Others Others Others Others Others Others Others Monkeypox Others Others Others Others Others Others Others Monkeypox Monkeypox Monkeypox Others Others Others Others Others Others Others Others Others Others Others Others Monkeypox Monkeypox Others Monkeypox Others Others Monkeypox Others Others Others Others Others Monkeypox Others Others Monkeypox Others Others Others Monkeypox Others Others Others Others Others Others Others Monkeypox Others Others Others Others Others Others Monkeypox Others Monkeypox Others Others Monkeypox Others Monkeypox Others Others Others Others Others Monkeypox Others Monkeypox Others Monkeypox Others Monkeypox Monkeypox Others Others Others Others Monkeypox Others Others Others Others Others Others Monkeypox Others Others Others Others Others Monkeypox Others Others Monkeypox Others Others Others Others Monkeypox Others Others Others Others Others Others Others Others Others Others Others Others Others Others Others Others Others Others Others Others Others Others Others Others Others Monkeypox Others Others Others Monkeypox Others Others Others Others Others Others Others Others Others Others Others Others Others Others Others Others Others Others Monkeypox Others Others Others Others Others Others Others Others Others Others Others Monkeypox Others Others Others Others Monkeypox Others Others Others Others Monkeypox Others Others Others Monkeypox Others Monkeypox Monkeypox Others Others Others Others Others Others Others Monkeypox Others Others Monkeypox Monkeypox Others Others Monkeypox Others Others Monkeypox Monkeypox Others Others Others Monkeypox Others Others Others Monkeypox Others Others Others Others Others Others Others Others Others Others Others Others Others Others Others Others Monkeypox Others Others Others Others Others Others Monkeypox Monkeypox Others Others Others Monkeypox Monkeypox Others Others Monkeypox Others Monkeypox Others Others Monkeypox Others Others Monkeypox Monkeypox Others Monkeypox Others Others Others Monkeypox Others Others Others Monkeypox Monkeypox Others Others Others Others Monkeypox Monkeypox Others Monkeypox Others Others Others Monkeypox Others Others Others Others Others Others Others Others Others Others Others Others Others Monkeypox Others Others Others Monkeypox Others Others Others Others Monkeypox Others Others Monkeypox Others Others Monkeypox Others Monkeypox Monkeypox Others Monkeypox Monkeypox Monkeypox Monkeypox Others Others Monkeypox Others Monkeypox Monkeypox Others Others Others Monkeypox Monkeypox Others Others Others Others Others Monkeypox Others Others Others Others Others Others Others Others Others Monkeypox Others Others Others Others Others Monkeypox Others Others Monkeypox Others Others Monkeypox Others Others Others Monkeypox Others Others Others Others Others Monkeypox Others Others Monkeypox Others Monkeypox Others Others Others Others Others Others Others Monkeypox Others Others Others Others Others Monkeypox Others Others Others Others Monkeypox Others Others Others Monkeypox Monkeypox Others Others Others Others Others Others Others Others Others Others Monkeypox Others Others Others Monkeypox Others Others Others Monkeypox Others Others Monkeypox Others Others Others Monkeypox Others Others Monkeypox Others Others Others Others Others Others Others Others Others Others Monkeypox Monkeypox Others Others Others Others Others Others Others Others Monkeypox Others Others Monkeypox Others Monkeypox Others Others Others Others Others Others Others Monkeypox Monkeypox Others Others Monkeypox Others Monkeypox Others Others Monkeypox Others Others Others Others Others Others Others Others Others Monkeypox Others Others Others Others Monkeypox Others Others Others Others Others Others Others Monkeypox Monkeypox Monkeypox Others Others Others Others Others Monkeypox Monkeypox Others Others Monkeypox Others Others Others Others Monkeypox Monkeypox Others Monkeypox Monkeypox Others Others Others Others Monkeypox Others Others Others Monkeypox Others Others Monkeypox Others Others Others Others Monkeypox Others Others Others Others Others Others Others Others Others Others Others Others Monkeypox Monkeypox Others Monkeypox Monkeypox Others Monkeypox Others Others Others Others Others Monkeypox Monkeypox Others Monkeypox Others Others Others Monkeypox Others Others Others Others Monkeypox Others Others Others Others Others Others Others Others Others Others Others Monkeypox Monkeypox Others Monkeypox Monkeypox Others Others Others Others Others Others Others Others Monkeypox Others Monkeypox Others Others Monkeypox Others Others Others Monkeypox Others Monkeypox Others Others Others Others Others Monkeypox Others Others Monkeypox Monkeypox Others Others Monkeypox Monkeypox Others Others Others Monkeypox Monkeypox Others Others Others Others Others Others Monkeypox Others Others Others Others Monkeypox Others Monkeypox Monkeypox Monkeypox Others Others Others Others Others Others Others Others Others Others Others Others Others Others Others Others Monkeypox Others Monkeypox Others Others Others Others Others Others Others Others Others Others Others Others Others Others Monkeypox Others Others Others Others Others Monkeypox Monkeypox Others Others Others Monkeypox Others Others Others Monkeypox Monkeypox Others Others Others Others Others Others Others Others Monkeypox Monkeypox Others Others Others Others Others Others Monkeypox Others Others Monkeypox Others Others Others Others Others Others Others Others Others Others Others Others Others Others Others Others Others Others Others Monkeypox Others Others Others Others Others Monkeypox Monkeypox Others Monkeypox Others Others Others Others Others Others Others Monkeypox Others Others Others Others Others Others Others Monkeypox Monkeypox Others Others Monkeypox Others Others Others Others Others Others Monkeypox Monkeypox Others Monkeypox Others Monkeypox Others Others Others Monkeypox Others Others Others Others Others Monkeypox Others Others Others Others Others Monkeypox Others Monkeypox Others Others Others Others Others Others Monkeypox Others Others Monkeypox Others Others Others Monkeypox Others Others Monkeypox Others Others Others Others Others Others Monkeypox Others Others Monkeypox Others Others Others Others Others Others Others Others Monkeypox Others Others Monkeypox Others Others Others Monkeypox Others Others Others Monkeypox Others Others Others Others Monkeypox Others Others Others Others Monkeypox Others Others Others Monkeypox Monkeypox Monkeypox Others Others Others Monkeypox Monkeypox Others Others Monkeypox Others Others Monkeypox Others Monkeypox Monkeypox Others Others Others Others Others Others Others Others Others Others Others Others Monkeypox Others Monkeypox Monkeypox Others\n"
     ]
    }
   ],
   "source": [
    "import numpy as np\n",
    "abc_array = np.array(['B', 'D', 'A', 'F', 'H', 'I', 'Z', 'J'])\n",
    "\n",
    "transdict = {0: 'Others',\n",
    "             1: 'Others',\n",
    "             2: 'Others',\n",
    "             3: 'Monkeypox',\n",
    "             4: 'Others'\n",
    "}\n",
    "\n",
    "phoenetic = [transdict[letter] for letter in y]\n",
    "print(' '.join(phoenetic))"
   ]
  },
  {
   "cell_type": "code",
   "execution_count": 38,
   "metadata": {},
   "outputs": [
    {
     "name": "stderr",
     "output_type": "stream",
     "text": [
      "C:\\Users\\Vipooshan\\anaconda3\\envs\\GPU\\lib\\site-packages\\seaborn\\_decorators.py:43: FutureWarning: Pass the following variable as a keyword arg: x. From version 0.12, the only valid positional argument will be `data`, and passing other arguments without an explicit keyword will result in an error or misinterpretation.\n",
      "  FutureWarning\n"
     ]
    },
    {
     "data": {
      "text/plain": [
       "<AxesSubplot:ylabel='count'>"
      ]
     },
     "execution_count": 38,
     "metadata": {},
     "output_type": "execute_result"
    },
    {
     "data": {
      "image/png": "[encoded data removed]",
      "text/plain": [
       "<Figure size 842.4x432 with 1 Axes>"
      ]
     },
     "metadata": {
      "needs_background": "light"
     },
     "output_type": "display_data"
    }
   ],
   "source": [
    "import seaborn as sns\n",
    "\n",
    "from matplotlib import rcParams\n",
    "\n",
    "# figure size in inches\n",
    "rcParams['figure.figsize'] = 11.7,6\n",
    "\n",
    "sns.countplot(phoenetic, x=\"class\")"
   ]
  },
  {
   "cell_type": "code",
   "execution_count": 23,
   "metadata": {
    "_uuid": "119bc0c7a229658321e631d4551364bfee47db33",
    "execution": {
     "iopub.execute_input": "2020-08-06T11:24:09.336271Z",
     "iopub.status.busy": "2020-08-06T11:24:09.335353Z",
     "iopub.status.idle": "2020-08-06T11:24:09.345931Z",
     "shell.execute_reply": "2020-08-06T11:24:09.347274Z"
    },
    "id": "tuUcMrLocNKY",
    "outputId": "1a5598b8-7476-4af7-8ce5-d5126ef639f3",
    "papermill": {
     "duration": 0.03253,
     "end_time": "2020-08-06T11:24:09.347445",
     "exception": false,
     "start_time": "2020-08-06T11:24:09.314915",
     "status": "completed"
    },
    "tags": []
   },
   "outputs": [
    {
     "name": "stdout",
     "output_type": "stream",
     "text": [
      "x_train shape: (2086, 224, 224, 3) y_train shape: (2086,)\n",
      "2086 train set\n",
      "899 test set\n",
      "ERROR! Session/line number was not unique in database. History logging moved to new session 2276\n"
     ]
    }
   ],
   "source": [
    "print(\"x_train shape:\", x_train.shape, \"y_train shape:\", y_train.shape)\n",
    "\n",
    "# x_train = x_train.reshape(x_train.shape[0], 28, 28)\n",
    "# x_test = x_test.reshape(x_test.shape[0], 28, 28)\n",
    "\n",
    "# Print the number of training and test datasets\n",
    "print(x_train.shape[0], 'train set')\n",
    "print(x_test.shape[0], 'test set')\n",
    "\n",
    "# Define the text labels\n",
    "fashion_mnist_labels = ['Acne',  # index 0\n",
    "                        'Cyst, tumour and skin-tags',      # index 1\n",
    "                        'Melanoma',        # index 3 \n",
    "                        'Moneypox',         # index 4\n",
    "                        'Normal skin',       # index 5\n",
    "                       ]   # index 9"
   ]
  },
  {
   "cell_type": "markdown",
   "metadata": {
    "papermill": {
     "duration": 0.01063,
     "end_time": "2020-08-06T11:24:09.369380",
     "exception": false,
     "start_time": "2020-08-06T11:24:09.358750",
     "status": "completed"
    },
    "tags": []
   },
   "source": [
    "# Class Distribution for Trainset"
   ]
  },
  {
   "cell_type": "code",
   "execution_count": null,
   "metadata": {
    "execution": {
     "iopub.execute_input": "2020-08-06T11:24:09.403006Z",
     "iopub.status.busy": "2020-08-06T11:24:09.402264Z",
     "iopub.status.idle": "2020-08-06T11:24:09.418258Z",
     "shell.execute_reply": "2020-08-06T11:24:09.419399Z"
    },
    "papermill": {
     "duration": 0.03989,
     "end_time": "2020-08-06T11:24:09.419585",
     "exception": false,
     "start_time": "2020-08-06T11:24:09.379695",
     "status": "completed"
    },
    "tags": []
   },
   "outputs": [
    {
     "name": "stderr",
     "output_type": "stream",
     "text": [
      "ERROR:root:Internal Python error in the inspect module.\n",
      "Below is the traceback from this internal error.\n",
      "\n",
      "ERROR:root:Internal Python error in the inspect module.\n",
      "Below is the traceback from this internal error.\n",
      "\n",
      "ERROR:root:Internal Python error in the inspect module.\n",
      "Below is the traceback from this internal error.\n",
      "\n"
     ]
    },
    {
     "name": "stdout",
     "output_type": "stream",
     "text": [
      "Traceback (most recent call last):\n",
      "  File \"C:\\Users\\Vipooshan\\anaconda3\\envs\\GPU\\lib\\site-packages\\IPython\\core\\interactiveshell.py\", line 3418, in run_code\n",
      "    exec(code_obj, self.user_global_ns, self.user_ns)\n",
      "  File \"<ipython-input-24-63d9445a11a7>\", line 19, in <module>\n",
      "    get_classes_distribution(x_train)\n",
      "  File \"<ipython-input-24-63d9445a11a7>\", line 6, in get_classes_distribution\n",
      "    label_counts = data[\"label\"].value_counts()\n",
      "IndexError: only integers, slices (`:`), ellipsis (`...`), numpy.newaxis (`None`) and integer or boolean arrays are valid indices\n",
      "\n",
      "During handling of the above exception, another exception occurred:\n",
      "\n",
      "Traceback (most recent call last):\n",
      "  File \"C:\\Users\\Vipooshan\\anaconda3\\envs\\GPU\\lib\\site-packages\\IPython\\core\\interactiveshell.py\", line 2045, in showtraceback\n",
      "    stb = value._render_traceback_()\n",
      "AttributeError: 'IndexError' object has no attribute '_render_traceback_'\n",
      "\n",
      "During handling of the above exception, another exception occurred:\n",
      "\n",
      "Traceback (most recent call last):\n",
      "  File \"C:\\Users\\Vipooshan\\anaconda3\\envs\\GPU\\lib\\site-packages\\IPython\\core\\ultratb.py\", line 1170, in get_records\n",
      "    return _fixed_getinnerframes(etb, number_of_lines_of_context, tb_offset)\n",
      "  File \"C:\\Users\\Vipooshan\\anaconda3\\envs\\GPU\\lib\\site-packages\\IPython\\core\\ultratb.py\", line 316, in wrapped\n",
      "    return f(*args, **kwargs)\n",
      "  File \"C:\\Users\\Vipooshan\\anaconda3\\envs\\GPU\\lib\\site-packages\\IPython\\core\\ultratb.py\", line 350, in _fixed_getinnerframes\n",
      "    records = fix_frame_records_filenames(inspect.getinnerframes(etb, context))\n",
      "  File \"C:\\Users\\Vipooshan\\anaconda3\\envs\\GPU\\lib\\inspect.py\", line 1502, in getinnerframes\n",
      "    frameinfo = (tb.tb_frame,) + getframeinfo(tb, context)\n",
      "  File \"C:\\Users\\Vipooshan\\anaconda3\\envs\\GPU\\lib\\inspect.py\", line 1460, in getframeinfo\n",
      "    filename = getsourcefile(frame) or getfile(frame)\n",
      "  File \"C:\\Users\\Vipooshan\\anaconda3\\envs\\GPU\\lib\\inspect.py\", line 696, in getsourcefile\n",
      "    if getattr(getmodule(object, filename), '__loader__', None) is not None:\n",
      "  File \"C:\\Users\\Vipooshan\\anaconda3\\envs\\GPU\\lib\\inspect.py\", line 733, in getmodule\n",
      "    if ismodule(module) and hasattr(module, '__file__'):\n",
      "  File \"C:\\Users\\Vipooshan\\anaconda3\\envs\\GPU\\lib\\site-packages\\tensorflow\\__init__.py\", line 50, in __getattr__\n",
      "    module = self._load()\n",
      "  File \"C:\\Users\\Vipooshan\\anaconda3\\envs\\GPU\\lib\\site-packages\\tensorflow\\__init__.py\", line 44, in _load\n",
      "    module = _importlib.import_module(self.__name__)\n",
      "  File \"C:\\Users\\Vipooshan\\anaconda3\\envs\\GPU\\lib\\importlib\\__init__.py\", line 127, in import_module\n",
      "    return _bootstrap._gcd_import(name[level:], package, level)\n",
      "  File \"<frozen importlib._bootstrap>\", line 1006, in _gcd_import\n",
      "  File \"<frozen importlib._bootstrap>\", line 983, in _find_and_load\n",
      "  File \"<frozen importlib._bootstrap>\", line 965, in _find_and_load_unlocked\n",
      "ModuleNotFoundError: No module named 'tensorflow_core.estimator'\n",
      "ERROR! Session/line number was not unique in database. History logging moved to new session 2280\n",
      "Traceback (most recent call last):\n",
      "  File \"C:\\Users\\Vipooshan\\anaconda3\\envs\\GPU\\lib\\site-packages\\IPython\\core\\interactiveshell.py\", line 3418, in run_code\n",
      "    exec(code_obj, self.user_global_ns, self.user_ns)\n",
      "  File \"<ipython-input-24-63d9445a11a7>\", line 19, in <module>\n",
      "    get_classes_distribution(x_train)\n",
      "  File \"<ipython-input-24-63d9445a11a7>\", line 6, in get_classes_distribution\n",
      "    label_counts = data[\"label\"].value_counts()\n",
      "IndexError: only integers, slices (`:`), ellipsis (`...`), numpy.newaxis (`None`) and integer or boolean arrays are valid indices\n",
      "\n",
      "During handling of the above exception, another exception occurred:\n",
      "\n",
      "Traceback (most recent call last):\n",
      "  File \"C:\\Users\\Vipooshan\\anaconda3\\envs\\GPU\\lib\\site-packages\\IPython\\core\\interactiveshell.py\", line 2045, in showtraceback\n",
      "    stb = value._render_traceback_()\n",
      "AttributeError: 'IndexError' object has no attribute '_render_traceback_'\n",
      "\n",
      "During handling of the above exception, another exception occurred:\n",
      "\n",
      "Traceback (most recent call last):\n",
      "  File \"C:\\Users\\Vipooshan\\anaconda3\\envs\\GPU\\lib\\site-packages\\IPython\\core\\interactiveshell.py\", line 3338, in run_ast_nodes\n",
      "    if (await self.run_code(code, result,  async_=asy)):\n",
      "  File \"C:\\Users\\Vipooshan\\anaconda3\\envs\\GPU\\lib\\site-packages\\IPython\\core\\interactiveshell.py\", line 3435, in run_code\n",
      "    self.showtraceback(running_compiled_code=True)\n",
      "  File \"C:\\Users\\Vipooshan\\anaconda3\\envs\\GPU\\lib\\site-packages\\IPython\\core\\interactiveshell.py\", line 2048, in showtraceback\n",
      "    value, tb, tb_offset=tb_offset)\n",
      "  File \"C:\\Users\\Vipooshan\\anaconda3\\envs\\GPU\\lib\\site-packages\\IPython\\core\\ultratb.py\", line 1437, in structured_traceback\n",
      "    self, etype, value, tb, tb_offset, number_of_lines_of_context)\n",
      "  File \"C:\\Users\\Vipooshan\\anaconda3\\envs\\GPU\\lib\\site-packages\\IPython\\core\\ultratb.py\", line 1337, in structured_traceback\n",
      "    self, etype, value, tb, tb_offset, number_of_lines_of_context\n",
      "  File \"C:\\Users\\Vipooshan\\anaconda3\\envs\\GPU\\lib\\site-packages\\IPython\\core\\ultratb.py\", line 1194, in structured_traceback\n",
      "    tb_offset)\n",
      "  File \"C:\\Users\\Vipooshan\\anaconda3\\envs\\GPU\\lib\\site-packages\\IPython\\core\\ultratb.py\", line 1151, in format_exception_as_a_whole\n",
      "    last_unique, recursion_repeat = find_recursion(orig_etype, evalue, records)\n",
      "  File \"C:\\Users\\Vipooshan\\anaconda3\\envs\\GPU\\lib\\site-packages\\IPython\\core\\ultratb.py\", line 451, in find_recursion\n",
      "    return len(records), 0\n",
      "TypeError: object of type 'NoneType' has no len()\n",
      "\n",
      "During handling of the above exception, another exception occurred:\n",
      "\n",
      "Traceback (most recent call last):\n",
      "  File \"C:\\Users\\Vipooshan\\anaconda3\\envs\\GPU\\lib\\site-packages\\IPython\\core\\interactiveshell.py\", line 2045, in showtraceback\n",
      "    stb = value._render_traceback_()\n",
      "AttributeError: 'TypeError' object has no attribute '_render_traceback_'\n",
      "\n",
      "During handling of the above exception, another exception occurred:\n",
      "\n",
      "Traceback (most recent call last):\n",
      "  File \"C:\\Users\\Vipooshan\\anaconda3\\envs\\GPU\\lib\\site-packages\\IPython\\core\\ultratb.py\", line 1170, in get_records\n",
      "    return _fixed_getinnerframes(etb, number_of_lines_of_context, tb_offset)\n",
      "  File \"C:\\Users\\Vipooshan\\anaconda3\\envs\\GPU\\lib\\site-packages\\IPython\\core\\ultratb.py\", line 316, in wrapped\n",
      "    return f(*args, **kwargs)\n",
      "  File \"C:\\Users\\Vipooshan\\anaconda3\\envs\\GPU\\lib\\site-packages\\IPython\\core\\ultratb.py\", line 350, in _fixed_getinnerframes\n",
      "    records = fix_frame_records_filenames(inspect.getinnerframes(etb, context))\n",
      "  File \"C:\\Users\\Vipooshan\\anaconda3\\envs\\GPU\\lib\\inspect.py\", line 1502, in getinnerframes\n",
      "    frameinfo = (tb.tb_frame,) + getframeinfo(tb, context)\n",
      "  File \"C:\\Users\\Vipooshan\\anaconda3\\envs\\GPU\\lib\\inspect.py\", line 1460, in getframeinfo\n",
      "    filename = getsourcefile(frame) or getfile(frame)\n",
      "  File \"C:\\Users\\Vipooshan\\anaconda3\\envs\\GPU\\lib\\inspect.py\", line 696, in getsourcefile\n",
      "    if getattr(getmodule(object, filename), '__loader__', None) is not None:\n",
      "  File \"C:\\Users\\Vipooshan\\anaconda3\\envs\\GPU\\lib\\inspect.py\", line 733, in getmodule\n",
      "    if ismodule(module) and hasattr(module, '__file__'):\n",
      "  File \"C:\\Users\\Vipooshan\\anaconda3\\envs\\GPU\\lib\\site-packages\\tensorflow\\__init__.py\", line 50, in __getattr__\n",
      "    module = self._load()\n",
      "  File \"C:\\Users\\Vipooshan\\anaconda3\\envs\\GPU\\lib\\site-packages\\tensorflow\\__init__.py\", line 44, in _load\n",
      "    module = _importlib.import_module(self.__name__)\n",
      "  File \"C:\\Users\\Vipooshan\\anaconda3\\envs\\GPU\\lib\\importlib\\__init__.py\", line 127, in import_module\n",
      "    return _bootstrap._gcd_import(name[level:], package, level)\n",
      "  File \"<frozen importlib._bootstrap>\", line 1006, in _gcd_import\n",
      "  File \"<frozen importlib._bootstrap>\", line 983, in _find_and_load\n",
      "  File \"<frozen importlib._bootstrap>\", line 965, in _find_and_load_unlocked\n",
      "ModuleNotFoundError: No module named 'tensorflow_core.estimator'\n",
      "Traceback (most recent call last):\n",
      "  File \"C:\\Users\\Vipooshan\\anaconda3\\envs\\GPU\\lib\\site-packages\\IPython\\core\\interactiveshell.py\", line 3418, in run_code\n",
      "    exec(code_obj, self.user_global_ns, self.user_ns)\n",
      "  File \"<ipython-input-24-63d9445a11a7>\", line 19, in <module>\n",
      "    get_classes_distribution(x_train)\n",
      "  File \"<ipython-input-24-63d9445a11a7>\", line 6, in get_classes_distribution\n",
      "    label_counts = data[\"label\"].value_counts()\n",
      "IndexError: only integers, slices (`:`), ellipsis (`...`), numpy.newaxis (`None`) and integer or boolean arrays are valid indices\n",
      "\n",
      "During handling of the above exception, another exception occurred:\n",
      "\n",
      "Traceback (most recent call last):\n",
      "  File \"C:\\Users\\Vipooshan\\anaconda3\\envs\\GPU\\lib\\site-packages\\IPython\\core\\interactiveshell.py\", line 2045, in showtraceback\n",
      "    stb = value._render_traceback_()\n",
      "AttributeError: 'IndexError' object has no attribute '_render_traceback_'\n",
      "\n",
      "During handling of the above exception, another exception occurred:\n",
      "\n",
      "Traceback (most recent call last):\n",
      "  File \"C:\\Users\\Vipooshan\\anaconda3\\envs\\GPU\\lib\\site-packages\\IPython\\core\\interactiveshell.py\", line 3338, in run_ast_nodes\n",
      "    if (await self.run_code(code, result,  async_=asy)):\n",
      "  File \"C:\\Users\\Vipooshan\\anaconda3\\envs\\GPU\\lib\\site-packages\\IPython\\core\\interactiveshell.py\", line 3435, in run_code\n",
      "    self.showtraceback(running_compiled_code=True)\n",
      "  File \"C:\\Users\\Vipooshan\\anaconda3\\envs\\GPU\\lib\\site-packages\\IPython\\core\\interactiveshell.py\", line 2048, in showtraceback\n",
      "    value, tb, tb_offset=tb_offset)\n",
      "  File \"C:\\Users\\Vipooshan\\anaconda3\\envs\\GPU\\lib\\site-packages\\IPython\\core\\ultratb.py\", line 1437, in structured_traceback\n",
      "    self, etype, value, tb, tb_offset, number_of_lines_of_context)\n",
      "  File \"C:\\Users\\Vipooshan\\anaconda3\\envs\\GPU\\lib\\site-packages\\IPython\\core\\ultratb.py\", line 1337, in structured_traceback\n",
      "    self, etype, value, tb, tb_offset, number_of_lines_of_context\n",
      "  File \"C:\\Users\\Vipooshan\\anaconda3\\envs\\GPU\\lib\\site-packages\\IPython\\core\\ultratb.py\", line 1194, in structured_traceback\n",
      "    tb_offset)\n",
      "  File \"C:\\Users\\Vipooshan\\anaconda3\\envs\\GPU\\lib\\site-packages\\IPython\\core\\ultratb.py\", line 1151, in format_exception_as_a_whole\n",
      "    last_unique, recursion_repeat = find_recursion(orig_etype, evalue, records)\n",
      "  File \"C:\\Users\\Vipooshan\\anaconda3\\envs\\GPU\\lib\\site-packages\\IPython\\core\\ultratb.py\", line 451, in find_recursion\n",
      "    return len(records), 0\n",
      "TypeError: object of type 'NoneType' has no len()\n",
      "\n",
      "During handling of the above exception, another exception occurred:\n",
      "\n",
      "Traceback (most recent call last):\n",
      "  File \"C:\\Users\\Vipooshan\\anaconda3\\envs\\GPU\\lib\\site-packages\\IPython\\core\\interactiveshell.py\", line 2045, in showtraceback\n",
      "    stb = value._render_traceback_()\n",
      "AttributeError: 'TypeError' object has no attribute '_render_traceback_'\n",
      "\n",
      "During handling of the above exception, another exception occurred:\n",
      "\n",
      "Traceback (most recent call last):\n",
      "  File \"C:\\Users\\Vipooshan\\anaconda3\\envs\\GPU\\lib\\site-packages\\IPython\\core\\interactiveshell.py\", line 2923, in _run_cell\n",
      "    return runner(coro)\n",
      "  File \"C:\\Users\\Vipooshan\\anaconda3\\envs\\GPU\\lib\\site-packages\\IPython\\core\\async_helpers.py\", line 68, in _pseudo_sync_runner\n",
      "    coro.send(None)\n",
      "  File \"C:\\Users\\Vipooshan\\anaconda3\\envs\\GPU\\lib\\site-packages\\IPython\\core\\interactiveshell.py\", line 3147, in run_cell_async\n",
      "    interactivity=interactivity, compiler=compiler, result=result)\n",
      "  File \"C:\\Users\\Vipooshan\\anaconda3\\envs\\GPU\\lib\\site-packages\\IPython\\core\\interactiveshell.py\", line 3357, in run_ast_nodes\n",
      "    self.showtraceback()\n",
      "  File \"C:\\Users\\Vipooshan\\anaconda3\\envs\\GPU\\lib\\site-packages\\IPython\\core\\interactiveshell.py\", line 2048, in showtraceback\n",
      "    value, tb, tb_offset=tb_offset)\n",
      "  File \"C:\\Users\\Vipooshan\\anaconda3\\envs\\GPU\\lib\\site-packages\\IPython\\core\\ultratb.py\", line 1437, in structured_traceback\n",
      "    self, etype, value, tb, tb_offset, number_of_lines_of_context)\n",
      "  File \"C:\\Users\\Vipooshan\\anaconda3\\envs\\GPU\\lib\\site-packages\\IPython\\core\\ultratb.py\", line 1337, in structured_traceback\n",
      "    self, etype, value, tb, tb_offset, number_of_lines_of_context\n",
      "  File \"C:\\Users\\Vipooshan\\anaconda3\\envs\\GPU\\lib\\site-packages\\IPython\\core\\ultratb.py\", line 1212, in structured_traceback\n",
      "    chained_exceptions_tb_offset)\n",
      "  File \"C:\\Users\\Vipooshan\\anaconda3\\envs\\GPU\\lib\\site-packages\\IPython\\core\\ultratb.py\", line 1151, in format_exception_as_a_whole\n",
      "    last_unique, recursion_repeat = find_recursion(orig_etype, evalue, records)\n",
      "  File \"C:\\Users\\Vipooshan\\anaconda3\\envs\\GPU\\lib\\site-packages\\IPython\\core\\ultratb.py\", line 451, in find_recursion\n",
      "    return len(records), 0\n",
      "TypeError: object of type 'NoneType' has no len()\n",
      "\n",
      "During handling of the above exception, another exception occurred:\n",
      "\n",
      "Traceback (most recent call last):\n",
      "  File \"C:\\Users\\Vipooshan\\anaconda3\\envs\\GPU\\lib\\site-packages\\IPython\\core\\interactiveshell.py\", line 2045, in showtraceback\n",
      "    stb = value._render_traceback_()\n",
      "AttributeError: 'TypeError' object has no attribute '_render_traceback_'\n",
      "\n",
      "During handling of the above exception, another exception occurred:\n",
      "\n",
      "Traceback (most recent call last):\n",
      "  File \"C:\\Users\\Vipooshan\\anaconda3\\envs\\GPU\\lib\\site-packages\\IPython\\core\\ultratb.py\", line 1170, in get_records\n",
      "    return _fixed_getinnerframes(etb, number_of_lines_of_context, tb_offset)\n",
      "  File \"C:\\Users\\Vipooshan\\anaconda3\\envs\\GPU\\lib\\site-packages\\IPython\\core\\ultratb.py\", line 316, in wrapped\n",
      "    return f(*args, **kwargs)\n",
      "  File \"C:\\Users\\Vipooshan\\anaconda3\\envs\\GPU\\lib\\site-packages\\IPython\\core\\ultratb.py\", line 350, in _fixed_getinnerframes\n",
      "    records = fix_frame_records_filenames(inspect.getinnerframes(etb, context))\n",
      "  File \"C:\\Users\\Vipooshan\\anaconda3\\envs\\GPU\\lib\\inspect.py\", line 1502, in getinnerframes\n",
      "    frameinfo = (tb.tb_frame,) + getframeinfo(tb, context)\n",
      "  File \"C:\\Users\\Vipooshan\\anaconda3\\envs\\GPU\\lib\\inspect.py\", line 1460, in getframeinfo\n",
      "    filename = getsourcefile(frame) or getfile(frame)\n",
      "  File \"C:\\Users\\Vipooshan\\anaconda3\\envs\\GPU\\lib\\inspect.py\", line 696, in getsourcefile\n",
      "    if getattr(getmodule(object, filename), '__loader__', None) is not None:\n",
      "  File \"C:\\Users\\Vipooshan\\anaconda3\\envs\\GPU\\lib\\inspect.py\", line 733, in getmodule\n",
      "    if ismodule(module) and hasattr(module, '__file__'):\n",
      "  File \"C:\\Users\\Vipooshan\\anaconda3\\envs\\GPU\\lib\\site-packages\\tensorflow\\__init__.py\", line 50, in __getattr__\n",
      "    module = self._load()\n",
      "  File \"C:\\Users\\Vipooshan\\anaconda3\\envs\\GPU\\lib\\site-packages\\tensorflow\\__init__.py\", line 44, in _load\n",
      "    module = _importlib.import_module(self.__name__)\n",
      "  File \"C:\\Users\\Vipooshan\\anaconda3\\envs\\GPU\\lib\\importlib\\__init__.py\", line 127, in import_module\n",
      "    return _bootstrap._gcd_import(name[level:], package, level)\n",
      "  File \"<frozen importlib._bootstrap>\", line 1006, in _gcd_import\n",
      "  File \"<frozen importlib._bootstrap>\", line 983, in _find_and_load\n",
      "  File \"<frozen importlib._bootstrap>\", line 965, in _find_and_load_unlocked\n",
      "ModuleNotFoundError: No module named 'tensorflow_core.estimator'\n"
     ]
    }
   ],
   "source": [
    "# Create a dictionary for each type of label \n",
    "labels = {0 : 'Acne', 1: 'Cyst, tumour and skin-tags', 2: 'Melanoma', 3: 'Moneypox', 4: 'Normal skin'}\n",
    "\n",
    "def get_classes_distribution(data):\n",
    "    # Get the count for each label\n",
    "#     label_counts = data[\"label\"].value_counts()\n",
    "\n",
    "    # Get total number of samples\n",
    "#     total_samples = len(data)\n",
    "\n",
    "\n",
    "    # Count the number of items in each class\n",
    "    for i in range(len(label_counts)):\n",
    "        label = labels[label_counts.index[i]]\n",
    "        count = label_counts.values[i]\n",
    "        percent = (count / total_samples) * 100\n",
    "        print(\"{:<20s}:   {} or {}%\".format(label, count, percent))\n",
    "\n",
    "get_classes_distribution(x_train)"
   ]
  },
  {
   "cell_type": "code",
   "execution_count": 6,
   "metadata": {
    "execution": {
     "iopub.execute_input": "2020-08-06T11:24:09.451499Z",
     "iopub.status.busy": "2020-08-06T11:24:09.450621Z",
     "iopub.status.idle": "2020-08-06T11:24:09.768383Z",
     "shell.execute_reply": "2020-08-06T11:24:09.768834Z"
    },
    "papermill": {
     "duration": 0.337803,
     "end_time": "2020-08-06T11:24:09.768980",
     "exception": false,
     "start_time": "2020-08-06T11:24:09.431177",
     "status": "completed"
    },
    "tags": []
   },
   "outputs": [
    {
     "data": {
      "image/png": "[encoded data removed]",
      "text/plain": [
       "<Figure size 864x288 with 1 Axes>"
      ]
     },
     "metadata": {
      "needs_background": "light"
     },
     "output_type": "display_data"
    }
   ],
   "source": [
    "def plot_label_per_class(data):\n",
    "    f, ax = plt.subplots(1,1, figsize=(12,4))\n",
    "    g = sns.countplot(data.label, order = data[\"label\"].value_counts().index)\n",
    "    g.set_title(\"Number of labels for each class\")\n",
    "\n",
    "    for p, label in zip(g.patches, data[\"label\"].value_counts().index):\n",
    "        g.annotate(labels[label], (p.get_x(), p.get_height()+0.1))\n",
    "    plt.show()  \n",
    "    \n",
    "plot_label_per_class(data_train)"
   ]
  },
  {
   "cell_type": "markdown",
   "metadata": {
    "papermill": {
     "duration": 0.007992,
     "end_time": "2020-08-06T11:24:09.785572",
     "exception": false,
     "start_time": "2020-08-06T11:24:09.777580",
     "status": "completed"
    },
    "tags": []
   },
   "source": [
    "# Class Distribution for Testset"
   ]
  },
  {
   "cell_type": "code",
   "execution_count": 7,
   "metadata": {
    "execution": {
     "iopub.execute_input": "2020-08-06T11:24:09.807785Z",
     "iopub.status.busy": "2020-08-06T11:24:09.806233Z",
     "iopub.status.idle": "2020-08-06T11:24:09.812988Z",
     "shell.execute_reply": "2020-08-06T11:24:09.813999Z"
    },
    "papermill": {
     "duration": 0.020493,
     "end_time": "2020-08-06T11:24:09.814175",
     "exception": false,
     "start_time": "2020-08-06T11:24:09.793682",
     "status": "completed"
    },
    "tags": []
   },
   "outputs": [
    {
     "name": "stdout",
     "output_type": "stream",
     "text": [
      "Sneaker             :   1000 or 10.0%\n",
      "Shirt               :   1000 or 10.0%\n",
      "Sandal              :   1000 or 10.0%\n",
      "Coat                :   1000 or 10.0%\n",
      "Dress               :   1000 or 10.0%\n",
      "Pullover            :   1000 or 10.0%\n",
      "Ankle Boot          :   1000 or 10.0%\n",
      "Trouser             :   1000 or 10.0%\n",
      "Bag                 :   1000 or 10.0%\n",
      "T-shirt/top         :   1000 or 10.0%\n"
     ]
    }
   ],
   "source": [
    "get_classes_distribution(data_test)"
   ]
  },
  {
   "cell_type": "code",
   "execution_count": 8,
   "metadata": {
    "execution": {
     "iopub.execute_input": "2020-08-06T11:24:09.840525Z",
     "iopub.status.busy": "2020-08-06T11:24:09.839410Z",
     "iopub.status.idle": "2020-08-06T11:24:10.073491Z",
     "shell.execute_reply": "2020-08-06T11:24:10.073955Z"
    },
    "papermill": {
     "duration": 0.251042,
     "end_time": "2020-08-06T11:24:10.074105",
     "exception": false,
     "start_time": "2020-08-06T11:24:09.823063",
     "status": "completed"
    },
    "tags": []
   },
   "outputs": [
    {
     "data": {
      "image/png": "[encoded data removed]",
      "text/plain": [
       "<Figure size 864x288 with 1 Axes>"
      ]
     },
     "metadata": {
      "needs_background": "light"
     },
     "output_type": "display_data"
    }
   ],
   "source": [
    "plot_label_per_class(data_test)"
   ]
  },
  {
   "cell_type": "markdown",
   "metadata": {
    "papermill": {
     "duration": 0.008276,
     "end_time": "2020-08-06T11:24:10.091656",
     "exception": false,
     "start_time": "2020-08-06T11:24:10.083380",
     "status": "completed"
    },
    "tags": []
   },
   "source": [
    "# Data Preprocessing"
   ]
  },
  {
   "cell_type": "code",
   "execution_count": 9,
   "metadata": {
    "_uuid": "d8e8ae9aa04d15990113bd25f717710038f51d58",
    "execution": {
     "iopub.execute_input": "2020-08-06T11:24:10.114228Z",
     "iopub.status.busy": "2020-08-06T11:24:10.113267Z",
     "iopub.status.idle": "2020-08-06T11:24:10.232547Z",
     "shell.execute_reply": "2020-08-06T11:24:10.233054Z"
    },
    "id": "4AKEmwXCcz0W",
    "papermill": {
     "duration": 0.132961,
     "end_time": "2020-08-06T11:24:10.233220",
     "exception": false,
     "start_time": "2020-08-06T11:24:10.100259",
     "status": "completed"
    },
    "tags": []
   },
   "outputs": [],
   "source": [
    "x_train = x_train.astype('float32') / 255\n",
    "x_test = x_test.astype('float32') / 255"
   ]
  },
  {
   "cell_type": "code",
   "execution_count": 10,
   "metadata": {
    "_uuid": "82b8b349217705e3e41fc3f979b32a6c8e303cd9",
    "execution": {
     "iopub.execute_input": "2020-08-06T11:24:10.261878Z",
     "iopub.status.busy": "2020-08-06T11:24:10.260890Z",
     "iopub.status.idle": "2020-08-06T11:24:10.269959Z",
     "shell.execute_reply": "2020-08-06T11:24:10.270678Z"
    },
    "id": "iO3mc8Z7dLHZ",
    "outputId": "b0a6fe6b-a226-4780-f29a-135093842fa2",
    "papermill": {
     "duration": 0.028667,
     "end_time": "2020-08-06T11:24:10.270856",
     "exception": false,
     "start_time": "2020-08-06T11:24:10.242189",
     "status": "completed"
    },
    "tags": []
   },
   "outputs": [
    {
     "name": "stdout",
     "output_type": "stream",
     "text": [
      "x_train shape: (55000, 28, 28, 1) y_train shape: (55000, 10)\n",
      "55000 train set\n",
      "5000 validation set\n",
      "10000 test set\n"
     ]
    }
   ],
   "source": [
    "# Further break training data into train / validation sets\n",
    "(x_train, x_valid) = x_train[5000:], x_train[:5000] \n",
    "(y_train, y_valid) = y_train[5000:], y_train[:5000]\n",
    "\n",
    "# Reshape input data\n",
    "x_train = x_train.reshape(x_train.shape[0], 28,28, 1)\n",
    "x_valid = x_valid.reshape(x_valid.shape[0], 28,28, 1)\n",
    "x_test = x_test.reshape(x_test.shape[0], 28,28, 1)\n",
    "\n",
    "# One-hot encode the labels\n",
    "y_train = tf.keras.utils.to_categorical(y_train, 10)\n",
    "y_valid = tf.keras.utils.to_categorical(y_valid, 10)\n",
    "y_test = tf.keras.utils.to_categorical(y_test, 10)\n",
    "\n",
    "# Print training set shape\n",
    "print(\"x_train shape:\", x_train.shape, \"y_train shape:\", y_train.shape)\n",
    "\n",
    "# Print the number of training, validation, and test datasets\n",
    "print(x_train.shape[0], 'train set')\n",
    "print(x_valid.shape[0], 'validation set')\n",
    "print(x_test.shape[0], 'test set')"
   ]
  },
  {
   "cell_type": "markdown",
   "metadata": {
    "papermill": {
     "duration": 0.008495,
     "end_time": "2020-08-06T11:24:10.289097",
     "exception": false,
     "start_time": "2020-08-06T11:24:10.280602",
     "status": "completed"
    },
    "tags": []
   },
   "source": [
    "# Class imbalance for Trainset"
   ]
  },
  {
   "cell_type": "code",
   "execution_count": 11,
   "metadata": {
    "execution": {
     "iopub.execute_input": "2020-08-06T11:24:10.318931Z",
     "iopub.status.busy": "2020-08-06T11:24:10.318110Z",
     "iopub.status.idle": "2020-08-06T11:24:10.520149Z",
     "shell.execute_reply": "2020-08-06T11:24:10.519561Z"
    },
    "papermill": {
     "duration": 0.222505,
     "end_time": "2020-08-06T11:24:10.520281",
     "exception": false,
     "start_time": "2020-08-06T11:24:10.297776",
     "status": "completed"
    },
    "tags": []
   },
   "outputs": [
    {
     "data": {
      "image/png": "[encoded data removed]",
      "text/plain": [
       "<Figure size 864x288 with 1 Axes>"
      ]
     },
     "metadata": {
      "needs_background": "light"
     },
     "output_type": "display_data"
    },
    {
     "name": "stdout",
     "output_type": "stream",
     "text": [
      "Bag                 :   5519 or 10.034545454545455%\n",
      "Sandal              :   5511 or 10.02%\n",
      "Ankle Boot          :   5506 or 10.010909090909092%\n",
      "Pullover            :   5506 or 10.010909090909092%\n",
      "Trouser             :   5500 or 10.0%\n",
      "Coat                :   5499 or 9.998181818181818%\n",
      "T-shirt/top         :   5498 or 9.996363636363636%\n",
      "Shirt               :   5492 or 9.985454545454546%\n",
      "Dress               :   5486 or 9.974545454545455%\n",
      "Sneaker             :   5483 or 9.969090909090909%\n"
     ]
    }
   ],
   "source": [
    "def plot_count_per_class(yd):\n",
    "    ydf = pd.DataFrame(yd)\n",
    "    f, ax = plt.subplots(1,1, figsize=(12,4))\n",
    "    g = sns.countplot(ydf[0], order = np.arange(0,10))\n",
    "    g.set_title(\"Number of items for each class\")\n",
    "    g.set_xlabel(\"Category\")\n",
    "    \n",
    "    for p, label in zip(g.patches, np.arange(0,10)):\n",
    "        g.annotate(labels[label], (p.get_x(), p.get_height()+0.1))\n",
    "        \n",
    "    plt.show()  \n",
    "\n",
    "def get_count_per_class(yd):\n",
    "    ydf = pd.DataFrame(yd)\n",
    "    # Get the count for each label\n",
    "    label_counts = ydf[0].value_counts()\n",
    "\n",
    "    # Get total number of samples\n",
    "    total_samples = len(yd)\n",
    "\n",
    "\n",
    "    # Count the number of items in each class\n",
    "    for i in range(len(label_counts)):\n",
    "        label = labels[label_counts.index[i]]\n",
    "        count = label_counts.values[i]\n",
    "        percent = (count / total_samples) * 100\n",
    "        print(\"{:<20s}:   {} or {}%\".format(label, count, percent))\n",
    "    \n",
    "plot_count_per_class(np.argmax(y_train,axis=1))\n",
    "get_count_per_class(np.argmax(y_train,axis=1))"
   ]
  },
  {
   "cell_type": "markdown",
   "metadata": {
    "papermill": {
     "duration": 0.008821,
     "end_time": "2020-08-06T11:24:10.539497",
     "exception": false,
     "start_time": "2020-08-06T11:24:10.530676",
     "status": "completed"
    },
    "tags": []
   },
   "source": [
    "# Class imbalance for Validationset"
   ]
  },
  {
   "cell_type": "code",
   "execution_count": 12,
   "metadata": {
    "execution": {
     "iopub.execute_input": "2020-08-06T11:24:10.562969Z",
     "iopub.status.busy": "2020-08-06T11:24:10.561854Z",
     "iopub.status.idle": "2020-08-06T11:24:10.757762Z",
     "shell.execute_reply": "2020-08-06T11:24:10.756827Z"
    },
    "papermill": {
     "duration": 0.209252,
     "end_time": "2020-08-06T11:24:10.757910",
     "exception": false,
     "start_time": "2020-08-06T11:24:10.548658",
     "status": "completed"
    },
    "tags": []
   },
   "outputs": [
    {
     "data": {
      "image/png": "[encoded data removed]",
      "text/plain": [
       "<Figure size 864x288 with 1 Axes>"
      ]
     },
     "metadata": {
      "needs_background": "light"
     },
     "output_type": "display_data"
    },
    {
     "name": "stdout",
     "output_type": "stream",
     "text": [
      "Sneaker             :   517 or 10.34%\n",
      "Dress               :   514 or 10.280000000000001%\n",
      "Shirt               :   508 or 10.16%\n",
      "T-shirt/top         :   502 or 10.040000000000001%\n",
      "Coat                :   501 or 10.02%\n",
      "Trouser             :   500 or 10.0%\n",
      "Pullover            :   494 or 9.879999999999999%\n",
      "Ankle Boot          :   494 or 9.879999999999999%\n",
      "Sandal              :   489 or 9.78%\n",
      "Bag                 :   481 or 9.62%\n"
     ]
    }
   ],
   "source": [
    "plot_count_per_class(np.argmax(y_valid,axis=1))\n",
    "get_count_per_class(np.argmax(y_valid,axis=1))"
   ]
  },
  {
   "cell_type": "markdown",
   "metadata": {
    "papermill": {
     "duration": 0.009309,
     "end_time": "2020-08-06T11:24:10.778079",
     "exception": false,
     "start_time": "2020-08-06T11:24:10.768770",
     "status": "completed"
    },
    "tags": []
   },
   "source": [
    "# Model definition and Training"
   ]
  },
  {
   "cell_type": "code",
   "execution_count": 13,
   "metadata": {
    "_uuid": "d1b6b2bbef9c364d733d43b3e4fe8e55173ebef0",
    "execution": {
     "iopub.execute_input": "2020-08-06T11:24:10.807570Z",
     "iopub.status.busy": "2020-08-06T11:24:10.806972Z",
     "iopub.status.idle": "2020-08-06T11:24:14.720994Z",
     "shell.execute_reply": "2020-08-06T11:24:14.720465Z"
    },
    "id": "RVk2c_S5dsaH",
    "outputId": "082a7229-e396-4f1d-f7e7-1efa61f771be",
    "papermill": {
     "duration": 3.933655,
     "end_time": "2020-08-06T11:24:14.721124",
     "exception": false,
     "start_time": "2020-08-06T11:24:10.787469",
     "status": "completed"
    },
    "tags": []
   },
   "outputs": [
    {
     "name": "stdout",
     "output_type": "stream",
     "text": [
      "Model: \"sequential\"\n",
      "_________________________________________________________________\n",
      "Layer (type)                 Output Shape              Param #   \n",
      "=================================================================\n",
      "conv2d (Conv2D)              (None, 28, 28, 64)        320       \n",
      "_________________________________________________________________\n",
      "max_pooling2d (MaxPooling2D) (None, 14, 14, 64)        0         \n",
      "_________________________________________________________________\n",
      "dropout (Dropout)            (None, 14, 14, 64)        0         \n",
      "_________________________________________________________________\n",
      "conv2d_1 (Conv2D)            (None, 14, 14, 64)        16448     \n",
      "_________________________________________________________________\n",
      "max_pooling2d_1 (MaxPooling2 (None, 7, 7, 64)          0         \n",
      "_________________________________________________________________\n",
      "dropout_1 (Dropout)          (None, 7, 7, 64)          0         \n",
      "_________________________________________________________________\n",
      "flatten (Flatten)            (None, 3136)              0         \n",
      "_________________________________________________________________\n",
      "dense (Dense)                (None, 256)               803072    \n",
      "_________________________________________________________________\n",
      "dropout_2 (Dropout)          (None, 256)               0         \n",
      "_________________________________________________________________\n",
      "dense_1 (Dense)              (None, 10)                2570      \n",
      "=================================================================\n",
      "Total params: 822,410\n",
      "Trainable params: 822,410\n",
      "Non-trainable params: 0\n",
      "_________________________________________________________________\n"
     ]
    }
   ],
   "source": [
    "model = tf.keras.Sequential()\n",
    "\n",
    "# Must define the input shape in the first layer of the neural network\n",
    "model.add(tf.keras.layers.Conv2D(filters=64, kernel_size=2, padding='same', activation='relu', input_shape=(28,28,1))) \n",
    "model.add(tf.keras.layers.MaxPooling2D(pool_size=2))\n",
    "model.add(tf.keras.layers.Dropout(0.2))\n",
    "\n",
    "model.add(tf.keras.layers.Conv2D(filters=64, kernel_size=2, padding='same', activation='relu'))\n",
    "model.add(tf.keras.layers.MaxPooling2D(pool_size=2))\n",
    "model.add(tf.keras.layers.Dropout(0.2))\n",
    "\n",
    "model.add(tf.keras.layers.Flatten())\n",
    "model.add(tf.keras.layers.Dense(256, activation='relu'))\n",
    "model.add(tf.keras.layers.Dropout(0.5))\n",
    "model.add(tf.keras.layers.Dense(10, activation='softmax'))\n",
    "\n",
    "# Take a look at the model summary\n",
    "model.summary()"
   ]
  },
  {
   "cell_type": "code",
   "execution_count": 14,
   "metadata": {
    "_uuid": "3910aeaf6a2a4256c0e52310054eb551ec525201",
    "execution": {
     "iopub.execute_input": "2020-08-06T11:24:14.756340Z",
     "iopub.status.busy": "2020-08-06T11:24:14.755294Z",
     "iopub.status.idle": "2020-08-06T11:24:14.762051Z",
     "shell.execute_reply": "2020-08-06T11:24:14.761420Z"
    },
    "id": "iLwc8LCXd_DS",
    "papermill": {
     "duration": 0.030066,
     "end_time": "2020-08-06T11:24:14.762164",
     "exception": false,
     "start_time": "2020-08-06T11:24:14.732098",
     "status": "completed"
    },
    "tags": []
   },
   "outputs": [],
   "source": [
    "model.compile(loss='categorical_crossentropy',\n",
    "             optimizer='adam',\n",
    "             metrics=['accuracy'])"
   ]
  },
  {
   "cell_type": "code",
   "execution_count": 15,
   "metadata": {
    "_uuid": "cce2983b37fd4b506f1ec9d53653306f640fe7b8",
    "execution": {
     "iopub.execute_input": "2020-08-06T11:24:14.788870Z",
     "iopub.status.busy": "2020-08-06T11:24:14.787545Z",
     "iopub.status.idle": "2020-08-06T11:25:37.964743Z",
     "shell.execute_reply": "2020-08-06T11:25:37.965255Z"
    },
    "id": "6T_Gaz29eFFG",
    "outputId": "4b1064ac-6339-4f37-8a94-3808a4997835",
    "papermill": {
     "duration": 83.193213,
     "end_time": "2020-08-06T11:25:37.965423",
     "exception": false,
     "start_time": "2020-08-06T11:24:14.772210",
     "status": "completed"
    },
    "tags": []
   },
   "outputs": [
    {
     "name": "stdout",
     "output_type": "stream",
     "text": [
      "Epoch 1/30\n",
      "550/550 [==============================] - 3s 5ms/step - loss: 0.5626 - accuracy: 0.7939 - val_loss: 0.3624 - val_accuracy: 0.8660\n",
      "Epoch 2/30\n",
      "550/550 [==============================] - 3s 5ms/step - loss: 0.3797 - accuracy: 0.8632 - val_loss: 0.2944 - val_accuracy: 0.8910\n",
      "Epoch 3/30\n",
      "550/550 [==============================] - 3s 5ms/step - loss: 0.3378 - accuracy: 0.8773 - val_loss: 0.2682 - val_accuracy: 0.8992\n",
      "Epoch 4/30\n",
      "550/550 [==============================] - 3s 5ms/step - loss: 0.3114 - accuracy: 0.8859 - val_loss: 0.2552 - val_accuracy: 0.9074\n",
      "Epoch 5/30\n",
      "550/550 [==============================] - 3s 5ms/step - loss: 0.2919 - accuracy: 0.8938 - val_loss: 0.2455 - val_accuracy: 0.9060\n",
      "Epoch 6/30\n",
      "550/550 [==============================] - 3s 5ms/step - loss: 0.2718 - accuracy: 0.9004 - val_loss: 0.2356 - val_accuracy: 0.9122\n",
      "Epoch 7/30\n",
      "550/550 [==============================] - 3s 5ms/step - loss: 0.2610 - accuracy: 0.9031 - val_loss: 0.2238 - val_accuracy: 0.9218\n",
      "Epoch 8/30\n",
      "550/550 [==============================] - 3s 5ms/step - loss: 0.2453 - accuracy: 0.9093 - val_loss: 0.2223 - val_accuracy: 0.9238\n",
      "Epoch 9/30\n",
      "550/550 [==============================] - 3s 5ms/step - loss: 0.2348 - accuracy: 0.9138 - val_loss: 0.2157 - val_accuracy: 0.9204\n",
      "Epoch 10/30\n",
      "550/550 [==============================] - 3s 5ms/step - loss: 0.2249 - accuracy: 0.9169 - val_loss: 0.2057 - val_accuracy: 0.9266\n",
      "Epoch 11/30\n",
      "550/550 [==============================] - 3s 5ms/step - loss: 0.2160 - accuracy: 0.9192 - val_loss: 0.2050 - val_accuracy: 0.9234\n",
      "Epoch 12/30\n",
      "550/550 [==============================] - 3s 5ms/step - loss: 0.2090 - accuracy: 0.9213 - val_loss: 0.2151 - val_accuracy: 0.9176\n",
      "Epoch 13/30\n",
      "550/550 [==============================] - 3s 5ms/step - loss: 0.2041 - accuracy: 0.9233 - val_loss: 0.2023 - val_accuracy: 0.9274\n",
      "Epoch 14/30\n",
      "550/550 [==============================] - 3s 5ms/step - loss: 0.1988 - accuracy: 0.9253 - val_loss: 0.1994 - val_accuracy: 0.9278\n",
      "Epoch 15/30\n",
      "550/550 [==============================] - 3s 5ms/step - loss: 0.1903 - accuracy: 0.9294 - val_loss: 0.1981 - val_accuracy: 0.9270\n",
      "Epoch 16/30\n",
      "550/550 [==============================] - 3s 5ms/step - loss: 0.1854 - accuracy: 0.9299 - val_loss: 0.1977 - val_accuracy: 0.9314\n",
      "Epoch 17/30\n",
      "550/550 [==============================] - 3s 5ms/step - loss: 0.1765 - accuracy: 0.9331 - val_loss: 0.1901 - val_accuracy: 0.9322\n",
      "Epoch 18/30\n",
      "550/550 [==============================] - 2s 5ms/step - loss: 0.1711 - accuracy: 0.9338 - val_loss: 0.1933 - val_accuracy: 0.9308\n",
      "Epoch 19/30\n",
      "550/550 [==============================] - 3s 5ms/step - loss: 0.1666 - accuracy: 0.9370 - val_loss: 0.1960 - val_accuracy: 0.9336\n",
      "Epoch 20/30\n",
      "550/550 [==============================] - 3s 6ms/step - loss: 0.1621 - accuracy: 0.9391 - val_loss: 0.1989 - val_accuracy: 0.9304\n",
      "Epoch 21/30\n",
      "550/550 [==============================] - 3s 5ms/step - loss: 0.1581 - accuracy: 0.9409 - val_loss: 0.2005 - val_accuracy: 0.9302\n",
      "Epoch 22/30\n",
      "550/550 [==============================] - 3s 5ms/step - loss: 0.1541 - accuracy: 0.9412 - val_loss: 0.1941 - val_accuracy: 0.9342\n",
      "Epoch 23/30\n",
      "550/550 [==============================] - 3s 5ms/step - loss: 0.1509 - accuracy: 0.9426 - val_loss: 0.1892 - val_accuracy: 0.9358\n",
      "Epoch 24/30\n",
      "550/550 [==============================] - 3s 5ms/step - loss: 0.1468 - accuracy: 0.9442 - val_loss: 0.1933 - val_accuracy: 0.9302\n",
      "Epoch 25/30\n",
      "550/550 [==============================] - 3s 5ms/step - loss: 0.1414 - accuracy: 0.9457 - val_loss: 0.1956 - val_accuracy: 0.9340\n",
      "Epoch 26/30\n",
      "550/550 [==============================] - 3s 5ms/step - loss: 0.1414 - accuracy: 0.9463 - val_loss: 0.1994 - val_accuracy: 0.9308\n",
      "Epoch 27/30\n",
      "550/550 [==============================] - 2s 5ms/step - loss: 0.1399 - accuracy: 0.9459 - val_loss: 0.1935 - val_accuracy: 0.9332\n",
      "Epoch 28/30\n",
      "550/550 [==============================] - 3s 5ms/step - loss: 0.1356 - accuracy: 0.9481 - val_loss: 0.1969 - val_accuracy: 0.9328\n",
      "Epoch 29/30\n",
      "550/550 [==============================] - 2s 5ms/step - loss: 0.1292 - accuracy: 0.9504 - val_loss: 0.2076 - val_accuracy: 0.9336\n",
      "Epoch 30/30\n",
      "550/550 [==============================] - 3s 5ms/step - loss: 0.1285 - accuracy: 0.9507 - val_loss: 0.2143 - val_accuracy: 0.9292\n"
     ]
    }
   ],
   "source": [
    "history = model.fit(x_train,y_train, batch_size=100, epochs=30, validation_data=(x_valid, y_valid))"
   ]
  },
  {
   "cell_type": "markdown",
   "metadata": {
    "papermill": {
     "duration": 0.088386,
     "end_time": "2020-08-06T11:25:38.143833",
     "exception": false,
     "start_time": "2020-08-06T11:25:38.055447",
     "status": "completed"
    },
    "tags": []
   },
   "source": [
    "# Evaluation"
   ]
  },
  {
   "cell_type": "code",
   "execution_count": 16,
   "metadata": {
    "execution": {
     "iopub.execute_input": "2020-08-06T11:25:38.338391Z",
     "iopub.status.busy": "2020-08-06T11:25:38.336764Z",
     "iopub.status.idle": "2020-08-06T11:25:38.643101Z",
     "shell.execute_reply": "2020-08-06T11:25:38.643571Z"
    },
    "papermill": {
     "duration": 0.411555,
     "end_time": "2020-08-06T11:25:38.643706",
     "exception": false,
     "start_time": "2020-08-06T11:25:38.232151",
     "status": "completed"
    },
    "tags": []
   },
   "outputs": [
    {
     "data": {
      "image/png": "[encoded data removed]",
      "text/plain": [
       "<Figure size 576x576 with 2 Axes>"
      ]
     },
     "metadata": {
      "needs_background": "light"
     },
     "output_type": "display_data"
    }
   ],
   "source": [
    "acc = history.history['accuracy']\n",
    "val_acc = history.history['val_accuracy']\n",
    "\n",
    "loss = history.history['loss']\n",
    "val_loss = history.history['val_loss']\n",
    "\n",
    "plt.figure(figsize=(8, 8))\n",
    "plt.subplot(2, 1, 1)\n",
    "plt.plot(acc, label='Training Accuracy')\n",
    "plt.plot(val_acc, label='Validation Accuracy')\n",
    "plt.legend(loc='lower right')\n",
    "plt.ylabel('Accuracy')\n",
    "plt.ylim([-1,1])\n",
    "plt.title('Training and Validation Accuracy')\n",
    "\n",
    "plt.subplot(2, 1, 2)\n",
    "plt.plot(loss, label='Training Loss')\n",
    "plt.plot(val_loss, label='Validation Loss')\n",
    "plt.legend(loc='upper right')\n",
    "plt.ylabel('Cross Entropy')\n",
    "plt.ylim([-1,1.0])\n",
    "plt.title('Training and Validation Loss')\n",
    "plt.xlabel('epoch')\n",
    "plt.show()"
   ]
  },
  {
   "cell_type": "code",
   "execution_count": 17,
   "metadata": {
    "_uuid": "cca16512f0889552a60c15ee4eeb2c1d7f666fe6",
    "execution": {
     "iopub.execute_input": "2020-08-06T11:25:38.868981Z",
     "iopub.status.busy": "2020-08-06T11:25:38.867816Z",
     "iopub.status.idle": "2020-08-06T11:25:39.599504Z",
     "shell.execute_reply": "2020-08-06T11:25:39.598844Z"
    },
    "id": "cBha2BdzeOWq",
    "outputId": "ff22eab6-2706-4035-9ad7-332a5b5820b5",
    "papermill": {
     "duration": 0.863482,
     "end_time": "2020-08-06T11:25:39.599630",
     "exception": false,
     "start_time": "2020-08-06T11:25:38.736148",
     "status": "completed"
    },
    "tags": []
   },
   "outputs": [
    {
     "name": "stdout",
     "output_type": "stream",
     "text": [
      "\n",
      " Test accuracy: 0.9315000176429749\n"
     ]
    }
   ],
   "source": [
    "# Evaluate the model on test set\n",
    "score = model.evaluate(x_test, y_test, verbose=0)\n",
    "\n",
    "# Print test accuracy\n",
    "print('\\n', 'Test accuracy:', score[1])"
   ]
  },
  {
   "cell_type": "markdown",
   "metadata": {
    "papermill": {
     "duration": 0.087679,
     "end_time": "2020-08-06T11:25:39.777397",
     "exception": false,
     "start_time": "2020-08-06T11:25:39.689718",
     "status": "completed"
    },
    "tags": []
   },
   "source": [
    "# Prediction"
   ]
  },
  {
   "cell_type": "code",
   "execution_count": 18,
   "metadata": {
    "execution": {
     "iopub.execute_input": "2020-08-06T11:25:39.958939Z",
     "iopub.status.busy": "2020-08-06T11:25:39.957749Z",
     "iopub.status.idle": "2020-08-06T11:25:40.721633Z",
     "shell.execute_reply": "2020-08-06T11:25:40.722192Z"
    },
    "papermill": {
     "duration": 0.857353,
     "end_time": "2020-08-06T11:25:40.722416",
     "exception": false,
     "start_time": "2020-08-06T11:25:39.865063",
     "status": "completed"
    },
    "tags": []
   },
   "outputs": [],
   "source": [
    "y_hat = model.predict(x_test)\n",
    "predicted_classes = model.predict_classes(x_test)\n",
    "y_true = data_test.iloc[:, 0]"
   ]
  },
  {
   "cell_type": "markdown",
   "metadata": {
    "papermill": {
     "duration": 0.087587,
     "end_time": "2020-08-06T11:25:40.898578",
     "exception": false,
     "start_time": "2020-08-06T11:25:40.810991",
     "status": "completed"
    },
    "tags": []
   },
   "source": [
    "# Classification Report"
   ]
  },
  {
   "cell_type": "code",
   "execution_count": 19,
   "metadata": {
    "execution": {
     "iopub.execute_input": "2020-08-06T11:25:41.084510Z",
     "iopub.status.busy": "2020-08-06T11:25:41.083608Z",
     "iopub.status.idle": "2020-08-06T11:25:41.114154Z",
     "shell.execute_reply": "2020-08-06T11:25:41.114662Z"
    },
    "papermill": {
     "duration": 0.128644,
     "end_time": "2020-08-06T11:25:41.114796",
     "exception": false,
     "start_time": "2020-08-06T11:25:40.986152",
     "status": "completed"
    },
    "tags": []
   },
   "outputs": [
    {
     "name": "stdout",
     "output_type": "stream",
     "text": [
      "                         precision    recall  f1-score   support\n",
      "\n",
      "Class 0 (T-shirt/top) :       0.84      0.93      0.88      1000\n",
      "    Class 1 (Trouser) :       0.99      0.99      0.99      1000\n",
      "   Class 2 (Pullover) :       0.86      0.93      0.89      1000\n",
      "      Class 3 (Dress) :       0.94      0.94      0.94      1000\n",
      "       Class 4 (Coat) :       0.92      0.88      0.90      1000\n",
      "     Class 5 (Sandal) :       0.99      0.98      0.98      1000\n",
      "      Class 6 (Shirt) :       0.87      0.73      0.79      1000\n",
      "    Class 7 (Sneaker) :       0.96      0.98      0.97      1000\n",
      "        Class 8 (Bag) :       0.98      0.99      0.98      1000\n",
      " Class 9 (Ankle Boot) :       0.98      0.97      0.97      1000\n",
      "\n",
      "               accuracy                           0.93     10000\n",
      "              macro avg       0.93      0.93      0.93     10000\n",
      "           weighted avg       0.93      0.93      0.93     10000\n",
      "\n"
     ]
    }
   ],
   "source": [
    "target_names = [\"Class {} ({}) :\".format(i,labels[i]) for i in range(10)]\n",
    "print(classification_report(y_true, predicted_classes, target_names=target_names))"
   ]
  },
  {
   "cell_type": "markdown",
   "metadata": {
    "papermill": {
     "duration": 0.08852,
     "end_time": "2020-08-06T11:25:41.294369",
     "exception": false,
     "start_time": "2020-08-06T11:25:41.205849",
     "status": "completed"
    },
    "tags": []
   },
   "source": [
    "# Predicted labels Visualization"
   ]
  },
  {
   "cell_type": "code",
   "execution_count": 20,
   "metadata": {
    "_uuid": "219bdd618fc1eaed5cf8a0de0a409a59abcdd026",
    "execution": {
     "iopub.execute_input": "2020-08-06T11:25:41.486051Z",
     "iopub.status.busy": "2020-08-06T11:25:41.480761Z",
     "iopub.status.idle": "2020-08-06T11:25:42.368746Z",
     "shell.execute_reply": "2020-08-06T11:25:42.369799Z"
    },
    "id": "9xj89DgukQry",
    "outputId": "5a468ba6-f3d8-470e-9d4f-3b93aeca16aa",
    "papermill": {
     "duration": 0.987611,
     "end_time": "2020-08-06T11:25:42.369994",
     "exception": false,
     "start_time": "2020-08-06T11:25:41.382383",
     "status": "completed"
    },
    "tags": []
   },
   "outputs": [
    {
     "data": {
      "image/png": "[encoded data removed]",
      "text/plain": [
       "<Figure size 1440x576 with 15 Axes>"
      ]
     },
     "metadata": {},
     "output_type": "display_data"
    }
   ],
   "source": [
    "figure = plt.figure(figsize=(20, 8))\n",
    "for i, index in enumerate(np.random.choice(x_test.shape[0], size=15, replace=False)):\n",
    "    ax = figure.add_subplot(3, 5, i + 1, xticks=[], yticks=[])\n",
    "    # Display each image\n",
    "    ax.imshow(np.squeeze(x_test[index]))\n",
    "    predict_index = np.argmax(y_hat[index])\n",
    "    true_index = np.argmax(y_test[index])\n",
    "    # Set the title for each image\n",
    "    ax.set_title(\"{} ({})\".format(fashion_mnist_labels[predict_index], \n",
    "                                  fashion_mnist_labels[true_index]),\n",
    "                                  color=(\"green\" if predict_index == true_index else \"red\"))"
   ]
  }
 ],
 "metadata": {
  "kernelspec": {
   "display_name": "Python 3",
   "language": "python",
   "name": "python3"
  },
  "language_info": {
   "codemirror_mode": {
    "name": "ipython",
    "version": 3
   },
   "file_extension": ".py",
   "mimetype": "text/x-python",
   "name": "python",
   "nbconvert_exporter": "python",
   "pygments_lexer": "ipython3",
   "version": "3.7.9"
  },
  "papermill": {
   "duration": 110.891471,
   "end_time": "2020-08-06T11:25:43.672327",
   "environment_variables": {},
   "exception": null,
   "input_path": "__notebook__.ipynb",
   "output_path": "__notebook__.ipynb",
   "parameters": {},
   "start_time": "2020-08-06T11:23:52.780856",
   "version": "2.1.0"
  }
 },
 "nbformat": 4,
 "nbformat_minor": 4
}
